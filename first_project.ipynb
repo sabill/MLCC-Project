{
  "nbformat": 4,
  "nbformat_minor": 0,
  "metadata": {
    "colab": {
      "name": "first-project.ipynb",
      "provenance": [],
      "collapsed_sections": [],
      "toc_visible": true,
      "include_colab_link": true
    },
    "kernelspec": {
      "name": "python3",
      "display_name": "Python 3"
    }
  },
  "cells": [
    {
      "cell_type": "markdown",
      "metadata": {
        "id": "view-in-github",
        "colab_type": "text"
      },
      "source": [
        "<a href=\"https://colab.research.google.com/github/sabill/MLCC-Project/blob/master/first_project.ipynb\" target=\"_parent\"><img src=\"https://colab.research.google.com/assets/colab-badge.svg\" alt=\"Open In Colab\"/></a>"
      ]
    },
    {
      "cell_type": "markdown",
      "metadata": {
        "id": "YIG8NESO_fm7",
        "colab_type": "text"
      },
      "source": [
        "Coba data yg klasifikasi (joint 2019 dr kaggle)"
      ]
    },
    {
      "cell_type": "code",
      "metadata": {
        "id": "zFyq10L59D98",
        "colab_type": "code",
        "colab": {}
      },
      "source": [
        "#@title Run on TensorFlow 2.x\n",
        "# %tensorflow_version 2.x"
      ],
      "execution_count": 0,
      "outputs": []
    },
    {
      "cell_type": "code",
      "metadata": {
        "id": "NbA136vl_X0M",
        "colab_type": "code",
        "colab": {}
      },
      "source": [
        "import numpy as np\n",
        "import pandas as pd\n",
        "import tensorflow as tf\n",
        "import seaborn as sns\n",
        "# from tensorflow import feature_column\n",
        "from tensorflow.keras import layers, Sequential\n",
        "from tensorflow.keras.layers import Input, Dense, Activation,Dropout\n",
        "from tensorflow.keras.models import Model\n",
        "from matplotlib import pyplot as plt\n",
        "from google.colab import files\n",
        "from sklearn.model_selection import train_test_split\n",
        "import io"
      ],
      "execution_count": 0,
      "outputs": []
    },
    {
      "cell_type": "code",
      "metadata": {
        "id": "8TtcvYPm_6L8",
        "colab_type": "code",
        "outputId": "6028c54b-595a-4796-a9a9-7838778943df",
        "colab": {
          "resources": {
            "http://localhost:8080/nbextensions/google.colab/files.js": {
              "data": "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",
              "ok": true,
              "headers": [
                [
                  "content-type",
                  "application/javascript"
                ]
              ],
              "status": 200,
              "status_text": ""
            }
          },
          "base_uri": "https://localhost:8080/",
          "height": 281
        }
      },
      "source": [
        "uploaded = files.upload()\n",
        "train_df = pd.read_csv(io.BytesIO(uploaded['train.csv']))\n",
        "\n",
        "train_df.head()"
      ],
      "execution_count": 97,
      "outputs": [
        {
          "output_type": "display_data",
          "data": {
            "text/html": [
              "\n",
              "     <input type=\"file\" id=\"files-d5e47bde-29be-483d-b5f7-dbca30f70622\" name=\"files[]\" multiple disabled />\n",
              "     <output id=\"result-d5e47bde-29be-483d-b5f7-dbca30f70622\">\n",
              "      Upload widget is only available when the cell has been executed in the\n",
              "      current browser session. Please rerun this cell to enable.\n",
              "      </output>\n",
              "      <script src=\"/nbextensions/google.colab/files.js\"></script> "
            ],
            "text/plain": [
              "<IPython.core.display.HTML object>"
            ]
          },
          "metadata": {
            "tags": []
          }
        },
        {
          "output_type": "stream",
          "text": [
            "Saving train.csv to train (6).csv\n"
          ],
          "name": "stdout"
        },
        {
          "output_type": "execute_result",
          "data": {
            "text/html": [
              "<div>\n",
              "<style scoped>\n",
              "    .dataframe tbody tr th:only-of-type {\n",
              "        vertical-align: middle;\n",
              "    }\n",
              "\n",
              "    .dataframe tbody tr th {\n",
              "        vertical-align: top;\n",
              "    }\n",
              "\n",
              "    .dataframe thead th {\n",
              "        text-align: right;\n",
              "    }\n",
              "</style>\n",
              "<table border=\"1\" class=\"dataframe\">\n",
              "  <thead>\n",
              "    <tr style=\"text-align: right;\">\n",
              "      <th></th>\n",
              "      <th>id</th>\n",
              "      <th>fac_1</th>\n",
              "      <th>fac_2</th>\n",
              "      <th>fac_3</th>\n",
              "      <th>fac_4</th>\n",
              "      <th>fac_5</th>\n",
              "      <th>fac_6</th>\n",
              "      <th>fac_7</th>\n",
              "      <th>fac_8</th>\n",
              "      <th>poi_1</th>\n",
              "      <th>poi_2</th>\n",
              "      <th>poi_3</th>\n",
              "      <th>size</th>\n",
              "      <th>price_monthly</th>\n",
              "      <th>room_count</th>\n",
              "      <th>total_call</th>\n",
              "      <th>gender</th>\n",
              "    </tr>\n",
              "  </thead>\n",
              "  <tbody>\n",
              "    <tr>\n",
              "      <th>0</th>\n",
              "      <td>1</td>\n",
              "      <td>1.0</td>\n",
              "      <td>1.0</td>\n",
              "      <td>1.0</td>\n",
              "      <td>1.0</td>\n",
              "      <td>1.0</td>\n",
              "      <td>1.0</td>\n",
              "      <td>0.0</td>\n",
              "      <td>1.0</td>\n",
              "      <td>1778.0</td>\n",
              "      <td>10038.0</td>\n",
              "      <td>4106.0</td>\n",
              "      <td>9.00</td>\n",
              "      <td>1500000.0</td>\n",
              "      <td>6.0</td>\n",
              "      <td>72</td>\n",
              "      <td>campur</td>\n",
              "    </tr>\n",
              "    <tr>\n",
              "      <th>1</th>\n",
              "      <td>2</td>\n",
              "      <td>1.0</td>\n",
              "      <td>1.0</td>\n",
              "      <td>0.0</td>\n",
              "      <td>1.0</td>\n",
              "      <td>1.0</td>\n",
              "      <td>1.0</td>\n",
              "      <td>0.0</td>\n",
              "      <td>NaN</td>\n",
              "      <td>4548.0</td>\n",
              "      <td>9332.0</td>\n",
              "      <td>6867.0</td>\n",
              "      <td>12.00</td>\n",
              "      <td>1500000.0</td>\n",
              "      <td>30.0</td>\n",
              "      <td>56</td>\n",
              "      <td>campur</td>\n",
              "    </tr>\n",
              "    <tr>\n",
              "      <th>2</th>\n",
              "      <td>3</td>\n",
              "      <td>1.0</td>\n",
              "      <td>NaN</td>\n",
              "      <td>1.0</td>\n",
              "      <td>1.0</td>\n",
              "      <td>1.0</td>\n",
              "      <td>1.0</td>\n",
              "      <td>0.0</td>\n",
              "      <td>1.0</td>\n",
              "      <td>5174.0</td>\n",
              "      <td>9021.0</td>\n",
              "      <td>3693.0</td>\n",
              "      <td>12.00</td>\n",
              "      <td>1600000.0</td>\n",
              "      <td>20.0</td>\n",
              "      <td>109</td>\n",
              "      <td>campur</td>\n",
              "    </tr>\n",
              "    <tr>\n",
              "      <th>3</th>\n",
              "      <td>4</td>\n",
              "      <td>1.0</td>\n",
              "      <td>1.0</td>\n",
              "      <td>1.0</td>\n",
              "      <td>1.0</td>\n",
              "      <td>1.0</td>\n",
              "      <td>1.0</td>\n",
              "      <td>0.0</td>\n",
              "      <td>0.0</td>\n",
              "      <td>1490.0</td>\n",
              "      <td>8954.0</td>\n",
              "      <td>2139.0</td>\n",
              "      <td>8.25</td>\n",
              "      <td>1500000.0</td>\n",
              "      <td>15.0</td>\n",
              "      <td>54</td>\n",
              "      <td>campur</td>\n",
              "    </tr>\n",
              "    <tr>\n",
              "      <th>4</th>\n",
              "      <td>5</td>\n",
              "      <td>1.0</td>\n",
              "      <td>1.0</td>\n",
              "      <td>0.0</td>\n",
              "      <td>1.0</td>\n",
              "      <td>1.0</td>\n",
              "      <td>1.0</td>\n",
              "      <td>0.0</td>\n",
              "      <td>1.0</td>\n",
              "      <td>1688.0</td>\n",
              "      <td>8851.0</td>\n",
              "      <td>2145.0</td>\n",
              "      <td>14.85</td>\n",
              "      <td>2100000.0</td>\n",
              "      <td>10.0</td>\n",
              "      <td>19</td>\n",
              "      <td>campur</td>\n",
              "    </tr>\n",
              "  </tbody>\n",
              "</table>\n",
              "</div>"
            ],
            "text/plain": [
              "   id  fac_1  fac_2  fac_3  ...  price_monthly  room_count  total_call  gender\n",
              "0   1    1.0    1.0    1.0  ...      1500000.0         6.0          72  campur\n",
              "1   2    1.0    1.0    0.0  ...      1500000.0        30.0          56  campur\n",
              "2   3    1.0    NaN    1.0  ...      1600000.0        20.0         109  campur\n",
              "3   4    1.0    1.0    1.0  ...      1500000.0        15.0          54  campur\n",
              "4   5    1.0    1.0    0.0  ...      2100000.0        10.0          19  campur\n",
              "\n",
              "[5 rows x 17 columns]"
            ]
          },
          "metadata": {
            "tags": []
          },
          "execution_count": 97
        }
      ]
    },
    {
      "cell_type": "markdown",
      "metadata": {
        "id": "RBcsxzqYFpcC",
        "colab_type": "text"
      },
      "source": [
        "Data Preprocessing"
      ]
    },
    {
      "cell_type": "code",
      "metadata": {
        "id": "b1KPLVMinOzx",
        "colab_type": "code",
        "outputId": "beeaa0b7-3e0c-43c4-99ee-cc18b4b3e6aa",
        "colab": {
          "base_uri": "https://localhost:8080/",
          "height": 323
        }
      },
      "source": [
        "#prepocessing data\n",
        "train_df.isnull().sum()"
      ],
      "execution_count": 98,
      "outputs": [
        {
          "output_type": "execute_result",
          "data": {
            "text/plain": [
              "id                0\n",
              "fac_1            63\n",
              "fac_2            74\n",
              "fac_3            62\n",
              "fac_4            71\n",
              "fac_5            72\n",
              "fac_6            64\n",
              "fac_7            78\n",
              "fac_8            68\n",
              "poi_1            67\n",
              "poi_2            67\n",
              "poi_3            86\n",
              "size             68\n",
              "price_monthly    85\n",
              "room_count       70\n",
              "total_call        0\n",
              "gender            0\n",
              "dtype: int64"
            ]
          },
          "metadata": {
            "tags": []
          },
          "execution_count": 98
        }
      ]
    },
    {
      "cell_type": "code",
      "metadata": {
        "id": "cuqjECASASC4",
        "colab_type": "code",
        "colab": {}
      },
      "source": [
        "#fill null data (fac_1 until fac_8) with mode\n",
        "for column in train_df.columns[1:9]:\n",
        "  train_df[column] = train_df[column].fillna(train_df[column]).mode()[0]"
      ],
      "execution_count": 0,
      "outputs": []
    },
    {
      "cell_type": "code",
      "metadata": {
        "id": "99Y-zXYs3cfr",
        "colab_type": "code",
        "outputId": "25670389-88ea-4ff7-8e66-651e1e66c663",
        "colab": {
          "base_uri": "https://localhost:8080/",
          "height": 323
        }
      },
      "source": [
        "train_df.isnull().sum()"
      ],
      "execution_count": 100,
      "outputs": [
        {
          "output_type": "execute_result",
          "data": {
            "text/plain": [
              "id                0\n",
              "fac_1             0\n",
              "fac_2             0\n",
              "fac_3             0\n",
              "fac_4             0\n",
              "fac_5             0\n",
              "fac_6             0\n",
              "fac_7             0\n",
              "fac_8             0\n",
              "poi_1            67\n",
              "poi_2            67\n",
              "poi_3            86\n",
              "size             68\n",
              "price_monthly    85\n",
              "room_count       70\n",
              "total_call        0\n",
              "gender            0\n",
              "dtype: int64"
            ]
          },
          "metadata": {
            "tags": []
          },
          "execution_count": 100
        }
      ]
    },
    {
      "cell_type": "code",
      "metadata": {
        "id": "rwE7tBZMCZp3",
        "colab_type": "code",
        "outputId": "e4321e6a-a1a4-454b-b041-3ea296468a7d",
        "colab": {
          "base_uri": "https://localhost:8080/",
          "height": 307
        }
      },
      "source": [
        "#Y = train_df['price_monthly']\n",
        "plt.plot('poi_1', 'price_monthly', data = train_df, marker='', color='red', linewidth=2)\n",
        "plt.plot('poi_2', 'price_monthly', data = train_df, marker='', color='orange', linewidth=2)\n",
        "\n",
        "plt.xlabel('features')\n",
        "plt.ylabel('price monthly')\n",
        "plt.legend()"
      ],
      "execution_count": 101,
      "outputs": [
        {
          "output_type": "execute_result",
          "data": {
            "text/plain": [
              "<matplotlib.legend.Legend at 0x7f6fcfe831d0>"
            ]
          },
          "metadata": {
            "tags": []
          },
          "execution_count": 101
        },
        {
          "output_type": "display_data",
          "data": {
            "image/png": "[encoded data removed]",
            "text/plain": [
              "<Figure size 432x288 with 1 Axes>"
            ]
          },
          "metadata": {
            "tags": []
          }
        }
      ]
    },
    {
      "cell_type": "code",
      "metadata": {
        "id": "gCUM4RY6yjS4",
        "colab_type": "code",
        "colab": {}
      },
      "source": [
        "#fill null data based on ratio with price monthly\n",
        "train_df['poi_1'] = train_df['poi_1'].fillna(train_df['poi_1'].mean())\n",
        "train_df['poi_2'] = train_df['poi_2'].fillna(train_df['poi_2'].mean())\n",
        "train_df['poi_3'] = train_df['poi_3'].fillna(train_df['poi_3'].mean())\n",
        "train_df['size'] = train_df['size'].fillna(train_df['size'].mean())"
      ],
      "execution_count": 0,
      "outputs": []
    },
    {
      "cell_type": "code",
      "metadata": {
        "id": "o0nyT2FEk9pF",
        "colab_type": "code",
        "outputId": "c7aa521e-3da8-4a87-8ecb-ddf431db71e6",
        "colab": {
          "base_uri": "https://localhost:8080/",
          "height": 224
        }
      },
      "source": [
        "train_df.head()"
      ],
      "execution_count": 103,
      "outputs": [
        {
          "output_type": "execute_result",
          "data": {
            "text/html": [
              "<div>\n",
              "<style scoped>\n",
              "    .dataframe tbody tr th:only-of-type {\n",
              "        vertical-align: middle;\n",
              "    }\n",
              "\n",
              "    .dataframe tbody tr th {\n",
              "        vertical-align: top;\n",
              "    }\n",
              "\n",
              "    .dataframe thead th {\n",
              "        text-align: right;\n",
              "    }\n",
              "</style>\n",
              "<table border=\"1\" class=\"dataframe\">\n",
              "  <thead>\n",
              "    <tr style=\"text-align: right;\">\n",
              "      <th></th>\n",
              "      <th>id</th>\n",
              "      <th>fac_1</th>\n",
              "      <th>fac_2</th>\n",
              "      <th>fac_3</th>\n",
              "      <th>fac_4</th>\n",
              "      <th>fac_5</th>\n",
              "      <th>fac_6</th>\n",
              "      <th>fac_7</th>\n",
              "      <th>fac_8</th>\n",
              "      <th>poi_1</th>\n",
              "      <th>poi_2</th>\n",
              "      <th>poi_3</th>\n",
              "      <th>size</th>\n",
              "      <th>price_monthly</th>\n",
              "      <th>room_count</th>\n",
              "      <th>total_call</th>\n",
              "      <th>gender</th>\n",
              "    </tr>\n",
              "  </thead>\n",
              "  <tbody>\n",
              "    <tr>\n",
              "      <th>0</th>\n",
              "      <td>1</td>\n",
              "      <td>0.0</td>\n",
              "      <td>1.0</td>\n",
              "      <td>0.0</td>\n",
              "      <td>1.0</td>\n",
              "      <td>1.0</td>\n",
              "      <td>0.0</td>\n",
              "      <td>0.0</td>\n",
              "      <td>1.0</td>\n",
              "      <td>1778.0</td>\n",
              "      <td>10038.0</td>\n",
              "      <td>4106.0</td>\n",
              "      <td>9.00</td>\n",
              "      <td>1500000.0</td>\n",
              "      <td>6.0</td>\n",
              "      <td>72</td>\n",
              "      <td>campur</td>\n",
              "    </tr>\n",
              "    <tr>\n",
              "      <th>1</th>\n",
              "      <td>2</td>\n",
              "      <td>0.0</td>\n",
              "      <td>1.0</td>\n",
              "      <td>0.0</td>\n",
              "      <td>1.0</td>\n",
              "      <td>1.0</td>\n",
              "      <td>0.0</td>\n",
              "      <td>0.0</td>\n",
              "      <td>1.0</td>\n",
              "      <td>4548.0</td>\n",
              "      <td>9332.0</td>\n",
              "      <td>6867.0</td>\n",
              "      <td>12.00</td>\n",
              "      <td>1500000.0</td>\n",
              "      <td>30.0</td>\n",
              "      <td>56</td>\n",
              "      <td>campur</td>\n",
              "    </tr>\n",
              "    <tr>\n",
              "      <th>2</th>\n",
              "      <td>3</td>\n",
              "      <td>0.0</td>\n",
              "      <td>1.0</td>\n",
              "      <td>0.0</td>\n",
              "      <td>1.0</td>\n",
              "      <td>1.0</td>\n",
              "      <td>0.0</td>\n",
              "      <td>0.0</td>\n",
              "      <td>1.0</td>\n",
              "      <td>5174.0</td>\n",
              "      <td>9021.0</td>\n",
              "      <td>3693.0</td>\n",
              "      <td>12.00</td>\n",
              "      <td>1600000.0</td>\n",
              "      <td>20.0</td>\n",
              "      <td>109</td>\n",
              "      <td>campur</td>\n",
              "    </tr>\n",
              "    <tr>\n",
              "      <th>3</th>\n",
              "      <td>4</td>\n",
              "      <td>0.0</td>\n",
              "      <td>1.0</td>\n",
              "      <td>0.0</td>\n",
              "      <td>1.0</td>\n",
              "      <td>1.0</td>\n",
              "      <td>0.0</td>\n",
              "      <td>0.0</td>\n",
              "      <td>1.0</td>\n",
              "      <td>1490.0</td>\n",
              "      <td>8954.0</td>\n",
              "      <td>2139.0</td>\n",
              "      <td>8.25</td>\n",
              "      <td>1500000.0</td>\n",
              "      <td>15.0</td>\n",
              "      <td>54</td>\n",
              "      <td>campur</td>\n",
              "    </tr>\n",
              "    <tr>\n",
              "      <th>4</th>\n",
              "      <td>5</td>\n",
              "      <td>0.0</td>\n",
              "      <td>1.0</td>\n",
              "      <td>0.0</td>\n",
              "      <td>1.0</td>\n",
              "      <td>1.0</td>\n",
              "      <td>0.0</td>\n",
              "      <td>0.0</td>\n",
              "      <td>1.0</td>\n",
              "      <td>1688.0</td>\n",
              "      <td>8851.0</td>\n",
              "      <td>2145.0</td>\n",
              "      <td>14.85</td>\n",
              "      <td>2100000.0</td>\n",
              "      <td>10.0</td>\n",
              "      <td>19</td>\n",
              "      <td>campur</td>\n",
              "    </tr>\n",
              "  </tbody>\n",
              "</table>\n",
              "</div>"
            ],
            "text/plain": [
              "   id  fac_1  fac_2  fac_3  ...  price_monthly  room_count  total_call  gender\n",
              "0   1    0.0    1.0    0.0  ...      1500000.0         6.0          72  campur\n",
              "1   2    0.0    1.0    0.0  ...      1500000.0        30.0          56  campur\n",
              "2   3    0.0    1.0    0.0  ...      1600000.0        20.0         109  campur\n",
              "3   4    0.0    1.0    0.0  ...      1500000.0        15.0          54  campur\n",
              "4   5    0.0    1.0    0.0  ...      2100000.0        10.0          19  campur\n",
              "\n",
              "[5 rows x 17 columns]"
            ]
          },
          "metadata": {
            "tags": []
          },
          "execution_count": 103
        }
      ]
    },
    {
      "cell_type": "code",
      "metadata": {
        "id": "P2Y7nSSsGIOr",
        "colab_type": "code",
        "outputId": "ec1730be-b81d-485f-ff2a-7eecd9b4b0af",
        "colab": {
          "base_uri": "https://localhost:8080/",
          "height": 323
        }
      },
      "source": [
        "train_df.isnull().sum()"
      ],
      "execution_count": 104,
      "outputs": [
        {
          "output_type": "execute_result",
          "data": {
            "text/plain": [
              "id                0\n",
              "fac_1             0\n",
              "fac_2             0\n",
              "fac_3             0\n",
              "fac_4             0\n",
              "fac_5             0\n",
              "fac_6             0\n",
              "fac_7             0\n",
              "fac_8             0\n",
              "poi_1             0\n",
              "poi_2             0\n",
              "poi_3             0\n",
              "size              0\n",
              "price_monthly    85\n",
              "room_count       70\n",
              "total_call        0\n",
              "gender            0\n",
              "dtype: int64"
            ]
          },
          "metadata": {
            "tags": []
          },
          "execution_count": 104
        }
      ]
    },
    {
      "cell_type": "code",
      "metadata": {
        "id": "UtR1n_mg1WPN",
        "colab_type": "code",
        "colab": {}
      },
      "source": [
        "# def proportion(atributs, labels):\n",
        "#   atribut = "
      ],
      "execution_count": 0,
      "outputs": []
    },
    {
      "cell_type": "code",
      "metadata": {
        "id": "xajBISLIKkxk",
        "colab_type": "code",
        "colab": {}
      },
      "source": [
        "train_df['room_count'] = train_df['room_count'].fillna(train_df['room_count'].mean())\n",
        "train_df['price_monthly'] = train_df['price_monthly'].fillna(train_df['price_monthly'].mean())"
      ],
      "execution_count": 0,
      "outputs": []
    },
    {
      "cell_type": "code",
      "metadata": {
        "id": "4mgFHcQ2K1oB",
        "colab_type": "code",
        "outputId": "eec5cfa9-caaa-4188-cd5b-ab89bdf7269a",
        "colab": {
          "base_uri": "https://localhost:8080/",
          "height": 224
        }
      },
      "source": [
        "train_df.head()"
      ],
      "execution_count": 107,
      "outputs": [
        {
          "output_type": "execute_result",
          "data": {
            "text/html": [
              "<div>\n",
              "<style scoped>\n",
              "    .dataframe tbody tr th:only-of-type {\n",
              "        vertical-align: middle;\n",
              "    }\n",
              "\n",
              "    .dataframe tbody tr th {\n",
              "        vertical-align: top;\n",
              "    }\n",
              "\n",
              "    .dataframe thead th {\n",
              "        text-align: right;\n",
              "    }\n",
              "</style>\n",
              "<table border=\"1\" class=\"dataframe\">\n",
              "  <thead>\n",
              "    <tr style=\"text-align: right;\">\n",
              "      <th></th>\n",
              "      <th>id</th>\n",
              "      <th>fac_1</th>\n",
              "      <th>fac_2</th>\n",
              "      <th>fac_3</th>\n",
              "      <th>fac_4</th>\n",
              "      <th>fac_5</th>\n",
              "      <th>fac_6</th>\n",
              "      <th>fac_7</th>\n",
              "      <th>fac_8</th>\n",
              "      <th>poi_1</th>\n",
              "      <th>poi_2</th>\n",
              "      <th>poi_3</th>\n",
              "      <th>size</th>\n",
              "      <th>price_monthly</th>\n",
              "      <th>room_count</th>\n",
              "      <th>total_call</th>\n",
              "      <th>gender</th>\n",
              "    </tr>\n",
              "  </thead>\n",
              "  <tbody>\n",
              "    <tr>\n",
              "      <th>0</th>\n",
              "      <td>1</td>\n",
              "      <td>0.0</td>\n",
              "      <td>1.0</td>\n",
              "      <td>0.0</td>\n",
              "      <td>1.0</td>\n",
              "      <td>1.0</td>\n",
              "      <td>0.0</td>\n",
              "      <td>0.0</td>\n",
              "      <td>1.0</td>\n",
              "      <td>1778.0</td>\n",
              "      <td>10038.0</td>\n",
              "      <td>4106.0</td>\n",
              "      <td>9.00</td>\n",
              "      <td>1500000.0</td>\n",
              "      <td>6.0</td>\n",
              "      <td>72</td>\n",
              "      <td>campur</td>\n",
              "    </tr>\n",
              "    <tr>\n",
              "      <th>1</th>\n",
              "      <td>2</td>\n",
              "      <td>0.0</td>\n",
              "      <td>1.0</td>\n",
              "      <td>0.0</td>\n",
              "      <td>1.0</td>\n",
              "      <td>1.0</td>\n",
              "      <td>0.0</td>\n",
              "      <td>0.0</td>\n",
              "      <td>1.0</td>\n",
              "      <td>4548.0</td>\n",
              "      <td>9332.0</td>\n",
              "      <td>6867.0</td>\n",
              "      <td>12.00</td>\n",
              "      <td>1500000.0</td>\n",
              "      <td>30.0</td>\n",
              "      <td>56</td>\n",
              "      <td>campur</td>\n",
              "    </tr>\n",
              "    <tr>\n",
              "      <th>2</th>\n",
              "      <td>3</td>\n",
              "      <td>0.0</td>\n",
              "      <td>1.0</td>\n",
              "      <td>0.0</td>\n",
              "      <td>1.0</td>\n",
              "      <td>1.0</td>\n",
              "      <td>0.0</td>\n",
              "      <td>0.0</td>\n",
              "      <td>1.0</td>\n",
              "      <td>5174.0</td>\n",
              "      <td>9021.0</td>\n",
              "      <td>3693.0</td>\n",
              "      <td>12.00</td>\n",
              "      <td>1600000.0</td>\n",
              "      <td>20.0</td>\n",
              "      <td>109</td>\n",
              "      <td>campur</td>\n",
              "    </tr>\n",
              "    <tr>\n",
              "      <th>3</th>\n",
              "      <td>4</td>\n",
              "      <td>0.0</td>\n",
              "      <td>1.0</td>\n",
              "      <td>0.0</td>\n",
              "      <td>1.0</td>\n",
              "      <td>1.0</td>\n",
              "      <td>0.0</td>\n",
              "      <td>0.0</td>\n",
              "      <td>1.0</td>\n",
              "      <td>1490.0</td>\n",
              "      <td>8954.0</td>\n",
              "      <td>2139.0</td>\n",
              "      <td>8.25</td>\n",
              "      <td>1500000.0</td>\n",
              "      <td>15.0</td>\n",
              "      <td>54</td>\n",
              "      <td>campur</td>\n",
              "    </tr>\n",
              "    <tr>\n",
              "      <th>4</th>\n",
              "      <td>5</td>\n",
              "      <td>0.0</td>\n",
              "      <td>1.0</td>\n",
              "      <td>0.0</td>\n",
              "      <td>1.0</td>\n",
              "      <td>1.0</td>\n",
              "      <td>0.0</td>\n",
              "      <td>0.0</td>\n",
              "      <td>1.0</td>\n",
              "      <td>1688.0</td>\n",
              "      <td>8851.0</td>\n",
              "      <td>2145.0</td>\n",
              "      <td>14.85</td>\n",
              "      <td>2100000.0</td>\n",
              "      <td>10.0</td>\n",
              "      <td>19</td>\n",
              "      <td>campur</td>\n",
              "    </tr>\n",
              "  </tbody>\n",
              "</table>\n",
              "</div>"
            ],
            "text/plain": [
              "   id  fac_1  fac_2  fac_3  ...  price_monthly  room_count  total_call  gender\n",
              "0   1    0.0    1.0    0.0  ...      1500000.0         6.0          72  campur\n",
              "1   2    0.0    1.0    0.0  ...      1500000.0        30.0          56  campur\n",
              "2   3    0.0    1.0    0.0  ...      1600000.0        20.0         109  campur\n",
              "3   4    0.0    1.0    0.0  ...      1500000.0        15.0          54  campur\n",
              "4   5    0.0    1.0    0.0  ...      2100000.0        10.0          19  campur\n",
              "\n",
              "[5 rows x 17 columns]"
            ]
          },
          "metadata": {
            "tags": []
          },
          "execution_count": 107
        }
      ]
    },
    {
      "cell_type": "code",
      "metadata": {
        "id": "IBJRowvRJZAU",
        "colab_type": "code",
        "outputId": "dcac24b1-5b15-4330-a3c7-778e202bbb37",
        "colab": {
          "base_uri": "https://localhost:8080/",
          "height": 280
        }
      },
      "source": [
        "sns.distplot(train_df['room_count']);"
      ],
      "execution_count": 108,
      "outputs": [
        {
          "output_type": "display_data",
          "data": {
            "image/png": "[encoded data removed]",
            "text/plain": [
              "<Figure size 432x288 with 1 Axes>"
            ]
          },
          "metadata": {
            "tags": []
          }
        }
      ]
    },
    {
      "cell_type": "code",
      "metadata": {
        "id": "QLChnC-bKMj4",
        "colab_type": "code",
        "outputId": "ba208f0b-7c1e-454d-a1b1-a05a0ea8d221",
        "colab": {
          "base_uri": "https://localhost:8080/",
          "height": 308
        }
      },
      "source": [
        "sns.distplot(train_df['price_monthly'])"
      ],
      "execution_count": 109,
      "outputs": [
        {
          "output_type": "execute_result",
          "data": {
            "text/plain": [
              "<matplotlib.axes._subplots.AxesSubplot at 0x7f6fcfd9f438>"
            ]
          },
          "metadata": {
            "tags": []
          },
          "execution_count": 109
        },
        {
          "output_type": "display_data",
          "data": {
            "image/png": "[encoded data removed]",
            "text/plain": [
              "<Figure size 432x288 with 1 Axes>"
            ]
          },
          "metadata": {
            "tags": []
          }
        }
      ]
    },
    {
      "cell_type": "code",
      "metadata": {
        "id": "63HketEYPLWV",
        "colab_type": "code",
        "colab": {}
      },
      "source": [
        "def detect_outlier(data, column):\n",
        "    q1 = data[column].quantile(0.25)\n",
        "    q3 = data[column].quantile(0.75)\n",
        "\n",
        "    iqr = q3 - q1\n",
        "    rub = q3 + 1.5*iqr\n",
        "    rlb = q1 - 1.5*iqr\n",
        "\n",
        "    outlier = (data[column] < rlb) | (data[column] > rub)\n",
        "    \n",
        "    return data[outlier]"
      ],
      "execution_count": 0,
      "outputs": []
    },
    {
      "cell_type": "code",
      "metadata": {
        "id": "vpCxrW8SSb2G",
        "colab_type": "code",
        "outputId": "3b77c6ef-9132-4e0c-ad1e-e618ec8d0a2f",
        "colab": {
          "base_uri": "https://localhost:8080/",
          "height": 439
        }
      },
      "source": [
        "detect_outlier(train_df, 'price_monthly')"
      ],
      "execution_count": 111,
      "outputs": [
        {
          "output_type": "execute_result",
          "data": {
            "text/html": [
              "<div>\n",
              "<style scoped>\n",
              "    .dataframe tbody tr th:only-of-type {\n",
              "        vertical-align: middle;\n",
              "    }\n",
              "\n",
              "    .dataframe tbody tr th {\n",
              "        vertical-align: top;\n",
              "    }\n",
              "\n",
              "    .dataframe thead th {\n",
              "        text-align: right;\n",
              "    }\n",
              "</style>\n",
              "<table border=\"1\" class=\"dataframe\">\n",
              "  <thead>\n",
              "    <tr style=\"text-align: right;\">\n",
              "      <th></th>\n",
              "      <th>id</th>\n",
              "      <th>fac_1</th>\n",
              "      <th>fac_2</th>\n",
              "      <th>fac_3</th>\n",
              "      <th>fac_4</th>\n",
              "      <th>fac_5</th>\n",
              "      <th>fac_6</th>\n",
              "      <th>fac_7</th>\n",
              "      <th>fac_8</th>\n",
              "      <th>poi_1</th>\n",
              "      <th>poi_2</th>\n",
              "      <th>poi_3</th>\n",
              "      <th>size</th>\n",
              "      <th>price_monthly</th>\n",
              "      <th>room_count</th>\n",
              "      <th>total_call</th>\n",
              "      <th>gender</th>\n",
              "    </tr>\n",
              "  </thead>\n",
              "  <tbody>\n",
              "    <tr>\n",
              "      <th>4</th>\n",
              "      <td>5</td>\n",
              "      <td>0.0</td>\n",
              "      <td>1.0</td>\n",
              "      <td>0.0</td>\n",
              "      <td>1.0</td>\n",
              "      <td>1.0</td>\n",
              "      <td>0.0</td>\n",
              "      <td>0.0</td>\n",
              "      <td>1.0</td>\n",
              "      <td>1688.0</td>\n",
              "      <td>8851.0</td>\n",
              "      <td>2145.0</td>\n",
              "      <td>14.85</td>\n",
              "      <td>2100000.0</td>\n",
              "      <td>10.0</td>\n",
              "      <td>19</td>\n",
              "      <td>campur</td>\n",
              "    </tr>\n",
              "    <tr>\n",
              "      <th>8</th>\n",
              "      <td>9</td>\n",
              "      <td>0.0</td>\n",
              "      <td>1.0</td>\n",
              "      <td>0.0</td>\n",
              "      <td>1.0</td>\n",
              "      <td>1.0</td>\n",
              "      <td>0.0</td>\n",
              "      <td>0.0</td>\n",
              "      <td>1.0</td>\n",
              "      <td>4835.0</td>\n",
              "      <td>8490.0</td>\n",
              "      <td>3618.0</td>\n",
              "      <td>20.00</td>\n",
              "      <td>4000000.0</td>\n",
              "      <td>8.0</td>\n",
              "      <td>4</td>\n",
              "      <td>putri</td>\n",
              "    </tr>\n",
              "    <tr>\n",
              "      <th>25</th>\n",
              "      <td>26</td>\n",
              "      <td>0.0</td>\n",
              "      <td>1.0</td>\n",
              "      <td>0.0</td>\n",
              "      <td>1.0</td>\n",
              "      <td>1.0</td>\n",
              "      <td>0.0</td>\n",
              "      <td>0.0</td>\n",
              "      <td>1.0</td>\n",
              "      <td>2619.0</td>\n",
              "      <td>10326.0</td>\n",
              "      <td>688.0</td>\n",
              "      <td>16.00</td>\n",
              "      <td>2250000.0</td>\n",
              "      <td>46.0</td>\n",
              "      <td>44</td>\n",
              "      <td>campur</td>\n",
              "    </tr>\n",
              "    <tr>\n",
              "      <th>26</th>\n",
              "      <td>27</td>\n",
              "      <td>0.0</td>\n",
              "      <td>1.0</td>\n",
              "      <td>0.0</td>\n",
              "      <td>1.0</td>\n",
              "      <td>1.0</td>\n",
              "      <td>0.0</td>\n",
              "      <td>0.0</td>\n",
              "      <td>1.0</td>\n",
              "      <td>3465.0</td>\n",
              "      <td>10139.0</td>\n",
              "      <td>1554.0</td>\n",
              "      <td>12.00</td>\n",
              "      <td>2200000.0</td>\n",
              "      <td>27.0</td>\n",
              "      <td>13</td>\n",
              "      <td>campur</td>\n",
              "    </tr>\n",
              "    <tr>\n",
              "      <th>55</th>\n",
              "      <td>56</td>\n",
              "      <td>0.0</td>\n",
              "      <td>1.0</td>\n",
              "      <td>0.0</td>\n",
              "      <td>1.0</td>\n",
              "      <td>1.0</td>\n",
              "      <td>0.0</td>\n",
              "      <td>0.0</td>\n",
              "      <td>1.0</td>\n",
              "      <td>3213.0</td>\n",
              "      <td>9851.0</td>\n",
              "      <td>1513.0</td>\n",
              "      <td>20.00</td>\n",
              "      <td>3000000.0</td>\n",
              "      <td>2.0</td>\n",
              "      <td>6</td>\n",
              "      <td>campur</td>\n",
              "    </tr>\n",
              "    <tr>\n",
              "      <th>...</th>\n",
              "      <td>...</td>\n",
              "      <td>...</td>\n",
              "      <td>...</td>\n",
              "      <td>...</td>\n",
              "      <td>...</td>\n",
              "      <td>...</td>\n",
              "      <td>...</td>\n",
              "      <td>...</td>\n",
              "      <td>...</td>\n",
              "      <td>...</td>\n",
              "      <td>...</td>\n",
              "      <td>...</td>\n",
              "      <td>...</td>\n",
              "      <td>...</td>\n",
              "      <td>...</td>\n",
              "      <td>...</td>\n",
              "      <td>...</td>\n",
              "    </tr>\n",
              "    <tr>\n",
              "      <th>3079</th>\n",
              "      <td>3080</td>\n",
              "      <td>0.0</td>\n",
              "      <td>1.0</td>\n",
              "      <td>0.0</td>\n",
              "      <td>1.0</td>\n",
              "      <td>1.0</td>\n",
              "      <td>0.0</td>\n",
              "      <td>0.0</td>\n",
              "      <td>1.0</td>\n",
              "      <td>3371.0</td>\n",
              "      <td>7739.0</td>\n",
              "      <td>5417.0</td>\n",
              "      <td>20.00</td>\n",
              "      <td>2300000.0</td>\n",
              "      <td>7.0</td>\n",
              "      <td>12</td>\n",
              "      <td>campur</td>\n",
              "    </tr>\n",
              "    <tr>\n",
              "      <th>3080</th>\n",
              "      <td>3081</td>\n",
              "      <td>0.0</td>\n",
              "      <td>1.0</td>\n",
              "      <td>0.0</td>\n",
              "      <td>1.0</td>\n",
              "      <td>1.0</td>\n",
              "      <td>0.0</td>\n",
              "      <td>0.0</td>\n",
              "      <td>1.0</td>\n",
              "      <td>3313.0</td>\n",
              "      <td>7648.0</td>\n",
              "      <td>5319.0</td>\n",
              "      <td>20.00</td>\n",
              "      <td>2500000.0</td>\n",
              "      <td>7.0</td>\n",
              "      <td>14</td>\n",
              "      <td>campur</td>\n",
              "    </tr>\n",
              "    <tr>\n",
              "      <th>3265</th>\n",
              "      <td>3266</td>\n",
              "      <td>0.0</td>\n",
              "      <td>1.0</td>\n",
              "      <td>0.0</td>\n",
              "      <td>1.0</td>\n",
              "      <td>1.0</td>\n",
              "      <td>0.0</td>\n",
              "      <td>0.0</td>\n",
              "      <td>1.0</td>\n",
              "      <td>2210.0</td>\n",
              "      <td>11298.0</td>\n",
              "      <td>649.0</td>\n",
              "      <td>18.00</td>\n",
              "      <td>3000000.0</td>\n",
              "      <td>1.0</td>\n",
              "      <td>16</td>\n",
              "      <td>putri</td>\n",
              "    </tr>\n",
              "    <tr>\n",
              "      <th>3289</th>\n",
              "      <td>3290</td>\n",
              "      <td>0.0</td>\n",
              "      <td>1.0</td>\n",
              "      <td>0.0</td>\n",
              "      <td>1.0</td>\n",
              "      <td>1.0</td>\n",
              "      <td>0.0</td>\n",
              "      <td>0.0</td>\n",
              "      <td>1.0</td>\n",
              "      <td>3393.0</td>\n",
              "      <td>6930.0</td>\n",
              "      <td>3921.0</td>\n",
              "      <td>18.96</td>\n",
              "      <td>2200000.0</td>\n",
              "      <td>2.0</td>\n",
              "      <td>1</td>\n",
              "      <td>putri</td>\n",
              "    </tr>\n",
              "    <tr>\n",
              "      <th>3290</th>\n",
              "      <td>3291</td>\n",
              "      <td>0.0</td>\n",
              "      <td>1.0</td>\n",
              "      <td>0.0</td>\n",
              "      <td>1.0</td>\n",
              "      <td>1.0</td>\n",
              "      <td>0.0</td>\n",
              "      <td>0.0</td>\n",
              "      <td>1.0</td>\n",
              "      <td>3393.0</td>\n",
              "      <td>6930.0</td>\n",
              "      <td>3921.0</td>\n",
              "      <td>21.20</td>\n",
              "      <td>2500000.0</td>\n",
              "      <td>1.0</td>\n",
              "      <td>18</td>\n",
              "      <td>campur</td>\n",
              "    </tr>\n",
              "  </tbody>\n",
              "</table>\n",
              "<p>173 rows × 17 columns</p>\n",
              "</div>"
            ],
            "text/plain": [
              "        id  fac_1  fac_2  fac_3  ...  price_monthly  room_count  total_call  gender\n",
              "4        5    0.0    1.0    0.0  ...      2100000.0        10.0          19  campur\n",
              "8        9    0.0    1.0    0.0  ...      4000000.0         8.0           4   putri\n",
              "25      26    0.0    1.0    0.0  ...      2250000.0        46.0          44  campur\n",
              "26      27    0.0    1.0    0.0  ...      2200000.0        27.0          13  campur\n",
              "55      56    0.0    1.0    0.0  ...      3000000.0         2.0           6  campur\n",
              "...    ...    ...    ...    ...  ...            ...         ...         ...     ...\n",
              "3079  3080    0.0    1.0    0.0  ...      2300000.0         7.0          12  campur\n",
              "3080  3081    0.0    1.0    0.0  ...      2500000.0         7.0          14  campur\n",
              "3265  3266    0.0    1.0    0.0  ...      3000000.0         1.0          16   putri\n",
              "3289  3290    0.0    1.0    0.0  ...      2200000.0         2.0           1   putri\n",
              "3290  3291    0.0    1.0    0.0  ...      2500000.0         1.0          18  campur\n",
              "\n",
              "[173 rows x 17 columns]"
            ]
          },
          "metadata": {
            "tags": []
          },
          "execution_count": 111
        }
      ]
    },
    {
      "cell_type": "code",
      "metadata": {
        "id": "JgLuxI-ZZbF4",
        "colab_type": "code",
        "colab": {}
      },
      "source": [
        "gender_dict =  {\n",
        "    'gender' : {\n",
        "        'putra' : 0,\n",
        "        'putri' : 1,\n",
        "        'campur' : 2\n",
        "    }\n",
        "}\n",
        "\n",
        "train_df.replace(gender_dict, inplace=True)"
      ],
      "execution_count": 0,
      "outputs": []
    },
    {
      "cell_type": "code",
      "metadata": {
        "id": "qOtCm16XZjBj",
        "colab_type": "code",
        "outputId": "17364924-cc25-4242-969f-03c0af21c838",
        "colab": {
          "base_uri": "https://localhost:8080/",
          "height": 221
        }
      },
      "source": [
        "train_df['gender']"
      ],
      "execution_count": 113,
      "outputs": [
        {
          "output_type": "execute_result",
          "data": {
            "text/plain": [
              "0       2\n",
              "1       2\n",
              "2       2\n",
              "3       2\n",
              "4       2\n",
              "       ..\n",
              "3288    1\n",
              "3289    1\n",
              "3290    2\n",
              "3291    1\n",
              "3292    0\n",
              "Name: gender, Length: 3293, dtype: int64"
            ]
          },
          "metadata": {
            "tags": []
          },
          "execution_count": 113
        }
      ]
    },
    {
      "cell_type": "code",
      "metadata": {
        "id": "O29S3bmo7DkP",
        "colab_type": "code",
        "colab": {
          "base_uri": "https://localhost:8080/",
          "height": 317
        },
        "outputId": "ba3ea305-69da-40ab-e4b8-f15e29ef5d97"
      },
      "source": [
        "train_df.describe(include='all')"
      ],
      "execution_count": 114,
      "outputs": [
        {
          "output_type": "execute_result",
          "data": {
            "text/html": [
              "<div>\n",
              "<style scoped>\n",
              "    .dataframe tbody tr th:only-of-type {\n",
              "        vertical-align: middle;\n",
              "    }\n",
              "\n",
              "    .dataframe tbody tr th {\n",
              "        vertical-align: top;\n",
              "    }\n",
              "\n",
              "    .dataframe thead th {\n",
              "        text-align: right;\n",
              "    }\n",
              "</style>\n",
              "<table border=\"1\" class=\"dataframe\">\n",
              "  <thead>\n",
              "    <tr style=\"text-align: right;\">\n",
              "      <th></th>\n",
              "      <th>id</th>\n",
              "      <th>fac_1</th>\n",
              "      <th>fac_2</th>\n",
              "      <th>fac_3</th>\n",
              "      <th>fac_4</th>\n",
              "      <th>fac_5</th>\n",
              "      <th>fac_6</th>\n",
              "      <th>fac_7</th>\n",
              "      <th>fac_8</th>\n",
              "      <th>poi_1</th>\n",
              "      <th>poi_2</th>\n",
              "      <th>poi_3</th>\n",
              "      <th>size</th>\n",
              "      <th>price_monthly</th>\n",
              "      <th>room_count</th>\n",
              "      <th>total_call</th>\n",
              "      <th>gender</th>\n",
              "    </tr>\n",
              "  </thead>\n",
              "  <tbody>\n",
              "    <tr>\n",
              "      <th>count</th>\n",
              "      <td>3293.000000</td>\n",
              "      <td>3293.0</td>\n",
              "      <td>3293.0</td>\n",
              "      <td>3293.0</td>\n",
              "      <td>3293.0</td>\n",
              "      <td>3293.0</td>\n",
              "      <td>3293.0</td>\n",
              "      <td>3293.0</td>\n",
              "      <td>3293.0</td>\n",
              "      <td>3293.000000</td>\n",
              "      <td>3293.000000</td>\n",
              "      <td>3293.000000</td>\n",
              "      <td>3293.000000</td>\n",
              "      <td>3.293000e+03</td>\n",
              "      <td>3293.000000</td>\n",
              "      <td>3293.000000</td>\n",
              "      <td>3293.000000</td>\n",
              "    </tr>\n",
              "    <tr>\n",
              "      <th>mean</th>\n",
              "      <td>1647.000000</td>\n",
              "      <td>0.0</td>\n",
              "      <td>1.0</td>\n",
              "      <td>0.0</td>\n",
              "      <td>1.0</td>\n",
              "      <td>1.0</td>\n",
              "      <td>0.0</td>\n",
              "      <td>0.0</td>\n",
              "      <td>1.0</td>\n",
              "      <td>4679.478921</td>\n",
              "      <td>9920.515189</td>\n",
              "      <td>4906.215778</td>\n",
              "      <td>12.143745</td>\n",
              "      <td>8.975029e+05</td>\n",
              "      <td>10.506050</td>\n",
              "      <td>35.362587</td>\n",
              "      <td>0.895536</td>\n",
              "    </tr>\n",
              "    <tr>\n",
              "      <th>std</th>\n",
              "      <td>950.751545</td>\n",
              "      <td>0.0</td>\n",
              "      <td>0.0</td>\n",
              "      <td>0.0</td>\n",
              "      <td>0.0</td>\n",
              "      <td>0.0</td>\n",
              "      <td>0.0</td>\n",
              "      <td>0.0</td>\n",
              "      <td>0.0</td>\n",
              "      <td>3532.630340</td>\n",
              "      <td>4666.575377</td>\n",
              "      <td>3569.844884</td>\n",
              "      <td>4.900271</td>\n",
              "      <td>6.416728e+05</td>\n",
              "      <td>9.462942</td>\n",
              "      <td>47.269615</td>\n",
              "      <td>0.681304</td>\n",
              "    </tr>\n",
              "    <tr>\n",
              "      <th>min</th>\n",
              "      <td>1.000000</td>\n",
              "      <td>0.0</td>\n",
              "      <td>1.0</td>\n",
              "      <td>0.0</td>\n",
              "      <td>1.0</td>\n",
              "      <td>1.0</td>\n",
              "      <td>0.0</td>\n",
              "      <td>0.0</td>\n",
              "      <td>1.0</td>\n",
              "      <td>519.000000</td>\n",
              "      <td>168.000000</td>\n",
              "      <td>324.000000</td>\n",
              "      <td>6.000000</td>\n",
              "      <td>1.550000e+05</td>\n",
              "      <td>1.000000</td>\n",
              "      <td>1.000000</td>\n",
              "      <td>0.000000</td>\n",
              "    </tr>\n",
              "    <tr>\n",
              "      <th>25%</th>\n",
              "      <td>824.000000</td>\n",
              "      <td>0.0</td>\n",
              "      <td>1.0</td>\n",
              "      <td>0.0</td>\n",
              "      <td>1.0</td>\n",
              "      <td>1.0</td>\n",
              "      <td>0.0</td>\n",
              "      <td>0.0</td>\n",
              "      <td>1.0</td>\n",
              "      <td>2401.000000</td>\n",
              "      <td>7918.000000</td>\n",
              "      <td>2727.000000</td>\n",
              "      <td>9.000000</td>\n",
              "      <td>5.000000e+05</td>\n",
              "      <td>4.000000</td>\n",
              "      <td>8.000000</td>\n",
              "      <td>0.000000</td>\n",
              "    </tr>\n",
              "    <tr>\n",
              "      <th>50%</th>\n",
              "      <td>1647.000000</td>\n",
              "      <td>0.0</td>\n",
              "      <td>1.0</td>\n",
              "      <td>0.0</td>\n",
              "      <td>1.0</td>\n",
              "      <td>1.0</td>\n",
              "      <td>0.0</td>\n",
              "      <td>0.0</td>\n",
              "      <td>1.0</td>\n",
              "      <td>4011.000000</td>\n",
              "      <td>9326.000000</td>\n",
              "      <td>3995.000000</td>\n",
              "      <td>12.000000</td>\n",
              "      <td>6.670000e+05</td>\n",
              "      <td>8.000000</td>\n",
              "      <td>20.000000</td>\n",
              "      <td>1.000000</td>\n",
              "    </tr>\n",
              "    <tr>\n",
              "      <th>75%</th>\n",
              "      <td>2470.000000</td>\n",
              "      <td>0.0</td>\n",
              "      <td>1.0</td>\n",
              "      <td>0.0</td>\n",
              "      <td>1.0</td>\n",
              "      <td>1.0</td>\n",
              "      <td>0.0</td>\n",
              "      <td>0.0</td>\n",
              "      <td>1.0</td>\n",
              "      <td>5850.000000</td>\n",
              "      <td>12354.000000</td>\n",
              "      <td>5957.000000</td>\n",
              "      <td>12.143745</td>\n",
              "      <td>1.100000e+06</td>\n",
              "      <td>14.000000</td>\n",
              "      <td>44.000000</td>\n",
              "      <td>1.000000</td>\n",
              "    </tr>\n",
              "    <tr>\n",
              "      <th>max</th>\n",
              "      <td>3293.000000</td>\n",
              "      <td>0.0</td>\n",
              "      <td>1.0</td>\n",
              "      <td>0.0</td>\n",
              "      <td>1.0</td>\n",
              "      <td>1.0</td>\n",
              "      <td>0.0</td>\n",
              "      <td>0.0</td>\n",
              "      <td>1.0</td>\n",
              "      <td>48675.000000</td>\n",
              "      <td>55105.000000</td>\n",
              "      <td>46517.000000</td>\n",
              "      <td>48.000000</td>\n",
              "      <td>5.000000e+06</td>\n",
              "      <td>121.000000</td>\n",
              "      <td>769.000000</td>\n",
              "      <td>2.000000</td>\n",
              "    </tr>\n",
              "  </tbody>\n",
              "</table>\n",
              "</div>"
            ],
            "text/plain": [
              "                id   fac_1   fac_2  ...   room_count   total_call       gender\n",
              "count  3293.000000  3293.0  3293.0  ...  3293.000000  3293.000000  3293.000000\n",
              "mean   1647.000000     0.0     1.0  ...    10.506050    35.362587     0.895536\n",
              "std     950.751545     0.0     0.0  ...     9.462942    47.269615     0.681304\n",
              "min       1.000000     0.0     1.0  ...     1.000000     1.000000     0.000000\n",
              "25%     824.000000     0.0     1.0  ...     4.000000     8.000000     0.000000\n",
              "50%    1647.000000     0.0     1.0  ...     8.000000    20.000000     1.000000\n",
              "75%    2470.000000     0.0     1.0  ...    14.000000    44.000000     1.000000\n",
              "max    3293.000000     0.0     1.0  ...   121.000000   769.000000     2.000000\n",
              "\n",
              "[8 rows x 17 columns]"
            ]
          },
          "metadata": {
            "tags": []
          },
          "execution_count": 114
        }
      ]
    },
    {
      "cell_type": "code",
      "metadata": {
        "id": "MTFecl2t-k7A",
        "colab_type": "code",
        "colab": {
          "base_uri": "https://localhost:8080/",
          "height": 983
        },
        "outputId": "50a4a058-9040-4cfd-ce9d-0e08884a06ff"
      },
      "source": [
        "plt.figure(figsize = (16,16))\n",
        "ax = sns.heatmap(train_df.corr(), annot=True, linewidths=.5)"
      ],
      "execution_count": 115,
      "outputs": [
        {
          "output_type": "display_data",
          "data": {
            "image/png": "[encoded data removed]",
            "text/plain": [
              "<Figure size 1152x1152 with 2 Axes>"
            ]
          },
          "metadata": {
            "tags": []
          }
        }
      ]
    },
    {
      "cell_type": "code",
      "metadata": {
        "id": "b7oBtoQ0St8H",
        "colab_type": "code",
        "colab": {}
      },
      "source": [
        "train_features = train_df.loc[:,'fac_1':'total_call']\n",
        "y = train_df.loc[:,'gender':]\n",
        "# train_label"
      ],
      "execution_count": 0,
      "outputs": []
    },
    {
      "cell_type": "code",
      "metadata": {
        "id": "RMc-LzePAnak",
        "colab_type": "code",
        "colab": {}
      },
      "source": [
        "# from sklearn.preprocessing import StandardScaler\n",
        "# sc = StandardScaler()\n",
        "# X = sc.fit_transform(train_features)\n",
        "# X"
      ],
      "execution_count": 0,
      "outputs": []
    },
    {
      "cell_type": "code",
      "metadata": {
        "id": "bhVjHhxeSuHM",
        "colab_type": "code",
        "colab": {}
      },
      "source": [
        "X_train, X_test, y_train, y_test = train_test_split(train_features, y, test_size=0.2, random_state=42)"
      ],
      "execution_count": 0,
      "outputs": []
    },
    {
      "cell_type": "code",
      "metadata": {
        "id": "pJ2xc2R9A-cy",
        "colab_type": "code",
        "colab": {}
      },
      "source": [
        "# from keras import Sequential\n",
        "# from keras.layers import Dense\n",
        "\n",
        "classifier = Sequential()\n",
        "#First Hidden Layer\n",
        "classifier.add(Dense(4, activation='relu', kernel_initializer='random_normal', input_dim=15))\n",
        "#Second  Hidden Layer\n",
        "classifier.add(Dense(4, activation='relu', kernel_initializer='random_normal'))\n",
        "#Output Layer\n",
        "classifier.add(Dense(1, activation='sigmoid', kernel_initializer='random_normal'))"
      ],
      "execution_count": 0,
      "outputs": []
    },
    {
      "cell_type": "code",
      "metadata": {
        "id": "xJWh0XZDCmMF",
        "colab_type": "code",
        "colab": {}
      },
      "source": [
        "classifier.compile(optimizer ='adam',loss='categorical_crossentropy', metrics =['accuracy'])"
      ],
      "execution_count": 0,
      "outputs": []
    },
    {
      "cell_type": "code",
      "metadata": {
        "id": "7fkl1ARxCu7s",
        "colab_type": "code",
        "colab": {
          "base_uri": "https://localhost:8080/",
          "height": 1000
        },
        "outputId": "eeb1b03e-d070-4f50-88f5-2af2a64b6cc6"
      },
      "source": [
        "classifier.fit(X_train,y_train, batch_size=10, epochs=100)"
      ],
      "execution_count": 150,
      "outputs": [
        {
          "output_type": "stream",
          "text": [
            "Epoch 1/100\n",
            "264/264 [==============================] - 0s 1ms/step - loss: 1.0727e-07 - accuracy: 0.5190\n",
            "Epoch 2/100\n",
            "264/264 [==============================] - 0s 1ms/step - loss: 1.0740e-07 - accuracy: 0.5190\n",
            "Epoch 3/100\n",
            "264/264 [==============================] - 0s 1ms/step - loss: 1.0733e-07 - accuracy: 0.5190\n",
            "Epoch 4/100\n",
            "264/264 [==============================] - 0s 1ms/step - loss: 1.0727e-07 - accuracy: 0.5190\n",
            "Epoch 5/100\n",
            "264/264 [==============================] - 0s 1ms/step - loss: 1.0727e-07 - accuracy: 0.5190\n",
            "Epoch 6/100\n",
            "264/264 [==============================] - 0s 1ms/step - loss: 1.0740e-07 - accuracy: 0.5190\n",
            "Epoch 7/100\n",
            "264/264 [==============================] - 0s 1ms/step - loss: 1.0733e-07 - accuracy: 0.5190\n",
            "Epoch 8/100\n",
            "264/264 [==============================] - 0s 1ms/step - loss: 1.0727e-07 - accuracy: 0.5190\n",
            "Epoch 9/100\n",
            "264/264 [==============================] - 0s 1ms/step - loss: 1.0740e-07 - accuracy: 0.5190\n",
            "Epoch 10/100\n",
            "264/264 [==============================] - 0s 1ms/step - loss: 1.0713e-07 - accuracy: 0.5190\n",
            "Epoch 11/100\n",
            "264/264 [==============================] - 0s 1ms/step - loss: 1.0740e-07 - accuracy: 0.5190\n",
            "Epoch 12/100\n",
            "264/264 [==============================] - 0s 1ms/step - loss: 1.0720e-07 - accuracy: 0.5190\n",
            "Epoch 13/100\n",
            "264/264 [==============================] - 0s 1ms/step - loss: 1.0720e-07 - accuracy: 0.5190\n",
            "Epoch 14/100\n",
            "264/264 [==============================] - 0s 1ms/step - loss: 1.0713e-07 - accuracy: 0.5190\n",
            "Epoch 15/100\n",
            "264/264 [==============================] - 0s 1ms/step - loss: 1.0727e-07 - accuracy: 0.5190\n",
            "Epoch 16/100\n",
            "264/264 [==============================] - 0s 1ms/step - loss: 1.0727e-07 - accuracy: 0.5190\n",
            "Epoch 17/100\n",
            "264/264 [==============================] - 0s 1ms/step - loss: 1.0727e-07 - accuracy: 0.5190\n",
            "Epoch 18/100\n",
            "264/264 [==============================] - 0s 1ms/step - loss: 1.0733e-07 - accuracy: 0.5190\n",
            "Epoch 19/100\n",
            "264/264 [==============================] - 0s 1ms/step - loss: 1.0740e-07 - accuracy: 0.5190\n",
            "Epoch 20/100\n",
            "264/264 [==============================] - 0s 1ms/step - loss: 1.0727e-07 - accuracy: 0.5190\n",
            "Epoch 21/100\n",
            "264/264 [==============================] - 0s 1ms/step - loss: 1.0740e-07 - accuracy: 0.5190\n",
            "Epoch 22/100\n",
            "264/264 [==============================] - 0s 1ms/step - loss: 1.0733e-07 - accuracy: 0.5190\n",
            "Epoch 23/100\n",
            "264/264 [==============================] - 0s 1ms/step - loss: 1.0720e-07 - accuracy: 0.5190\n",
            "Epoch 24/100\n",
            "264/264 [==============================] - 0s 1ms/step - loss: 1.0727e-07 - accuracy: 0.5190\n",
            "Epoch 25/100\n",
            "264/264 [==============================] - 0s 1ms/step - loss: 1.0733e-07 - accuracy: 0.5190\n",
            "Epoch 26/100\n",
            "264/264 [==============================] - 0s 1ms/step - loss: 1.0740e-07 - accuracy: 0.5190\n",
            "Epoch 27/100\n",
            "264/264 [==============================] - 0s 1ms/step - loss: 1.0727e-07 - accuracy: 0.5190\n",
            "Epoch 28/100\n",
            "264/264 [==============================] - 0s 1ms/step - loss: 1.0733e-07 - accuracy: 0.5190\n",
            "Epoch 29/100\n",
            "264/264 [==============================] - 0s 1ms/step - loss: 1.0727e-07 - accuracy: 0.5190\n",
            "Epoch 30/100\n",
            "264/264 [==============================] - 0s 1ms/step - loss: 1.0733e-07 - accuracy: 0.5190\n",
            "Epoch 31/100\n",
            "264/264 [==============================] - 0s 1ms/step - loss: 1.0720e-07 - accuracy: 0.5190\n",
            "Epoch 32/100\n",
            "264/264 [==============================] - 0s 1ms/step - loss: 1.0733e-07 - accuracy: 0.5190\n",
            "Epoch 33/100\n",
            "264/264 [==============================] - 0s 1ms/step - loss: 1.0740e-07 - accuracy: 0.5190\n",
            "Epoch 34/100\n",
            "264/264 [==============================] - 0s 1ms/step - loss: 1.0727e-07 - accuracy: 0.5190\n",
            "Epoch 35/100\n",
            "264/264 [==============================] - 0s 1ms/step - loss: 1.0733e-07 - accuracy: 0.5190\n",
            "Epoch 36/100\n",
            "264/264 [==============================] - 0s 1ms/step - loss: 1.0733e-07 - accuracy: 0.5190\n",
            "Epoch 37/100\n",
            "264/264 [==============================] - 0s 1ms/step - loss: 1.0733e-07 - accuracy: 0.5190\n",
            "Epoch 38/100\n",
            "264/264 [==============================] - 0s 1ms/step - loss: 1.0733e-07 - accuracy: 0.5190\n",
            "Epoch 39/100\n",
            "264/264 [==============================] - 0s 1ms/step - loss: 1.0733e-07 - accuracy: 0.5190\n",
            "Epoch 40/100\n",
            "264/264 [==============================] - 0s 1ms/step - loss: 1.0727e-07 - accuracy: 0.5190\n",
            "Epoch 41/100\n",
            "264/264 [==============================] - 0s 1ms/step - loss: 1.0727e-07 - accuracy: 0.5190\n",
            "Epoch 42/100\n",
            "264/264 [==============================] - 0s 1ms/step - loss: 1.0740e-07 - accuracy: 0.5190\n",
            "Epoch 43/100\n",
            "264/264 [==============================] - 0s 1ms/step - loss: 1.0733e-07 - accuracy: 0.5190\n",
            "Epoch 44/100\n",
            "264/264 [==============================] - 0s 1ms/step - loss: 1.0754e-07 - accuracy: 0.5190\n",
            "Epoch 45/100\n",
            "264/264 [==============================] - 0s 1ms/step - loss: 1.0713e-07 - accuracy: 0.5190\n",
            "Epoch 46/100\n",
            "264/264 [==============================] - 0s 1ms/step - loss: 1.0733e-07 - accuracy: 0.5190\n",
            "Epoch 47/100\n",
            "264/264 [==============================] - 0s 1ms/step - loss: 1.0733e-07 - accuracy: 0.5190\n",
            "Epoch 48/100\n",
            "264/264 [==============================] - 0s 1ms/step - loss: 1.0733e-07 - accuracy: 0.5190\n",
            "Epoch 49/100\n",
            "264/264 [==============================] - 0s 1ms/step - loss: 1.0740e-07 - accuracy: 0.5190\n",
            "Epoch 50/100\n",
            "264/264 [==============================] - 0s 1ms/step - loss: 1.0720e-07 - accuracy: 0.5190\n",
            "Epoch 51/100\n",
            "264/264 [==============================] - 0s 1ms/step - loss: 1.0733e-07 - accuracy: 0.5190\n",
            "Epoch 52/100\n",
            "264/264 [==============================] - 0s 1ms/step - loss: 1.0733e-07 - accuracy: 0.5190\n",
            "Epoch 53/100\n",
            "264/264 [==============================] - 0s 1ms/step - loss: 1.0720e-07 - accuracy: 0.5190\n",
            "Epoch 54/100\n",
            "264/264 [==============================] - 0s 1ms/step - loss: 1.0720e-07 - accuracy: 0.5190\n",
            "Epoch 55/100\n",
            "264/264 [==============================] - 0s 1ms/step - loss: 1.0720e-07 - accuracy: 0.5190\n",
            "Epoch 56/100\n",
            "264/264 [==============================] - 0s 1ms/step - loss: 1.0747e-07 - accuracy: 0.5190\n",
            "Epoch 57/100\n",
            "264/264 [==============================] - 0s 1ms/step - loss: 1.0747e-07 - accuracy: 0.5190\n",
            "Epoch 58/100\n",
            "264/264 [==============================] - 0s 1ms/step - loss: 1.0727e-07 - accuracy: 0.5190\n",
            "Epoch 59/100\n",
            "264/264 [==============================] - 0s 1ms/step - loss: 1.0740e-07 - accuracy: 0.5190\n",
            "Epoch 60/100\n",
            "264/264 [==============================] - 0s 1ms/step - loss: 1.0740e-07 - accuracy: 0.5190\n",
            "Epoch 61/100\n",
            "264/264 [==============================] - 0s 1ms/step - loss: 1.0713e-07 - accuracy: 0.5190\n",
            "Epoch 62/100\n",
            "264/264 [==============================] - 0s 1ms/step - loss: 1.0720e-07 - accuracy: 0.5190\n",
            "Epoch 63/100\n",
            "264/264 [==============================] - 0s 1ms/step - loss: 1.0727e-07 - accuracy: 0.5190\n",
            "Epoch 64/100\n",
            "264/264 [==============================] - 0s 1ms/step - loss: 1.0747e-07 - accuracy: 0.5190\n",
            "Epoch 65/100\n",
            "264/264 [==============================] - 0s 1ms/step - loss: 1.0727e-07 - accuracy: 0.5190\n",
            "Epoch 66/100\n",
            "264/264 [==============================] - 0s 1ms/step - loss: 1.0720e-07 - accuracy: 0.5190\n",
            "Epoch 67/100\n",
            "264/264 [==============================] - 0s 1ms/step - loss: 1.0747e-07 - accuracy: 0.5190\n",
            "Epoch 68/100\n",
            "264/264 [==============================] - 0s 1ms/step - loss: 1.0727e-07 - accuracy: 0.5190\n",
            "Epoch 69/100\n",
            "264/264 [==============================] - 0s 1ms/step - loss: 1.0727e-07 - accuracy: 0.5190\n",
            "Epoch 70/100\n",
            "264/264 [==============================] - 0s 1ms/step - loss: 1.0727e-07 - accuracy: 0.5190\n",
            "Epoch 71/100\n",
            "264/264 [==============================] - 0s 1ms/step - loss: 1.0720e-07 - accuracy: 0.5190\n",
            "Epoch 72/100\n",
            "264/264 [==============================] - 0s 1ms/step - loss: 1.0733e-07 - accuracy: 0.5190\n",
            "Epoch 73/100\n",
            "264/264 [==============================] - 0s 1ms/step - loss: 1.0733e-07 - accuracy: 0.5190\n",
            "Epoch 74/100\n",
            "264/264 [==============================] - 0s 1ms/step - loss: 1.0727e-07 - accuracy: 0.5190\n",
            "Epoch 75/100\n",
            "264/264 [==============================] - 0s 1ms/step - loss: 1.0727e-07 - accuracy: 0.5190\n",
            "Epoch 76/100\n",
            "264/264 [==============================] - 0s 1ms/step - loss: 1.0727e-07 - accuracy: 0.5190\n",
            "Epoch 77/100\n",
            "264/264 [==============================] - 0s 1ms/step - loss: 1.0733e-07 - accuracy: 0.5190\n",
            "Epoch 78/100\n",
            "264/264 [==============================] - 0s 1ms/step - loss: 1.0740e-07 - accuracy: 0.5190\n",
            "Epoch 79/100\n",
            "264/264 [==============================] - 0s 1ms/step - loss: 1.0727e-07 - accuracy: 0.5190\n",
            "Epoch 80/100\n",
            "264/264 [==============================] - 0s 1ms/step - loss: 1.0754e-07 - accuracy: 0.5190\n",
            "Epoch 81/100\n",
            "264/264 [==============================] - 0s 1ms/step - loss: 1.0740e-07 - accuracy: 0.5190\n",
            "Epoch 82/100\n",
            "264/264 [==============================] - 0s 1ms/step - loss: 1.0713e-07 - accuracy: 0.5190\n",
            "Epoch 83/100\n",
            "264/264 [==============================] - 0s 1ms/step - loss: 1.0727e-07 - accuracy: 0.5190\n",
            "Epoch 84/100\n",
            "264/264 [==============================] - 0s 1ms/step - loss: 1.0727e-07 - accuracy: 0.5190\n",
            "Epoch 85/100\n",
            "264/264 [==============================] - 0s 1ms/step - loss: 1.0733e-07 - accuracy: 0.5190\n",
            "Epoch 86/100\n",
            "264/264 [==============================] - 0s 1ms/step - loss: 1.0720e-07 - accuracy: 0.5190\n",
            "Epoch 87/100\n",
            "264/264 [==============================] - 0s 1ms/step - loss: 1.0740e-07 - accuracy: 0.5190\n",
            "Epoch 88/100\n",
            "264/264 [==============================] - 0s 1ms/step - loss: 1.0733e-07 - accuracy: 0.5190\n",
            "Epoch 89/100\n",
            "264/264 [==============================] - 0s 1ms/step - loss: 1.0727e-07 - accuracy: 0.5190\n",
            "Epoch 90/100\n",
            "264/264 [==============================] - 0s 1ms/step - loss: 1.0720e-07 - accuracy: 0.5190\n",
            "Epoch 91/100\n",
            "264/264 [==============================] - 0s 1ms/step - loss: 1.0713e-07 - accuracy: 0.5190\n",
            "Epoch 92/100\n",
            "264/264 [==============================] - 0s 1ms/step - loss: 1.0733e-07 - accuracy: 0.5190\n",
            "Epoch 93/100\n",
            "264/264 [==============================] - 0s 1ms/step - loss: 1.0727e-07 - accuracy: 0.5190\n",
            "Epoch 94/100\n",
            "264/264 [==============================] - 0s 1ms/step - loss: 1.0727e-07 - accuracy: 0.5190\n",
            "Epoch 95/100\n",
            "264/264 [==============================] - 0s 1ms/step - loss: 1.0740e-07 - accuracy: 0.5190\n",
            "Epoch 96/100\n",
            "264/264 [==============================] - 0s 1ms/step - loss: 1.0754e-07 - accuracy: 0.5190\n",
            "Epoch 97/100\n",
            "264/264 [==============================] - 0s 1ms/step - loss: 1.0713e-07 - accuracy: 0.5190\n",
            "Epoch 98/100\n",
            "264/264 [==============================] - 0s 1ms/step - loss: 1.0720e-07 - accuracy: 0.5190\n",
            "Epoch 99/100\n",
            "264/264 [==============================] - 0s 1ms/step - loss: 1.0727e-07 - accuracy: 0.5190\n",
            "Epoch 100/100\n",
            "264/264 [==============================] - 0s 1ms/step - loss: 1.0720e-07 - accuracy: 0.5190\n"
          ],
          "name": "stdout"
        },
        {
          "output_type": "execute_result",
          "data": {
            "text/plain": [
              "<tensorflow.python.keras.callbacks.History at 0x7f6fcb1d2a58>"
            ]
          },
          "metadata": {
            "tags": []
          },
          "execution_count": 150
        }
      ]
    },
    {
      "cell_type": "code",
      "metadata": {
        "id": "1sWGCCVADqeH",
        "colab_type": "code",
        "colab": {
          "base_uri": "https://localhost:8080/",
          "height": 51
        },
        "outputId": "15e156e5-2f2a-4a55-dbea-bb27dce3f59c"
      },
      "source": [
        "eval_model=classifier.evaluate(X_train, y_train)\n",
        "eval_model"
      ],
      "execution_count": 131,
      "outputs": [
        {
          "output_type": "stream",
          "text": [
            "83/83 [==============================] - 0s 983us/step - loss: 1.0711e-07 - accuracy: 0.5190\n"
          ],
          "name": "stdout"
        },
        {
          "output_type": "execute_result",
          "data": {
            "text/plain": [
              "[1.0710882492048768e-07, 0.5189825296401978]"
            ]
          },
          "metadata": {
            "tags": []
          },
          "execution_count": 131
        }
      ]
    },
    {
      "cell_type": "code",
      "metadata": {
        "id": "eK9tJaYCD-Fm",
        "colab_type": "code",
        "colab": {}
      },
      "source": [
        "y_pred=classifier.predict(X_test)"
      ],
      "execution_count": 0,
      "outputs": []
    },
    {
      "cell_type": "code",
      "metadata": {
        "id": "CALIFSWqD_mT",
        "colab_type": "code",
        "colab": {}
      },
      "source": [
        "# from sklearn.metrics import confusion_matrix\n",
        "# cm = confusion_matrix(y_test, y_pred)\n",
        "# print(cm)"
      ],
      "execution_count": 0,
      "outputs": []
    },
    {
      "cell_type": "code",
      "metadata": {
        "id": "vGnViZBNSuLb",
        "colab_type": "code",
        "colab": {}
      },
      "source": [
        "# input_layer = Input(shape=(train_features.shape[1],))\n",
        "# dense_layer_1 = Dense(15, activation='relu')(input_layer)\n",
        "# dense_layer_2 = Dense(10, activation='relu')(dense_layer_1)\n",
        "# output = Dense(train_label.shape[1], activation='softmax')(dense_layer_2)\n",
        "\n",
        "# model = Model(inputs=input_layer, outputs=output)\n",
        "# model.compile(loss='categorical_crossentropy', optimizer='adam', metrics=['acc'])\n",
        "\n"
      ],
      "execution_count": 0,
      "outputs": []
    },
    {
      "cell_type": "code",
      "metadata": {
        "id": "sfS0BUpwSuS9",
        "colab_type": "code",
        "colab": {}
      },
      "source": [
        "# train_label.shape"
      ],
      "execution_count": 0,
      "outputs": []
    },
    {
      "cell_type": "code",
      "metadata": {
        "id": "e0uMsj8lSuVp",
        "colab_type": "code",
        "colab": {}
      },
      "source": [
        "# model.summary()"
      ],
      "execution_count": 0,
      "outputs": []
    },
    {
      "cell_type": "code",
      "metadata": {
        "id": "27LWprdqSuYs",
        "colab_type": "code",
        "colab": {}
      },
      "source": [
        "# history = model.fit(X_train, y_train, batch_size=8, epochs=50, verbose=1, validation_split=0.3)"
      ],
      "execution_count": 0,
      "outputs": []
    },
    {
      "cell_type": "code",
      "metadata": {
        "id": "iSBYRyDgSucx",
        "colab_type": "code",
        "colab": {}
      },
      "source": [
        "# score = model.evaluate(X_test, y_test, verbose=1)\n",
        "\n",
        "# print(\"Test Score:\", score[0])\n",
        "# print(\"Test Accuracy:\", score[1])"
      ],
      "execution_count": 0,
      "outputs": []
    },
    {
      "cell_type": "code",
      "metadata": {
        "id": "tgPEscu2Suh6",
        "colab_type": "code",
        "colab": {}
      },
      "source": [
        "# score"
      ],
      "execution_count": 0,
      "outputs": []
    },
    {
      "cell_type": "code",
      "metadata": {
        "id": "q6PA5AGSSufe",
        "colab_type": "code",
        "colab": {}
      },
      "source": [
        ""
      ],
      "execution_count": 0,
      "outputs": []
    },
    {
      "cell_type": "code",
      "metadata": {
        "id": "k6rXCRRJSua3",
        "colab_type": "code",
        "colab": {}
      },
      "source": [
        ""
      ],
      "execution_count": 0,
      "outputs": []
    }
  ]
}