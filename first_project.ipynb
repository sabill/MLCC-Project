{
  "nbformat": 4,
  "nbformat_minor": 0,
  "metadata": {
    "colab": {
      "name": "first-project.ipynb",
      "provenance": [],
      "collapsed_sections": [],
      "toc_visible": true,
      "include_colab_link": true
    },
    "kernelspec": {
      "name": "python3",
      "display_name": "Python 3"
    }
  },
  "cells": [
    {
      "cell_type": "markdown",
      "metadata": {
        "id": "view-in-github",
        "colab_type": "text"
      },
      "source": [
        "<a href=\"https://colab.research.google.com/github/sabill/MLCC-Project/blob/master/first_project.ipynb\" target=\"_parent\"><img src=\"https://colab.research.google.com/assets/colab-badge.svg\" alt=\"Open In Colab\"/></a>"
      ]
    },
    {
      "cell_type": "markdown",
      "metadata": {
        "id": "YIG8NESO_fm7",
        "colab_type": "text"
      },
      "source": [
        "Coba data yg klasifikasi (joint 2019 dr kaggle)"
      ]
    },
    {
      "cell_type": "code",
      "metadata": {
        "id": "zFyq10L59D98",
        "colab_type": "code",
        "colab": {}
      },
      "source": [
        "#@title Run on TensorFlow 2.x\n",
        "%tensorflow_version 2.x"
      ],
      "execution_count": 0,
      "outputs": []
    },
    {
      "cell_type": "code",
      "metadata": {
        "id": "NbA136vl_X0M",
        "colab_type": "code",
        "colab": {
          "base_uri": "https://localhost:8080/",
          "height": 71
        },
        "outputId": "6cb08f04-1e7a-4a85-fcc5-18c86acd1ddc"
      },
      "source": [
        "import numpy as np\n",
        "import pandas as pd\n",
        "import tensorflow as tf\n",
        "import seaborn as sns\n",
        "from tensorflow import feature_column\n",
        "#from tensorflow.keras import layers\n",
        "from tensorflow.keras.layers import Input, Dense, Activation,Dropout\n",
        "from tensorflow.keras.models import Model\n",
        "from matplotlib import pyplot as plt\n",
        "from google.colab import files\n",
        "from sklearn.model_selection import train_test_split\n",
        "import io"
      ],
      "execution_count": 2,
      "outputs": [
        {
          "output_type": "stream",
          "text": [
            "/usr/local/lib/python3.6/dist-packages/statsmodels/tools/_testing.py:19: FutureWarning: pandas.util.testing is deprecated. Use the functions in the public API at pandas.testing instead.\n",
            "  import pandas.util.testing as tm\n"
          ],
          "name": "stderr"
        }
      ]
    },
    {
      "cell_type": "code",
      "metadata": {
        "id": "8TtcvYPm_6L8",
        "colab_type": "code",
        "outputId": "61bb7ff8-2037-4914-a045-aa8f03b9cc6e",
        "colab": {
          "resources": {
            "http://localhost:8080/nbextensions/google.colab/files.js": {
              "data": "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",
              "ok": true,
              "headers": [
                [
                  "content-type",
                  "application/javascript"
                ]
              ],
              "status": 200,
              "status_text": ""
            }
          },
          "base_uri": "https://localhost:8080/",
          "height": 281
        }
      },
      "source": [
        "uploaded = files.upload()\n",
        "train_df = pd.read_csv(io.BytesIO(uploaded['train.csv']))\n",
        "\n",
        "train_df.head()"
      ],
      "execution_count": 3,
      "outputs": [
        {
          "output_type": "display_data",
          "data": {
            "text/html": [
              "\n",
              "     <input type=\"file\" id=\"files-45217de8-7768-41bd-909b-bc7fb33a5f5d\" name=\"files[]\" multiple disabled />\n",
              "     <output id=\"result-45217de8-7768-41bd-909b-bc7fb33a5f5d\">\n",
              "      Upload widget is only available when the cell has been executed in the\n",
              "      current browser session. Please rerun this cell to enable.\n",
              "      </output>\n",
              "      <script src=\"/nbextensions/google.colab/files.js\"></script> "
            ],
            "text/plain": [
              "<IPython.core.display.HTML object>"
            ]
          },
          "metadata": {
            "tags": []
          }
        },
        {
          "output_type": "stream",
          "text": [
            "Saving train.csv to train (3).csv\n"
          ],
          "name": "stdout"
        },
        {
          "output_type": "execute_result",
          "data": {
            "text/html": [
              "<div>\n",
              "<style scoped>\n",
              "    .dataframe tbody tr th:only-of-type {\n",
              "        vertical-align: middle;\n",
              "    }\n",
              "\n",
              "    .dataframe tbody tr th {\n",
              "        vertical-align: top;\n",
              "    }\n",
              "\n",
              "    .dataframe thead th {\n",
              "        text-align: right;\n",
              "    }\n",
              "</style>\n",
              "<table border=\"1\" class=\"dataframe\">\n",
              "  <thead>\n",
              "    <tr style=\"text-align: right;\">\n",
              "      <th></th>\n",
              "      <th>id</th>\n",
              "      <th>fac_1</th>\n",
              "      <th>fac_2</th>\n",
              "      <th>fac_3</th>\n",
              "      <th>fac_4</th>\n",
              "      <th>fac_5</th>\n",
              "      <th>fac_6</th>\n",
              "      <th>fac_7</th>\n",
              "      <th>fac_8</th>\n",
              "      <th>poi_1</th>\n",
              "      <th>poi_2</th>\n",
              "      <th>poi_3</th>\n",
              "      <th>size</th>\n",
              "      <th>price_monthly</th>\n",
              "      <th>room_count</th>\n",
              "      <th>total_call</th>\n",
              "      <th>gender</th>\n",
              "    </tr>\n",
              "  </thead>\n",
              "  <tbody>\n",
              "    <tr>\n",
              "      <th>0</th>\n",
              "      <td>1</td>\n",
              "      <td>1.0</td>\n",
              "      <td>1.0</td>\n",
              "      <td>1.0</td>\n",
              "      <td>1.0</td>\n",
              "      <td>1.0</td>\n",
              "      <td>1.0</td>\n",
              "      <td>0.0</td>\n",
              "      <td>1.0</td>\n",
              "      <td>1778.0</td>\n",
              "      <td>10038.0</td>\n",
              "      <td>4106.0</td>\n",
              "      <td>9.00</td>\n",
              "      <td>1500000.0</td>\n",
              "      <td>6.0</td>\n",
              "      <td>72</td>\n",
              "      <td>campur</td>\n",
              "    </tr>\n",
              "    <tr>\n",
              "      <th>1</th>\n",
              "      <td>2</td>\n",
              "      <td>1.0</td>\n",
              "      <td>1.0</td>\n",
              "      <td>0.0</td>\n",
              "      <td>1.0</td>\n",
              "      <td>1.0</td>\n",
              "      <td>1.0</td>\n",
              "      <td>0.0</td>\n",
              "      <td>NaN</td>\n",
              "      <td>4548.0</td>\n",
              "      <td>9332.0</td>\n",
              "      <td>6867.0</td>\n",
              "      <td>12.00</td>\n",
              "      <td>1500000.0</td>\n",
              "      <td>30.0</td>\n",
              "      <td>56</td>\n",
              "      <td>campur</td>\n",
              "    </tr>\n",
              "    <tr>\n",
              "      <th>2</th>\n",
              "      <td>3</td>\n",
              "      <td>1.0</td>\n",
              "      <td>NaN</td>\n",
              "      <td>1.0</td>\n",
              "      <td>1.0</td>\n",
              "      <td>1.0</td>\n",
              "      <td>1.0</td>\n",
              "      <td>0.0</td>\n",
              "      <td>1.0</td>\n",
              "      <td>5174.0</td>\n",
              "      <td>9021.0</td>\n",
              "      <td>3693.0</td>\n",
              "      <td>12.00</td>\n",
              "      <td>1600000.0</td>\n",
              "      <td>20.0</td>\n",
              "      <td>109</td>\n",
              "      <td>campur</td>\n",
              "    </tr>\n",
              "    <tr>\n",
              "      <th>3</th>\n",
              "      <td>4</td>\n",
              "      <td>1.0</td>\n",
              "      <td>1.0</td>\n",
              "      <td>1.0</td>\n",
              "      <td>1.0</td>\n",
              "      <td>1.0</td>\n",
              "      <td>1.0</td>\n",
              "      <td>0.0</td>\n",
              "      <td>0.0</td>\n",
              "      <td>1490.0</td>\n",
              "      <td>8954.0</td>\n",
              "      <td>2139.0</td>\n",
              "      <td>8.25</td>\n",
              "      <td>1500000.0</td>\n",
              "      <td>15.0</td>\n",
              "      <td>54</td>\n",
              "      <td>campur</td>\n",
              "    </tr>\n",
              "    <tr>\n",
              "      <th>4</th>\n",
              "      <td>5</td>\n",
              "      <td>1.0</td>\n",
              "      <td>1.0</td>\n",
              "      <td>0.0</td>\n",
              "      <td>1.0</td>\n",
              "      <td>1.0</td>\n",
              "      <td>1.0</td>\n",
              "      <td>0.0</td>\n",
              "      <td>1.0</td>\n",
              "      <td>1688.0</td>\n",
              "      <td>8851.0</td>\n",
              "      <td>2145.0</td>\n",
              "      <td>14.85</td>\n",
              "      <td>2100000.0</td>\n",
              "      <td>10.0</td>\n",
              "      <td>19</td>\n",
              "      <td>campur</td>\n",
              "    </tr>\n",
              "  </tbody>\n",
              "</table>\n",
              "</div>"
            ],
            "text/plain": [
              "   id  fac_1  fac_2  fac_3  ...  price_monthly  room_count  total_call  gender\n",
              "0   1    1.0    1.0    1.0  ...      1500000.0         6.0          72  campur\n",
              "1   2    1.0    1.0    0.0  ...      1500000.0        30.0          56  campur\n",
              "2   3    1.0    NaN    1.0  ...      1600000.0        20.0         109  campur\n",
              "3   4    1.0    1.0    1.0  ...      1500000.0        15.0          54  campur\n",
              "4   5    1.0    1.0    0.0  ...      2100000.0        10.0          19  campur\n",
              "\n",
              "[5 rows x 17 columns]"
            ]
          },
          "metadata": {
            "tags": []
          },
          "execution_count": 3
        }
      ]
    },
    {
      "cell_type": "markdown",
      "metadata": {
        "id": "RBcsxzqYFpcC",
        "colab_type": "text"
      },
      "source": [
        "Data Preprocessing"
      ]
    },
    {
      "cell_type": "code",
      "metadata": {
        "id": "b1KPLVMinOzx",
        "colab_type": "code",
        "outputId": "d912adc1-d35a-41fc-9014-47048ef1134c",
        "colab": {
          "base_uri": "https://localhost:8080/",
          "height": 323
        }
      },
      "source": [
        "#prepocessing data\n",
        "train_df.isnull().sum()"
      ],
      "execution_count": 4,
      "outputs": [
        {
          "output_type": "execute_result",
          "data": {
            "text/plain": [
              "id                0\n",
              "fac_1            63\n",
              "fac_2            74\n",
              "fac_3            62\n",
              "fac_4            71\n",
              "fac_5            72\n",
              "fac_6            64\n",
              "fac_7            78\n",
              "fac_8            68\n",
              "poi_1            67\n",
              "poi_2            67\n",
              "poi_3            86\n",
              "size             68\n",
              "price_monthly    85\n",
              "room_count       70\n",
              "total_call        0\n",
              "gender            0\n",
              "dtype: int64"
            ]
          },
          "metadata": {
            "tags": []
          },
          "execution_count": 4
        }
      ]
    },
    {
      "cell_type": "code",
      "metadata": {
        "id": "cuqjECASASC4",
        "colab_type": "code",
        "colab": {}
      },
      "source": [
        "#fill null data (fac_1 until fac_8) with mode\n",
        "for column in train_df.columns[1:9]:\n",
        "  train_df[column] = train_df[column].fillna(train_df[column]).mode()[0]"
      ],
      "execution_count": 0,
      "outputs": []
    },
    {
      "cell_type": "code",
      "metadata": {
        "id": "99Y-zXYs3cfr",
        "colab_type": "code",
        "outputId": "653c4075-4a34-492e-da45-ec05676bdb78",
        "colab": {
          "base_uri": "https://localhost:8080/",
          "height": 323
        }
      },
      "source": [
        "train_df.isnull().sum()"
      ],
      "execution_count": 6,
      "outputs": [
        {
          "output_type": "execute_result",
          "data": {
            "text/plain": [
              "id                0\n",
              "fac_1             0\n",
              "fac_2             0\n",
              "fac_3             0\n",
              "fac_4             0\n",
              "fac_5             0\n",
              "fac_6             0\n",
              "fac_7             0\n",
              "fac_8             0\n",
              "poi_1            67\n",
              "poi_2            67\n",
              "poi_3            86\n",
              "size             68\n",
              "price_monthly    85\n",
              "room_count       70\n",
              "total_call        0\n",
              "gender            0\n",
              "dtype: int64"
            ]
          },
          "metadata": {
            "tags": []
          },
          "execution_count": 6
        }
      ]
    },
    {
      "cell_type": "code",
      "metadata": {
        "id": "rwE7tBZMCZp3",
        "colab_type": "code",
        "outputId": "218cb516-87bf-4772-c556-5c8e7e916e0a",
        "colab": {
          "base_uri": "https://localhost:8080/",
          "height": 307
        }
      },
      "source": [
        "#Y = train_df['price_monthly']\n",
        "plt.plot('poi_1', 'price_monthly', data = train_df, marker='', color='red', linewidth=2)\n",
        "plt.plot('poi_2', 'price_monthly', data = train_df, marker='', color='orange', linewidth=2)\n",
        "\n",
        "plt.xlabel('features')\n",
        "plt.ylabel('price monthly')\n",
        "plt.legend()"
      ],
      "execution_count": 7,
      "outputs": [
        {
          "output_type": "execute_result",
          "data": {
            "text/plain": [
              "<matplotlib.legend.Legend at 0x7f2dad7e8240>"
            ]
          },
          "metadata": {
            "tags": []
          },
          "execution_count": 7
        },
        {
          "output_type": "display_data",
          "data": {
            "image/png": "[encoded data removed]",
            "text/plain": [
              "<Figure size 432x288 with 1 Axes>"
            ]
          },
          "metadata": {
            "tags": []
          }
        }
      ]
    },
    {
      "cell_type": "code",
      "metadata": {
        "id": "gCUM4RY6yjS4",
        "colab_type": "code",
        "colab": {}
      },
      "source": [
        "#fill null data based on ratio with price monthly\n",
        "train_df['poi_1'] = train_df['poi_1'].fillna(train_df['poi_1'].mean())\n",
        "train_df['poi_2'] = train_df['poi_2'].fillna(train_df['poi_2'].mean())\n",
        "train_df['poi_3'] = train_df['poi_3'].fillna(train_df['poi_3'].mean())\n",
        "train_df['size'] = train_df['size'].fillna(train_df['size'].mean())"
      ],
      "execution_count": 0,
      "outputs": []
    },
    {
      "cell_type": "code",
      "metadata": {
        "id": "o0nyT2FEk9pF",
        "colab_type": "code",
        "outputId": "f410b675-f9f2-4d28-de3e-12d8776a3737",
        "colab": {
          "base_uri": "https://localhost:8080/",
          "height": 224
        }
      },
      "source": [
        "train_df.head()"
      ],
      "execution_count": 9,
      "outputs": [
        {
          "output_type": "execute_result",
          "data": {
            "text/html": [
              "<div>\n",
              "<style scoped>\n",
              "    .dataframe tbody tr th:only-of-type {\n",
              "        vertical-align: middle;\n",
              "    }\n",
              "\n",
              "    .dataframe tbody tr th {\n",
              "        vertical-align: top;\n",
              "    }\n",
              "\n",
              "    .dataframe thead th {\n",
              "        text-align: right;\n",
              "    }\n",
              "</style>\n",
              "<table border=\"1\" class=\"dataframe\">\n",
              "  <thead>\n",
              "    <tr style=\"text-align: right;\">\n",
              "      <th></th>\n",
              "      <th>id</th>\n",
              "      <th>fac_1</th>\n",
              "      <th>fac_2</th>\n",
              "      <th>fac_3</th>\n",
              "      <th>fac_4</th>\n",
              "      <th>fac_5</th>\n",
              "      <th>fac_6</th>\n",
              "      <th>fac_7</th>\n",
              "      <th>fac_8</th>\n",
              "      <th>poi_1</th>\n",
              "      <th>poi_2</th>\n",
              "      <th>poi_3</th>\n",
              "      <th>size</th>\n",
              "      <th>price_monthly</th>\n",
              "      <th>room_count</th>\n",
              "      <th>total_call</th>\n",
              "      <th>gender</th>\n",
              "    </tr>\n",
              "  </thead>\n",
              "  <tbody>\n",
              "    <tr>\n",
              "      <th>0</th>\n",
              "      <td>1</td>\n",
              "      <td>0.0</td>\n",
              "      <td>1.0</td>\n",
              "      <td>0.0</td>\n",
              "      <td>1.0</td>\n",
              "      <td>1.0</td>\n",
              "      <td>0.0</td>\n",
              "      <td>0.0</td>\n",
              "      <td>1.0</td>\n",
              "      <td>1778.0</td>\n",
              "      <td>10038.0</td>\n",
              "      <td>4106.0</td>\n",
              "      <td>9.00</td>\n",
              "      <td>1500000.0</td>\n",
              "      <td>6.0</td>\n",
              "      <td>72</td>\n",
              "      <td>campur</td>\n",
              "    </tr>\n",
              "    <tr>\n",
              "      <th>1</th>\n",
              "      <td>2</td>\n",
              "      <td>0.0</td>\n",
              "      <td>1.0</td>\n",
              "      <td>0.0</td>\n",
              "      <td>1.0</td>\n",
              "      <td>1.0</td>\n",
              "      <td>0.0</td>\n",
              "      <td>0.0</td>\n",
              "      <td>1.0</td>\n",
              "      <td>4548.0</td>\n",
              "      <td>9332.0</td>\n",
              "      <td>6867.0</td>\n",
              "      <td>12.00</td>\n",
              "      <td>1500000.0</td>\n",
              "      <td>30.0</td>\n",
              "      <td>56</td>\n",
              "      <td>campur</td>\n",
              "    </tr>\n",
              "    <tr>\n",
              "      <th>2</th>\n",
              "      <td>3</td>\n",
              "      <td>0.0</td>\n",
              "      <td>1.0</td>\n",
              "      <td>0.0</td>\n",
              "      <td>1.0</td>\n",
              "      <td>1.0</td>\n",
              "      <td>0.0</td>\n",
              "      <td>0.0</td>\n",
              "      <td>1.0</td>\n",
              "      <td>5174.0</td>\n",
              "      <td>9021.0</td>\n",
              "      <td>3693.0</td>\n",
              "      <td>12.00</td>\n",
              "      <td>1600000.0</td>\n",
              "      <td>20.0</td>\n",
              "      <td>109</td>\n",
              "      <td>campur</td>\n",
              "    </tr>\n",
              "    <tr>\n",
              "      <th>3</th>\n",
              "      <td>4</td>\n",
              "      <td>0.0</td>\n",
              "      <td>1.0</td>\n",
              "      <td>0.0</td>\n",
              "      <td>1.0</td>\n",
              "      <td>1.0</td>\n",
              "      <td>0.0</td>\n",
              "      <td>0.0</td>\n",
              "      <td>1.0</td>\n",
              "      <td>1490.0</td>\n",
              "      <td>8954.0</td>\n",
              "      <td>2139.0</td>\n",
              "      <td>8.25</td>\n",
              "      <td>1500000.0</td>\n",
              "      <td>15.0</td>\n",
              "      <td>54</td>\n",
              "      <td>campur</td>\n",
              "    </tr>\n",
              "    <tr>\n",
              "      <th>4</th>\n",
              "      <td>5</td>\n",
              "      <td>0.0</td>\n",
              "      <td>1.0</td>\n",
              "      <td>0.0</td>\n",
              "      <td>1.0</td>\n",
              "      <td>1.0</td>\n",
              "      <td>0.0</td>\n",
              "      <td>0.0</td>\n",
              "      <td>1.0</td>\n",
              "      <td>1688.0</td>\n",
              "      <td>8851.0</td>\n",
              "      <td>2145.0</td>\n",
              "      <td>14.85</td>\n",
              "      <td>2100000.0</td>\n",
              "      <td>10.0</td>\n",
              "      <td>19</td>\n",
              "      <td>campur</td>\n",
              "    </tr>\n",
              "  </tbody>\n",
              "</table>\n",
              "</div>"
            ],
            "text/plain": [
              "   id  fac_1  fac_2  fac_3  ...  price_monthly  room_count  total_call  gender\n",
              "0   1    0.0    1.0    0.0  ...      1500000.0         6.0          72  campur\n",
              "1   2    0.0    1.0    0.0  ...      1500000.0        30.0          56  campur\n",
              "2   3    0.0    1.0    0.0  ...      1600000.0        20.0         109  campur\n",
              "3   4    0.0    1.0    0.0  ...      1500000.0        15.0          54  campur\n",
              "4   5    0.0    1.0    0.0  ...      2100000.0        10.0          19  campur\n",
              "\n",
              "[5 rows x 17 columns]"
            ]
          },
          "metadata": {
            "tags": []
          },
          "execution_count": 9
        }
      ]
    },
    {
      "cell_type": "code",
      "metadata": {
        "id": "P2Y7nSSsGIOr",
        "colab_type": "code",
        "colab": {
          "base_uri": "https://localhost:8080/",
          "height": 323
        },
        "outputId": "23c1f181-8f4e-43ed-b8b9-0c967a02e13e"
      },
      "source": [
        "train_df.isnull().sum()"
      ],
      "execution_count": 10,
      "outputs": [
        {
          "output_type": "execute_result",
          "data": {
            "text/plain": [
              "id                0\n",
              "fac_1             0\n",
              "fac_2             0\n",
              "fac_3             0\n",
              "fac_4             0\n",
              "fac_5             0\n",
              "fac_6             0\n",
              "fac_7             0\n",
              "fac_8             0\n",
              "poi_1             0\n",
              "poi_2             0\n",
              "poi_3             0\n",
              "size              0\n",
              "price_monthly    85\n",
              "room_count       70\n",
              "total_call        0\n",
              "gender            0\n",
              "dtype: int64"
            ]
          },
          "metadata": {
            "tags": []
          },
          "execution_count": 10
        }
      ]
    },
    {
      "cell_type": "code",
      "metadata": {
        "id": "UtR1n_mg1WPN",
        "colab_type": "code",
        "colab": {}
      },
      "source": [
        "# def proportion(atributs, labels):\n",
        "#   atribut = "
      ],
      "execution_count": 0,
      "outputs": []
    },
    {
      "cell_type": "code",
      "metadata": {
        "id": "xajBISLIKkxk",
        "colab_type": "code",
        "colab": {}
      },
      "source": [
        "train_df['room_count'] = train_df['room_count'].fillna(train_df['room_count'].mean())\n",
        "train_df['price_monthly'] = train_df['price_monthly'].fillna(train_df['price_monthly'].mean())"
      ],
      "execution_count": 0,
      "outputs": []
    },
    {
      "cell_type": "code",
      "metadata": {
        "id": "4mgFHcQ2K1oB",
        "colab_type": "code",
        "colab": {
          "base_uri": "https://localhost:8080/",
          "height": 224
        },
        "outputId": "a7ea243b-5fc1-4470-a440-ff4ece0baf3d"
      },
      "source": [
        "train_df.head()"
      ],
      "execution_count": 13,
      "outputs": [
        {
          "output_type": "execute_result",
          "data": {
            "text/html": [
              "<div>\n",
              "<style scoped>\n",
              "    .dataframe tbody tr th:only-of-type {\n",
              "        vertical-align: middle;\n",
              "    }\n",
              "\n",
              "    .dataframe tbody tr th {\n",
              "        vertical-align: top;\n",
              "    }\n",
              "\n",
              "    .dataframe thead th {\n",
              "        text-align: right;\n",
              "    }\n",
              "</style>\n",
              "<table border=\"1\" class=\"dataframe\">\n",
              "  <thead>\n",
              "    <tr style=\"text-align: right;\">\n",
              "      <th></th>\n",
              "      <th>id</th>\n",
              "      <th>fac_1</th>\n",
              "      <th>fac_2</th>\n",
              "      <th>fac_3</th>\n",
              "      <th>fac_4</th>\n",
              "      <th>fac_5</th>\n",
              "      <th>fac_6</th>\n",
              "      <th>fac_7</th>\n",
              "      <th>fac_8</th>\n",
              "      <th>poi_1</th>\n",
              "      <th>poi_2</th>\n",
              "      <th>poi_3</th>\n",
              "      <th>size</th>\n",
              "      <th>price_monthly</th>\n",
              "      <th>room_count</th>\n",
              "      <th>total_call</th>\n",
              "      <th>gender</th>\n",
              "    </tr>\n",
              "  </thead>\n",
              "  <tbody>\n",
              "    <tr>\n",
              "      <th>0</th>\n",
              "      <td>1</td>\n",
              "      <td>0.0</td>\n",
              "      <td>1.0</td>\n",
              "      <td>0.0</td>\n",
              "      <td>1.0</td>\n",
              "      <td>1.0</td>\n",
              "      <td>0.0</td>\n",
              "      <td>0.0</td>\n",
              "      <td>1.0</td>\n",
              "      <td>1778.0</td>\n",
              "      <td>10038.0</td>\n",
              "      <td>4106.0</td>\n",
              "      <td>9.00</td>\n",
              "      <td>1500000.0</td>\n",
              "      <td>6.0</td>\n",
              "      <td>72</td>\n",
              "      <td>campur</td>\n",
              "    </tr>\n",
              "    <tr>\n",
              "      <th>1</th>\n",
              "      <td>2</td>\n",
              "      <td>0.0</td>\n",
              "      <td>1.0</td>\n",
              "      <td>0.0</td>\n",
              "      <td>1.0</td>\n",
              "      <td>1.0</td>\n",
              "      <td>0.0</td>\n",
              "      <td>0.0</td>\n",
              "      <td>1.0</td>\n",
              "      <td>4548.0</td>\n",
              "      <td>9332.0</td>\n",
              "      <td>6867.0</td>\n",
              "      <td>12.00</td>\n",
              "      <td>1500000.0</td>\n",
              "      <td>30.0</td>\n",
              "      <td>56</td>\n",
              "      <td>campur</td>\n",
              "    </tr>\n",
              "    <tr>\n",
              "      <th>2</th>\n",
              "      <td>3</td>\n",
              "      <td>0.0</td>\n",
              "      <td>1.0</td>\n",
              "      <td>0.0</td>\n",
              "      <td>1.0</td>\n",
              "      <td>1.0</td>\n",
              "      <td>0.0</td>\n",
              "      <td>0.0</td>\n",
              "      <td>1.0</td>\n",
              "      <td>5174.0</td>\n",
              "      <td>9021.0</td>\n",
              "      <td>3693.0</td>\n",
              "      <td>12.00</td>\n",
              "      <td>1600000.0</td>\n",
              "      <td>20.0</td>\n",
              "      <td>109</td>\n",
              "      <td>campur</td>\n",
              "    </tr>\n",
              "    <tr>\n",
              "      <th>3</th>\n",
              "      <td>4</td>\n",
              "      <td>0.0</td>\n",
              "      <td>1.0</td>\n",
              "      <td>0.0</td>\n",
              "      <td>1.0</td>\n",
              "      <td>1.0</td>\n",
              "      <td>0.0</td>\n",
              "      <td>0.0</td>\n",
              "      <td>1.0</td>\n",
              "      <td>1490.0</td>\n",
              "      <td>8954.0</td>\n",
              "      <td>2139.0</td>\n",
              "      <td>8.25</td>\n",
              "      <td>1500000.0</td>\n",
              "      <td>15.0</td>\n",
              "      <td>54</td>\n",
              "      <td>campur</td>\n",
              "    </tr>\n",
              "    <tr>\n",
              "      <th>4</th>\n",
              "      <td>5</td>\n",
              "      <td>0.0</td>\n",
              "      <td>1.0</td>\n",
              "      <td>0.0</td>\n",
              "      <td>1.0</td>\n",
              "      <td>1.0</td>\n",
              "      <td>0.0</td>\n",
              "      <td>0.0</td>\n",
              "      <td>1.0</td>\n",
              "      <td>1688.0</td>\n",
              "      <td>8851.0</td>\n",
              "      <td>2145.0</td>\n",
              "      <td>14.85</td>\n",
              "      <td>2100000.0</td>\n",
              "      <td>10.0</td>\n",
              "      <td>19</td>\n",
              "      <td>campur</td>\n",
              "    </tr>\n",
              "  </tbody>\n",
              "</table>\n",
              "</div>"
            ],
            "text/plain": [
              "   id  fac_1  fac_2  fac_3  ...  price_monthly  room_count  total_call  gender\n",
              "0   1    0.0    1.0    0.0  ...      1500000.0         6.0          72  campur\n",
              "1   2    0.0    1.0    0.0  ...      1500000.0        30.0          56  campur\n",
              "2   3    0.0    1.0    0.0  ...      1600000.0        20.0         109  campur\n",
              "3   4    0.0    1.0    0.0  ...      1500000.0        15.0          54  campur\n",
              "4   5    0.0    1.0    0.0  ...      2100000.0        10.0          19  campur\n",
              "\n",
              "[5 rows x 17 columns]"
            ]
          },
          "metadata": {
            "tags": []
          },
          "execution_count": 13
        }
      ]
    },
    {
      "cell_type": "code",
      "metadata": {
        "id": "IBJRowvRJZAU",
        "colab_type": "code",
        "colab": {
          "base_uri": "https://localhost:8080/",
          "height": 280
        },
        "outputId": "2e4da68f-5a18-45f2-b83d-4cc5628e8ad4"
      },
      "source": [
        "sns.distplot(train_df['room_count']);"
      ],
      "execution_count": 14,
      "outputs": [
        {
          "output_type": "display_data",
          "data": {
            "image/png": "[encoded data removed]",
            "text/plain": [
              "<Figure size 432x288 with 1 Axes>"
            ]
          },
          "metadata": {
            "tags": []
          }
        }
      ]
    },
    {
      "cell_type": "code",
      "metadata": {
        "id": "QLChnC-bKMj4",
        "colab_type": "code",
        "colab": {
          "base_uri": "https://localhost:8080/",
          "height": 308
        },
        "outputId": "543a2ce0-a72f-4bb5-c399-497d41ba7c74"
      },
      "source": [
        "sns.distplot(train_df['price_monthly'])"
      ],
      "execution_count": 15,
      "outputs": [
        {
          "output_type": "execute_result",
          "data": {
            "text/plain": [
              "<matplotlib.axes._subplots.AxesSubplot at 0x7f2dad283ba8>"
            ]
          },
          "metadata": {
            "tags": []
          },
          "execution_count": 15
        },
        {
          "output_type": "display_data",
          "data": {
            "image/png": "[encoded data removed]",
            "text/plain": [
              "<Figure size 432x288 with 1 Axes>"
            ]
          },
          "metadata": {
            "tags": []
          }
        }
      ]
    },
    {
      "cell_type": "code",
      "metadata": {
        "id": "63HketEYPLWV",
        "colab_type": "code",
        "colab": {}
      },
      "source": [
        "def detect_outlier(data, column):\n",
        "    q1 = data[column].quantile(0.25)\n",
        "    q3 = data[column].quantile(0.75)\n",
        "\n",
        "    iqr = q3 - q1\n",
        "    rub = q3 + 1.5*iqr\n",
        "    rlb = q1 - 1.5*iqr\n",
        "\n",
        "    outlier = (data[column] < rlb) | (data[column] > rub)\n",
        "    \n",
        "    return data[outlier]"
      ],
      "execution_count": 0,
      "outputs": []
    },
    {
      "cell_type": "code",
      "metadata": {
        "id": "vpCxrW8SSb2G",
        "colab_type": "code",
        "colab": {
          "base_uri": "https://localhost:8080/",
          "height": 439
        },
        "outputId": "18e4d7e2-3043-4108-f077-7b86026a404c"
      },
      "source": [
        "detect_outlier(train_df, 'price_monthly')"
      ],
      "execution_count": 21,
      "outputs": [
        {
          "output_type": "execute_result",
          "data": {
            "text/html": [
              "<div>\n",
              "<style scoped>\n",
              "    .dataframe tbody tr th:only-of-type {\n",
              "        vertical-align: middle;\n",
              "    }\n",
              "\n",
              "    .dataframe tbody tr th {\n",
              "        vertical-align: top;\n",
              "    }\n",
              "\n",
              "    .dataframe thead th {\n",
              "        text-align: right;\n",
              "    }\n",
              "</style>\n",
              "<table border=\"1\" class=\"dataframe\">\n",
              "  <thead>\n",
              "    <tr style=\"text-align: right;\">\n",
              "      <th></th>\n",
              "      <th>id</th>\n",
              "      <th>fac_1</th>\n",
              "      <th>fac_2</th>\n",
              "      <th>fac_3</th>\n",
              "      <th>fac_4</th>\n",
              "      <th>fac_5</th>\n",
              "      <th>fac_6</th>\n",
              "      <th>fac_7</th>\n",
              "      <th>fac_8</th>\n",
              "      <th>poi_1</th>\n",
              "      <th>poi_2</th>\n",
              "      <th>poi_3</th>\n",
              "      <th>size</th>\n",
              "      <th>price_monthly</th>\n",
              "      <th>room_count</th>\n",
              "      <th>total_call</th>\n",
              "      <th>gender</th>\n",
              "    </tr>\n",
              "  </thead>\n",
              "  <tbody>\n",
              "    <tr>\n",
              "      <th>4</th>\n",
              "      <td>5</td>\n",
              "      <td>0.0</td>\n",
              "      <td>1.0</td>\n",
              "      <td>0.0</td>\n",
              "      <td>1.0</td>\n",
              "      <td>1.0</td>\n",
              "      <td>0.0</td>\n",
              "      <td>0.0</td>\n",
              "      <td>1.0</td>\n",
              "      <td>1688.0</td>\n",
              "      <td>8851.0</td>\n",
              "      <td>2145.0</td>\n",
              "      <td>14.85</td>\n",
              "      <td>2100000.0</td>\n",
              "      <td>10.0</td>\n",
              "      <td>19</td>\n",
              "      <td>campur</td>\n",
              "    </tr>\n",
              "    <tr>\n",
              "      <th>8</th>\n",
              "      <td>9</td>\n",
              "      <td>0.0</td>\n",
              "      <td>1.0</td>\n",
              "      <td>0.0</td>\n",
              "      <td>1.0</td>\n",
              "      <td>1.0</td>\n",
              "      <td>0.0</td>\n",
              "      <td>0.0</td>\n",
              "      <td>1.0</td>\n",
              "      <td>4835.0</td>\n",
              "      <td>8490.0</td>\n",
              "      <td>3618.0</td>\n",
              "      <td>20.00</td>\n",
              "      <td>4000000.0</td>\n",
              "      <td>8.0</td>\n",
              "      <td>4</td>\n",
              "      <td>putri</td>\n",
              "    </tr>\n",
              "    <tr>\n",
              "      <th>25</th>\n",
              "      <td>26</td>\n",
              "      <td>0.0</td>\n",
              "      <td>1.0</td>\n",
              "      <td>0.0</td>\n",
              "      <td>1.0</td>\n",
              "      <td>1.0</td>\n",
              "      <td>0.0</td>\n",
              "      <td>0.0</td>\n",
              "      <td>1.0</td>\n",
              "      <td>2619.0</td>\n",
              "      <td>10326.0</td>\n",
              "      <td>688.0</td>\n",
              "      <td>16.00</td>\n",
              "      <td>2250000.0</td>\n",
              "      <td>46.0</td>\n",
              "      <td>44</td>\n",
              "      <td>campur</td>\n",
              "    </tr>\n",
              "    <tr>\n",
              "      <th>26</th>\n",
              "      <td>27</td>\n",
              "      <td>0.0</td>\n",
              "      <td>1.0</td>\n",
              "      <td>0.0</td>\n",
              "      <td>1.0</td>\n",
              "      <td>1.0</td>\n",
              "      <td>0.0</td>\n",
              "      <td>0.0</td>\n",
              "      <td>1.0</td>\n",
              "      <td>3465.0</td>\n",
              "      <td>10139.0</td>\n",
              "      <td>1554.0</td>\n",
              "      <td>12.00</td>\n",
              "      <td>2200000.0</td>\n",
              "      <td>27.0</td>\n",
              "      <td>13</td>\n",
              "      <td>campur</td>\n",
              "    </tr>\n",
              "    <tr>\n",
              "      <th>55</th>\n",
              "      <td>56</td>\n",
              "      <td>0.0</td>\n",
              "      <td>1.0</td>\n",
              "      <td>0.0</td>\n",
              "      <td>1.0</td>\n",
              "      <td>1.0</td>\n",
              "      <td>0.0</td>\n",
              "      <td>0.0</td>\n",
              "      <td>1.0</td>\n",
              "      <td>3213.0</td>\n",
              "      <td>9851.0</td>\n",
              "      <td>1513.0</td>\n",
              "      <td>20.00</td>\n",
              "      <td>3000000.0</td>\n",
              "      <td>2.0</td>\n",
              "      <td>6</td>\n",
              "      <td>campur</td>\n",
              "    </tr>\n",
              "    <tr>\n",
              "      <th>...</th>\n",
              "      <td>...</td>\n",
              "      <td>...</td>\n",
              "      <td>...</td>\n",
              "      <td>...</td>\n",
              "      <td>...</td>\n",
              "      <td>...</td>\n",
              "      <td>...</td>\n",
              "      <td>...</td>\n",
              "      <td>...</td>\n",
              "      <td>...</td>\n",
              "      <td>...</td>\n",
              "      <td>...</td>\n",
              "      <td>...</td>\n",
              "      <td>...</td>\n",
              "      <td>...</td>\n",
              "      <td>...</td>\n",
              "      <td>...</td>\n",
              "    </tr>\n",
              "    <tr>\n",
              "      <th>3079</th>\n",
              "      <td>3080</td>\n",
              "      <td>0.0</td>\n",
              "      <td>1.0</td>\n",
              "      <td>0.0</td>\n",
              "      <td>1.0</td>\n",
              "      <td>1.0</td>\n",
              "      <td>0.0</td>\n",
              "      <td>0.0</td>\n",
              "      <td>1.0</td>\n",
              "      <td>3371.0</td>\n",
              "      <td>7739.0</td>\n",
              "      <td>5417.0</td>\n",
              "      <td>20.00</td>\n",
              "      <td>2300000.0</td>\n",
              "      <td>7.0</td>\n",
              "      <td>12</td>\n",
              "      <td>campur</td>\n",
              "    </tr>\n",
              "    <tr>\n",
              "      <th>3080</th>\n",
              "      <td>3081</td>\n",
              "      <td>0.0</td>\n",
              "      <td>1.0</td>\n",
              "      <td>0.0</td>\n",
              "      <td>1.0</td>\n",
              "      <td>1.0</td>\n",
              "      <td>0.0</td>\n",
              "      <td>0.0</td>\n",
              "      <td>1.0</td>\n",
              "      <td>3313.0</td>\n",
              "      <td>7648.0</td>\n",
              "      <td>5319.0</td>\n",
              "      <td>20.00</td>\n",
              "      <td>2500000.0</td>\n",
              "      <td>7.0</td>\n",
              "      <td>14</td>\n",
              "      <td>campur</td>\n",
              "    </tr>\n",
              "    <tr>\n",
              "      <th>3265</th>\n",
              "      <td>3266</td>\n",
              "      <td>0.0</td>\n",
              "      <td>1.0</td>\n",
              "      <td>0.0</td>\n",
              "      <td>1.0</td>\n",
              "      <td>1.0</td>\n",
              "      <td>0.0</td>\n",
              "      <td>0.0</td>\n",
              "      <td>1.0</td>\n",
              "      <td>2210.0</td>\n",
              "      <td>11298.0</td>\n",
              "      <td>649.0</td>\n",
              "      <td>18.00</td>\n",
              "      <td>3000000.0</td>\n",
              "      <td>1.0</td>\n",
              "      <td>16</td>\n",
              "      <td>putri</td>\n",
              "    </tr>\n",
              "    <tr>\n",
              "      <th>3289</th>\n",
              "      <td>3290</td>\n",
              "      <td>0.0</td>\n",
              "      <td>1.0</td>\n",
              "      <td>0.0</td>\n",
              "      <td>1.0</td>\n",
              "      <td>1.0</td>\n",
              "      <td>0.0</td>\n",
              "      <td>0.0</td>\n",
              "      <td>1.0</td>\n",
              "      <td>3393.0</td>\n",
              "      <td>6930.0</td>\n",
              "      <td>3921.0</td>\n",
              "      <td>18.96</td>\n",
              "      <td>2200000.0</td>\n",
              "      <td>2.0</td>\n",
              "      <td>1</td>\n",
              "      <td>putri</td>\n",
              "    </tr>\n",
              "    <tr>\n",
              "      <th>3290</th>\n",
              "      <td>3291</td>\n",
              "      <td>0.0</td>\n",
              "      <td>1.0</td>\n",
              "      <td>0.0</td>\n",
              "      <td>1.0</td>\n",
              "      <td>1.0</td>\n",
              "      <td>0.0</td>\n",
              "      <td>0.0</td>\n",
              "      <td>1.0</td>\n",
              "      <td>3393.0</td>\n",
              "      <td>6930.0</td>\n",
              "      <td>3921.0</td>\n",
              "      <td>21.20</td>\n",
              "      <td>2500000.0</td>\n",
              "      <td>1.0</td>\n",
              "      <td>18</td>\n",
              "      <td>campur</td>\n",
              "    </tr>\n",
              "  </tbody>\n",
              "</table>\n",
              "<p>173 rows × 17 columns</p>\n",
              "</div>"
            ],
            "text/plain": [
              "        id  fac_1  fac_2  fac_3  ...  price_monthly  room_count  total_call  gender\n",
              "4        5    0.0    1.0    0.0  ...      2100000.0        10.0          19  campur\n",
              "8        9    0.0    1.0    0.0  ...      4000000.0         8.0           4   putri\n",
              "25      26    0.0    1.0    0.0  ...      2250000.0        46.0          44  campur\n",
              "26      27    0.0    1.0    0.0  ...      2200000.0        27.0          13  campur\n",
              "55      56    0.0    1.0    0.0  ...      3000000.0         2.0           6  campur\n",
              "...    ...    ...    ...    ...  ...            ...         ...         ...     ...\n",
              "3079  3080    0.0    1.0    0.0  ...      2300000.0         7.0          12  campur\n",
              "3080  3081    0.0    1.0    0.0  ...      2500000.0         7.0          14  campur\n",
              "3265  3266    0.0    1.0    0.0  ...      3000000.0         1.0          16   putri\n",
              "3289  3290    0.0    1.0    0.0  ...      2200000.0         2.0           1   putri\n",
              "3290  3291    0.0    1.0    0.0  ...      2500000.0         1.0          18  campur\n",
              "\n",
              "[173 rows x 17 columns]"
            ]
          },
          "metadata": {
            "tags": []
          },
          "execution_count": 21
        }
      ]
    },
    {
      "cell_type": "code",
      "metadata": {
        "id": "JgLuxI-ZZbF4",
        "colab_type": "code",
        "colab": {}
      },
      "source": [
        "gender_dict =  {\n",
        "    'gender' : {\n",
        "        'putra' : 0,\n",
        "        'putri' : 1,\n",
        "        'campur' : 2\n",
        "    }\n",
        "}\n",
        "\n",
        "train_df.replace(gender_dict, inplace=True)"
      ],
      "execution_count": 0,
      "outputs": []
    },
    {
      "cell_type": "code",
      "metadata": {
        "id": "qOtCm16XZjBj",
        "colab_type": "code",
        "colab": {
          "base_uri": "https://localhost:8080/",
          "height": 221
        },
        "outputId": "24d796c8-fafa-491b-ac49-471956d6f585"
      },
      "source": [
        "train_df['gender']"
      ],
      "execution_count": 46,
      "outputs": [
        {
          "output_type": "execute_result",
          "data": {
            "text/plain": [
              "0       2\n",
              "1       2\n",
              "2       2\n",
              "3       2\n",
              "4       2\n",
              "       ..\n",
              "3288    1\n",
              "3289    1\n",
              "3290    2\n",
              "3291    1\n",
              "3292    0\n",
              "Name: gender, Length: 3293, dtype: int64"
            ]
          },
          "metadata": {
            "tags": []
          },
          "execution_count": 46
        }
      ]
    },
    {
      "cell_type": "code",
      "metadata": {
        "id": "b7oBtoQ0St8H",
        "colab_type": "code",
        "colab": {}
      },
      "source": [
        "train_features = train_df.loc[:,'fac_1':'total_call']\n",
        "train_label = train_df.loc[:,'gender':]"
      ],
      "execution_count": 0,
      "outputs": []
    },
    {
      "cell_type": "code",
      "metadata": {
        "id": "bhVjHhxeSuHM",
        "colab_type": "code",
        "colab": {}
      },
      "source": [
        "X_train, X_test, y_train, y_test = train_test_split(train_features, train_label, test_size=0.20, random_state=42)"
      ],
      "execution_count": 0,
      "outputs": []
    },
    {
      "cell_type": "code",
      "metadata": {
        "id": "vGnViZBNSuLb",
        "colab_type": "code",
        "colab": {}
      },
      "source": [
        "input_layer = Input(shape=(train_features.shape[1],))\n",
        "dense_layer_1 = Dense(15, activation='relu')(input_layer)\n",
        "dense_layer_2 = Dense(10, activation='relu')(dense_layer_1)\n",
        "output = Dense(train_label.shape[1], activation='softmax')(dense_layer_2)\n",
        "\n",
        "model = Model(inputs=input_layer, outputs=output)\n",
        "model.compile(loss='categorical_crossentropy', optimizer='adam', metrics=['acc'])\n",
        "\n"
      ],
      "execution_count": 0,
      "outputs": []
    },
    {
      "cell_type": "code",
      "metadata": {
        "id": "sfS0BUpwSuS9",
        "colab_type": "code",
        "colab": {
          "base_uri": "https://localhost:8080/",
          "height": 34
        },
        "outputId": "62d04c58-3008-438e-a43a-b8ac4de2be18"
      },
      "source": [
        "train_label.shape"
      ],
      "execution_count": 39,
      "outputs": [
        {
          "output_type": "execute_result",
          "data": {
            "text/plain": [
              "(3293, 1)"
            ]
          },
          "metadata": {
            "tags": []
          },
          "execution_count": 39
        }
      ]
    },
    {
      "cell_type": "code",
      "metadata": {
        "id": "e0uMsj8lSuVp",
        "colab_type": "code",
        "colab": {
          "base_uri": "https://localhost:8080/",
          "height": 289
        },
        "outputId": "9fbd4ffc-46f2-4f8a-e1d1-70c8ad3ffd2d"
      },
      "source": [
        "model.summary()"
      ],
      "execution_count": 51,
      "outputs": [
        {
          "output_type": "stream",
          "text": [
            "Model: \"model_1\"\n",
            "_________________________________________________________________\n",
            "Layer (type)                 Output Shape              Param #   \n",
            "=================================================================\n",
            "input_6 (InputLayer)         [(None, 15)]              0         \n",
            "_________________________________________________________________\n",
            "dense_11 (Dense)             (None, 15)                240       \n",
            "_________________________________________________________________\n",
            "dense_12 (Dense)             (None, 10)                160       \n",
            "_________________________________________________________________\n",
            "dense_13 (Dense)             (None, 1)                 11        \n",
            "=================================================================\n",
            "Total params: 411\n",
            "Trainable params: 411\n",
            "Non-trainable params: 0\n",
            "_________________________________________________________________\n"
          ],
          "name": "stdout"
        }
      ]
    },
    {
      "cell_type": "code",
      "metadata": {
        "id": "27LWprdqSuYs",
        "colab_type": "code",
        "colab": {
          "base_uri": "https://localhost:8080/",
          "height": 1000
        },
        "outputId": "eb266cc9-8723-42ab-8e18-590cd0ec42e2"
      },
      "source": [
        "history = model.fit(X_train, y_train, batch_size=8, epochs=50, verbose=1, validation_split=0.3)"
      ],
      "execution_count": 55,
      "outputs": [
        {
          "output_type": "stream",
          "text": [
            "Epoch 1/50\n",
            "231/231 [==============================] - 0s 2ms/step - loss: 0.0000e+00 - acc: 0.5214 - val_loss: 0.0000e+00 - val_acc: 0.5133\n",
            "Epoch 2/50\n",
            "231/231 [==============================] - 0s 2ms/step - loss: 0.0000e+00 - acc: 0.5214 - val_loss: 0.0000e+00 - val_acc: 0.5133\n",
            "Epoch 3/50\n",
            "231/231 [==============================] - 0s 2ms/step - loss: 0.0000e+00 - acc: 0.5214 - val_loss: 0.0000e+00 - val_acc: 0.5133\n",
            "Epoch 4/50\n",
            "231/231 [==============================] - 0s 2ms/step - loss: 0.0000e+00 - acc: 0.5214 - val_loss: 0.0000e+00 - val_acc: 0.5133\n",
            "Epoch 5/50\n",
            "231/231 [==============================] - 0s 2ms/step - loss: 0.0000e+00 - acc: 0.5214 - val_loss: 0.0000e+00 - val_acc: 0.5133\n",
            "Epoch 6/50\n",
            "231/231 [==============================] - 0s 2ms/step - loss: 0.0000e+00 - acc: 0.5214 - val_loss: 0.0000e+00 - val_acc: 0.5133\n",
            "Epoch 7/50\n",
            "231/231 [==============================] - 0s 2ms/step - loss: 0.0000e+00 - acc: 0.5214 - val_loss: 0.0000e+00 - val_acc: 0.5133\n",
            "Epoch 8/50\n",
            "231/231 [==============================] - 0s 2ms/step - loss: 0.0000e+00 - acc: 0.5214 - val_loss: 0.0000e+00 - val_acc: 0.5133\n",
            "Epoch 9/50\n",
            "231/231 [==============================] - 0s 2ms/step - loss: 0.0000e+00 - acc: 0.5214 - val_loss: 0.0000e+00 - val_acc: 0.5133\n",
            "Epoch 10/50\n",
            "231/231 [==============================] - 0s 2ms/step - loss: 0.0000e+00 - acc: 0.5214 - val_loss: 0.0000e+00 - val_acc: 0.5133\n",
            "Epoch 11/50\n",
            "231/231 [==============================] - 0s 2ms/step - loss: 0.0000e+00 - acc: 0.5214 - val_loss: 0.0000e+00 - val_acc: 0.5133\n",
            "Epoch 12/50\n",
            "231/231 [==============================] - 0s 2ms/step - loss: 0.0000e+00 - acc: 0.5214 - val_loss: 0.0000e+00 - val_acc: 0.5133\n",
            "Epoch 13/50\n",
            "231/231 [==============================] - 0s 2ms/step - loss: 0.0000e+00 - acc: 0.5214 - val_loss: 0.0000e+00 - val_acc: 0.5133\n",
            "Epoch 14/50\n",
            "231/231 [==============================] - 0s 2ms/step - loss: 0.0000e+00 - acc: 0.5214 - val_loss: 0.0000e+00 - val_acc: 0.5133\n",
            "Epoch 15/50\n",
            "231/231 [==============================] - 0s 2ms/step - loss: 0.0000e+00 - acc: 0.5214 - val_loss: 0.0000e+00 - val_acc: 0.5133\n",
            "Epoch 16/50\n",
            "231/231 [==============================] - 0s 2ms/step - loss: 0.0000e+00 - acc: 0.5214 - val_loss: 0.0000e+00 - val_acc: 0.5133\n",
            "Epoch 17/50\n",
            "231/231 [==============================] - 0s 2ms/step - loss: 0.0000e+00 - acc: 0.5214 - val_loss: 0.0000e+00 - val_acc: 0.5133\n",
            "Epoch 18/50\n",
            "231/231 [==============================] - 0s 2ms/step - loss: 0.0000e+00 - acc: 0.5214 - val_loss: 0.0000e+00 - val_acc: 0.5133\n",
            "Epoch 19/50\n",
            "231/231 [==============================] - 0s 2ms/step - loss: 0.0000e+00 - acc: 0.5214 - val_loss: 0.0000e+00 - val_acc: 0.5133\n",
            "Epoch 20/50\n",
            "231/231 [==============================] - 0s 2ms/step - loss: 0.0000e+00 - acc: 0.5214 - val_loss: 0.0000e+00 - val_acc: 0.5133\n",
            "Epoch 21/50\n",
            "231/231 [==============================] - 0s 2ms/step - loss: 0.0000e+00 - acc: 0.5214 - val_loss: 0.0000e+00 - val_acc: 0.5133\n",
            "Epoch 22/50\n",
            "231/231 [==============================] - 0s 2ms/step - loss: 0.0000e+00 - acc: 0.5214 - val_loss: 0.0000e+00 - val_acc: 0.5133\n",
            "Epoch 23/50\n",
            "231/231 [==============================] - 0s 2ms/step - loss: 0.0000e+00 - acc: 0.5214 - val_loss: 0.0000e+00 - val_acc: 0.5133\n",
            "Epoch 24/50\n",
            "231/231 [==============================] - 0s 2ms/step - loss: 0.0000e+00 - acc: 0.5214 - val_loss: 0.0000e+00 - val_acc: 0.5133\n",
            "Epoch 25/50\n",
            "231/231 [==============================] - 0s 2ms/step - loss: 0.0000e+00 - acc: 0.5214 - val_loss: 0.0000e+00 - val_acc: 0.5133\n",
            "Epoch 26/50\n",
            "231/231 [==============================] - 0s 2ms/step - loss: 0.0000e+00 - acc: 0.5214 - val_loss: 0.0000e+00 - val_acc: 0.5133\n",
            "Epoch 27/50\n",
            "231/231 [==============================] - 0s 2ms/step - loss: 0.0000e+00 - acc: 0.5214 - val_loss: 0.0000e+00 - val_acc: 0.5133\n",
            "Epoch 28/50\n",
            "231/231 [==============================] - 0s 2ms/step - loss: 0.0000e+00 - acc: 0.5214 - val_loss: 0.0000e+00 - val_acc: 0.5133\n",
            "Epoch 29/50\n",
            "231/231 [==============================] - 0s 2ms/step - loss: 0.0000e+00 - acc: 0.5214 - val_loss: 0.0000e+00 - val_acc: 0.5133\n",
            "Epoch 30/50\n",
            "231/231 [==============================] - 0s 2ms/step - loss: 0.0000e+00 - acc: 0.5214 - val_loss: 0.0000e+00 - val_acc: 0.5133\n",
            "Epoch 31/50\n",
            "231/231 [==============================] - 0s 2ms/step - loss: 0.0000e+00 - acc: 0.5214 - val_loss: 0.0000e+00 - val_acc: 0.5133\n",
            "Epoch 32/50\n",
            "231/231 [==============================] - 0s 2ms/step - loss: 0.0000e+00 - acc: 0.5214 - val_loss: 0.0000e+00 - val_acc: 0.5133\n",
            "Epoch 33/50\n",
            "231/231 [==============================] - 0s 2ms/step - loss: 0.0000e+00 - acc: 0.5214 - val_loss: 0.0000e+00 - val_acc: 0.5133\n",
            "Epoch 34/50\n",
            "231/231 [==============================] - 0s 2ms/step - loss: 0.0000e+00 - acc: 0.5214 - val_loss: 0.0000e+00 - val_acc: 0.5133\n",
            "Epoch 35/50\n",
            "231/231 [==============================] - 0s 2ms/step - loss: 0.0000e+00 - acc: 0.5214 - val_loss: 0.0000e+00 - val_acc: 0.5133\n",
            "Epoch 36/50\n",
            "231/231 [==============================] - 0s 2ms/step - loss: 0.0000e+00 - acc: 0.5214 - val_loss: 0.0000e+00 - val_acc: 0.5133\n",
            "Epoch 37/50\n",
            "231/231 [==============================] - 0s 2ms/step - loss: 0.0000e+00 - acc: 0.5214 - val_loss: 0.0000e+00 - val_acc: 0.5133\n",
            "Epoch 38/50\n",
            "231/231 [==============================] - 0s 2ms/step - loss: 0.0000e+00 - acc: 0.5214 - val_loss: 0.0000e+00 - val_acc: 0.5133\n",
            "Epoch 39/50\n",
            "231/231 [==============================] - 0s 2ms/step - loss: 0.0000e+00 - acc: 0.5214 - val_loss: 0.0000e+00 - val_acc: 0.5133\n",
            "Epoch 40/50\n",
            "231/231 [==============================] - 0s 2ms/step - loss: 0.0000e+00 - acc: 0.5214 - val_loss: 0.0000e+00 - val_acc: 0.5133\n",
            "Epoch 41/50\n",
            "231/231 [==============================] - 0s 2ms/step - loss: 0.0000e+00 - acc: 0.5214 - val_loss: 0.0000e+00 - val_acc: 0.5133\n",
            "Epoch 42/50\n",
            "231/231 [==============================] - 0s 2ms/step - loss: 0.0000e+00 - acc: 0.5214 - val_loss: 0.0000e+00 - val_acc: 0.5133\n",
            "Epoch 43/50\n",
            "231/231 [==============================] - 0s 2ms/step - loss: 0.0000e+00 - acc: 0.5214 - val_loss: 0.0000e+00 - val_acc: 0.5133\n",
            "Epoch 44/50\n",
            "231/231 [==============================] - 0s 2ms/step - loss: 0.0000e+00 - acc: 0.5214 - val_loss: 0.0000e+00 - val_acc: 0.5133\n",
            "Epoch 45/50\n",
            "231/231 [==============================] - 0s 2ms/step - loss: 0.0000e+00 - acc: 0.5214 - val_loss: 0.0000e+00 - val_acc: 0.5133\n",
            "Epoch 46/50\n",
            "231/231 [==============================] - 0s 2ms/step - loss: 0.0000e+00 - acc: 0.5214 - val_loss: 0.0000e+00 - val_acc: 0.5133\n",
            "Epoch 47/50\n",
            "231/231 [==============================] - 0s 2ms/step - loss: 0.0000e+00 - acc: 0.5214 - val_loss: 0.0000e+00 - val_acc: 0.5133\n",
            "Epoch 48/50\n",
            "231/231 [==============================] - 0s 2ms/step - loss: 0.0000e+00 - acc: 0.5214 - val_loss: 0.0000e+00 - val_acc: 0.5133\n",
            "Epoch 49/50\n",
            "231/231 [==============================] - 0s 2ms/step - loss: 0.0000e+00 - acc: 0.5214 - val_loss: 0.0000e+00 - val_acc: 0.5133\n",
            "Epoch 50/50\n",
            "231/231 [==============================] - 0s 2ms/step - loss: 0.0000e+00 - acc: 0.5214 - val_loss: 0.0000e+00 - val_acc: 0.5133\n"
          ],
          "name": "stdout"
        }
      ]
    },
    {
      "cell_type": "code",
      "metadata": {
        "id": "iSBYRyDgSucx",
        "colab_type": "code",
        "colab": {
          "base_uri": "https://localhost:8080/",
          "height": 68
        },
        "outputId": "a2dc50b3-ac0d-4882-effd-4461babe94f3"
      },
      "source": [
        "score = model.evaluate(X_test, y_test, verbose=1)\n",
        "\n",
        "print(\"Test Score:\", score[0])\n",
        "print(\"Test Accuracy:\", score[1])"
      ],
      "execution_count": 56,
      "outputs": [
        {
          "output_type": "stream",
          "text": [
            "21/21 [==============================] - 0s 1ms/step - loss: 0.0000e+00 - acc: 0.5493\n",
            "Test Score: 0.0\n",
            "Test Accuracy: 0.5493171215057373\n"
          ],
          "name": "stdout"
        }
      ]
    },
    {
      "cell_type": "code",
      "metadata": {
        "id": "tgPEscu2Suh6",
        "colab_type": "code",
        "colab": {
          "base_uri": "https://localhost:8080/",
          "height": 34
        },
        "outputId": "e29b9e91-de4b-49e9-d22c-86f1211ebbf5"
      },
      "source": [
        "score"
      ],
      "execution_count": 54,
      "outputs": [
        {
          "output_type": "execute_result",
          "data": {
            "text/plain": [
              "[0.0, 0.5493171215057373]"
            ]
          },
          "metadata": {
            "tags": []
          },
          "execution_count": 54
        }
      ]
    },
    {
      "cell_type": "code",
      "metadata": {
        "id": "q6PA5AGSSufe",
        "colab_type": "code",
        "colab": {}
      },
      "source": [
        ""
      ],
      "execution_count": 0,
      "outputs": []
    },
    {
      "cell_type": "code",
      "metadata": {
        "id": "k6rXCRRJSua3",
        "colab_type": "code",
        "colab": {}
      },
      "source": [
        ""
      ],
      "execution_count": 0,
      "outputs": []
    }
  ]
}