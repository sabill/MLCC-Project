{
  "nbformat": 4,
  "nbformat_minor": 0,
  "metadata": {
    "colab": {
      "name": "first-project.ipynb",
      "provenance": [],
      "collapsed_sections": [],
      "toc_visible": true,
      "include_colab_link": true
    },
    "kernelspec": {
      "name": "python3",
      "display_name": "Python 3"
    }
  },
  "cells": [
    {
      "cell_type": "markdown",
      "metadata": {
        "id": "view-in-github",
        "colab_type": "text"
      },
      "source": [
        "<a href=\"https://colab.research.google.com/github/sabill/MLCC-Project/blob/master/first_project.ipynb\" target=\"_parent\"><img src=\"https://colab.research.google.com/assets/colab-badge.svg\" alt=\"Open In Colab\"/></a>"
      ]
    },
    {
      "cell_type": "markdown",
      "metadata": {
        "id": "YIG8NESO_fm7",
        "colab_type": "text"
      },
      "source": [
        "Coba data yg klasifikasi (joint 2019 dr kaggle)"
      ]
    },
    {
      "cell_type": "code",
      "metadata": {
        "id": "zFyq10L59D98",
        "colab_type": "code",
        "colab": {}
      },
      "source": [
        "#@title Run on TensorFlow 2.x\n",
        "%tensorflow_version 2.x"
      ],
      "execution_count": 0,
      "outputs": []
    },
    {
      "cell_type": "code",
      "metadata": {
        "id": "NbA136vl_X0M",
        "colab_type": "code",
        "outputId": "5eccef77-1acf-4677-a4ac-c51c8c4682f7",
        "colab": {
          "base_uri": "https://localhost:8080/",
          "height": 71
        }
      },
      "source": [
        "import numpy as np\n",
        "import pandas as pd\n",
        "import tensorflow as tf\n",
        "import seaborn as sns\n",
        "# from tensorflow import feature_column\n",
        "from tensorflow.keras import layers, Sequential\n",
        "from tensorflow.keras.layers import Input, Dense, Activation,Dropout\n",
        "from tensorflow.keras.models import Model\n",
        "from matplotlib import pyplot as plt\n",
        "from google.colab import files\n",
        "from sklearn.model_selection import train_test_split\n",
        "import io\n",
        "from sklearn.impute import KNNImputer"
      ],
      "execution_count": 2,
      "outputs": [
        {
          "output_type": "stream",
          "text": [
            "/usr/local/lib/python3.6/dist-packages/statsmodels/tools/_testing.py:19: FutureWarning: pandas.util.testing is deprecated. Use the functions in the public API at pandas.testing instead.\n",
            "  import pandas.util.testing as tm\n"
          ],
          "name": "stderr"
        }
      ]
    },
    {
      "cell_type": "code",
      "metadata": {
        "id": "8TtcvYPm_6L8",
        "colab_type": "code",
        "outputId": "bd3ee9cb-dd67-4a7f-b3ee-3949a1e56032",
        "colab": {
          "resources": {
            "http://localhost:8080/nbextensions/google.colab/files.js": {
              "data": "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",
              "ok": true,
              "headers": [
                [
                  "content-type",
                  "application/javascript"
                ]
              ],
              "status": 200,
              "status_text": ""
            }
          },
          "base_uri": "https://localhost:8080/",
          "height": 281
        }
      },
      "source": [
        "uploaded = files.upload()\n",
        "train_df = pd.read_csv(io.BytesIO(uploaded['train.csv']))\n",
        "\n",
        "train_df.head()"
      ],
      "execution_count": 3,
      "outputs": [
        {
          "output_type": "display_data",
          "data": {
            "text/html": [
              "\n",
              "     <input type=\"file\" id=\"files-0d86652b-cf4f-4355-9afb-5e213e6fece3\" name=\"files[]\" multiple disabled />\n",
              "     <output id=\"result-0d86652b-cf4f-4355-9afb-5e213e6fece3\">\n",
              "      Upload widget is only available when the cell has been executed in the\n",
              "      current browser session. Please rerun this cell to enable.\n",
              "      </output>\n",
              "      <script src=\"/nbextensions/google.colab/files.js\"></script> "
            ],
            "text/plain": [
              "<IPython.core.display.HTML object>"
            ]
          },
          "metadata": {
            "tags": []
          }
        },
        {
          "output_type": "stream",
          "text": [
            "Saving train.csv to train (28).csv\n"
          ],
          "name": "stdout"
        },
        {
          "output_type": "execute_result",
          "data": {
            "text/html": [
              "<div>\n",
              "<style scoped>\n",
              "    .dataframe tbody tr th:only-of-type {\n",
              "        vertical-align: middle;\n",
              "    }\n",
              "\n",
              "    .dataframe tbody tr th {\n",
              "        vertical-align: top;\n",
              "    }\n",
              "\n",
              "    .dataframe thead th {\n",
              "        text-align: right;\n",
              "    }\n",
              "</style>\n",
              "<table border=\"1\" class=\"dataframe\">\n",
              "  <thead>\n",
              "    <tr style=\"text-align: right;\">\n",
              "      <th></th>\n",
              "      <th>id</th>\n",
              "      <th>fac_1</th>\n",
              "      <th>fac_2</th>\n",
              "      <th>fac_3</th>\n",
              "      <th>fac_4</th>\n",
              "      <th>fac_5</th>\n",
              "      <th>fac_6</th>\n",
              "      <th>fac_7</th>\n",
              "      <th>fac_8</th>\n",
              "      <th>poi_1</th>\n",
              "      <th>poi_2</th>\n",
              "      <th>poi_3</th>\n",
              "      <th>size</th>\n",
              "      <th>price_monthly</th>\n",
              "      <th>room_count</th>\n",
              "      <th>total_call</th>\n",
              "      <th>gender</th>\n",
              "    </tr>\n",
              "  </thead>\n",
              "  <tbody>\n",
              "    <tr>\n",
              "      <th>0</th>\n",
              "      <td>1</td>\n",
              "      <td>1.0</td>\n",
              "      <td>1.0</td>\n",
              "      <td>1.0</td>\n",
              "      <td>1.0</td>\n",
              "      <td>1.0</td>\n",
              "      <td>1.0</td>\n",
              "      <td>0.0</td>\n",
              "      <td>1.0</td>\n",
              "      <td>1778.0</td>\n",
              "      <td>10038.0</td>\n",
              "      <td>4106.0</td>\n",
              "      <td>9.00</td>\n",
              "      <td>1500000.0</td>\n",
              "      <td>6.0</td>\n",
              "      <td>72</td>\n",
              "      <td>campur</td>\n",
              "    </tr>\n",
              "    <tr>\n",
              "      <th>1</th>\n",
              "      <td>2</td>\n",
              "      <td>1.0</td>\n",
              "      <td>1.0</td>\n",
              "      <td>0.0</td>\n",
              "      <td>1.0</td>\n",
              "      <td>1.0</td>\n",
              "      <td>1.0</td>\n",
              "      <td>0.0</td>\n",
              "      <td>NaN</td>\n",
              "      <td>4548.0</td>\n",
              "      <td>9332.0</td>\n",
              "      <td>6867.0</td>\n",
              "      <td>12.00</td>\n",
              "      <td>1500000.0</td>\n",
              "      <td>30.0</td>\n",
              "      <td>56</td>\n",
              "      <td>campur</td>\n",
              "    </tr>\n",
              "    <tr>\n",
              "      <th>2</th>\n",
              "      <td>3</td>\n",
              "      <td>1.0</td>\n",
              "      <td>NaN</td>\n",
              "      <td>1.0</td>\n",
              "      <td>1.0</td>\n",
              "      <td>1.0</td>\n",
              "      <td>1.0</td>\n",
              "      <td>0.0</td>\n",
              "      <td>1.0</td>\n",
              "      <td>5174.0</td>\n",
              "      <td>9021.0</td>\n",
              "      <td>3693.0</td>\n",
              "      <td>12.00</td>\n",
              "      <td>1600000.0</td>\n",
              "      <td>20.0</td>\n",
              "      <td>109</td>\n",
              "      <td>campur</td>\n",
              "    </tr>\n",
              "    <tr>\n",
              "      <th>3</th>\n",
              "      <td>4</td>\n",
              "      <td>1.0</td>\n",
              "      <td>1.0</td>\n",
              "      <td>1.0</td>\n",
              "      <td>1.0</td>\n",
              "      <td>1.0</td>\n",
              "      <td>1.0</td>\n",
              "      <td>0.0</td>\n",
              "      <td>0.0</td>\n",
              "      <td>1490.0</td>\n",
              "      <td>8954.0</td>\n",
              "      <td>2139.0</td>\n",
              "      <td>8.25</td>\n",
              "      <td>1500000.0</td>\n",
              "      <td>15.0</td>\n",
              "      <td>54</td>\n",
              "      <td>campur</td>\n",
              "    </tr>\n",
              "    <tr>\n",
              "      <th>4</th>\n",
              "      <td>5</td>\n",
              "      <td>1.0</td>\n",
              "      <td>1.0</td>\n",
              "      <td>0.0</td>\n",
              "      <td>1.0</td>\n",
              "      <td>1.0</td>\n",
              "      <td>1.0</td>\n",
              "      <td>0.0</td>\n",
              "      <td>1.0</td>\n",
              "      <td>1688.0</td>\n",
              "      <td>8851.0</td>\n",
              "      <td>2145.0</td>\n",
              "      <td>14.85</td>\n",
              "      <td>2100000.0</td>\n",
              "      <td>10.0</td>\n",
              "      <td>19</td>\n",
              "      <td>campur</td>\n",
              "    </tr>\n",
              "  </tbody>\n",
              "</table>\n",
              "</div>"
            ],
            "text/plain": [
              "   id  fac_1  fac_2  fac_3  ...  price_monthly  room_count  total_call  gender\n",
              "0   1    1.0    1.0    1.0  ...      1500000.0         6.0          72  campur\n",
              "1   2    1.0    1.0    0.0  ...      1500000.0        30.0          56  campur\n",
              "2   3    1.0    NaN    1.0  ...      1600000.0        20.0         109  campur\n",
              "3   4    1.0    1.0    1.0  ...      1500000.0        15.0          54  campur\n",
              "4   5    1.0    1.0    0.0  ...      2100000.0        10.0          19  campur\n",
              "\n",
              "[5 rows x 17 columns]"
            ]
          },
          "metadata": {
            "tags": []
          },
          "execution_count": 3
        }
      ]
    },
    {
      "cell_type": "markdown",
      "metadata": {
        "id": "RBcsxzqYFpcC",
        "colab_type": "text"
      },
      "source": [
        "Data Preprocessing"
      ]
    },
    {
      "cell_type": "code",
      "metadata": {
        "id": "b1KPLVMinOzx",
        "colab_type": "code",
        "outputId": "ce664248-e26e-4035-8ca8-b66e8b16e07e",
        "colab": {
          "base_uri": "https://localhost:8080/",
          "height": 323
        }
      },
      "source": [
        "train_df.isnull().sum()"
      ],
      "execution_count": 4,
      "outputs": [
        {
          "output_type": "execute_result",
          "data": {
            "text/plain": [
              "id                0\n",
              "fac_1            63\n",
              "fac_2            74\n",
              "fac_3            62\n",
              "fac_4            71\n",
              "fac_5            72\n",
              "fac_6            64\n",
              "fac_7            78\n",
              "fac_8            68\n",
              "poi_1            67\n",
              "poi_2            67\n",
              "poi_3            86\n",
              "size             68\n",
              "price_monthly    85\n",
              "room_count       70\n",
              "total_call        0\n",
              "gender            0\n",
              "dtype: int64"
            ]
          },
          "metadata": {
            "tags": []
          },
          "execution_count": 4
        }
      ]
    },
    {
      "cell_type": "code",
      "metadata": {
        "id": "aI2tgmVJmLY2",
        "colab_type": "code",
        "outputId": "b871257a-cc30-4f56-df4c-7aa86cba9b46",
        "colab": {
          "base_uri": "https://localhost:8080/",
          "height": 425
        }
      },
      "source": [
        "for i in train_df.columns[1:9]:\n",
        "  print(train_df[i].value_counts())"
      ],
      "execution_count": 5,
      "outputs": [
        {
          "output_type": "stream",
          "text": [
            "0.0    2385\n",
            "1.0     845\n",
            "Name: fac_1, dtype: int64\n",
            "1.0    1958\n",
            "0.0    1261\n",
            "Name: fac_2, dtype: int64\n",
            "0.0    1756\n",
            "1.0    1475\n",
            "Name: fac_3, dtype: int64\n",
            "1.0    1812\n",
            "0.0    1410\n",
            "Name: fac_4, dtype: int64\n",
            "1.0    2066\n",
            "0.0    1155\n",
            "Name: fac_5, dtype: int64\n",
            "0.0    1848\n",
            "1.0    1381\n",
            "Name: fac_6, dtype: int64\n",
            "0.0    3200\n",
            "1.0      15\n",
            "Name: fac_7, dtype: int64\n",
            "1.0    1672\n",
            "0.0    1553\n",
            "Name: fac_8, dtype: int64\n"
          ],
          "name": "stdout"
        }
      ]
    },
    {
      "cell_type": "code",
      "metadata": {
        "id": "cuqjECASASC4",
        "colab_type": "code",
        "colab": {}
      },
      "source": [
        "#fill null data (fac_1 until fac_8) with mode\n",
        "for column in train_df.columns[1:9]:\n",
        "  train_df[column] = train_df[column].fillna(train_df[column].mode()[0])"
      ],
      "execution_count": 0,
      "outputs": []
    },
    {
      "cell_type": "code",
      "metadata": {
        "id": "Vo7C0uNGWZXm",
        "colab_type": "code",
        "outputId": "a9e9978a-3c9d-4caa-866c-f84220a56085",
        "colab": {
          "base_uri": "https://localhost:8080/",
          "height": 425
        }
      },
      "source": [
        "for i in train_df.columns[1:9]:\n",
        "  print(train_df[i].value_counts())"
      ],
      "execution_count": 7,
      "outputs": [
        {
          "output_type": "stream",
          "text": [
            "0.0    2448\n",
            "1.0     845\n",
            "Name: fac_1, dtype: int64\n",
            "1.0    2032\n",
            "0.0    1261\n",
            "Name: fac_2, dtype: int64\n",
            "0.0    1818\n",
            "1.0    1475\n",
            "Name: fac_3, dtype: int64\n",
            "1.0    1883\n",
            "0.0    1410\n",
            "Name: fac_4, dtype: int64\n",
            "1.0    2138\n",
            "0.0    1155\n",
            "Name: fac_5, dtype: int64\n",
            "0.0    1912\n",
            "1.0    1381\n",
            "Name: fac_6, dtype: int64\n",
            "0.0    3278\n",
            "1.0      15\n",
            "Name: fac_7, dtype: int64\n",
            "1.0    1740\n",
            "0.0    1553\n",
            "Name: fac_8, dtype: int64\n"
          ],
          "name": "stdout"
        }
      ]
    },
    {
      "cell_type": "code",
      "metadata": {
        "id": "gU7QutlAR_-s",
        "colab_type": "code",
        "colab": {}
      },
      "source": [
        "gender = {'putri':0, 'putra':1, 'campur':2}\n",
        "train_df['gender'] = train_df['gender'].map(gender)"
      ],
      "execution_count": 0,
      "outputs": []
    },
    {
      "cell_type": "code",
      "metadata": {
        "id": "nQfsrNkvSCVI",
        "colab_type": "code",
        "outputId": "f6b8b996-c1b9-40e0-8f60-c918e7894fd1",
        "colab": {
          "base_uri": "https://localhost:8080/",
          "height": 204
        }
      },
      "source": [
        "#Fill missing value\n",
        "imputer = KNNImputer(n_neighbors=10, weights=\"uniform\")\n",
        "train_df = pd.DataFrame(imputer.fit_transform(train_df))\n",
        "train_df.head()"
      ],
      "execution_count": 9,
      "outputs": [
        {
          "output_type": "execute_result",
          "data": {
            "text/html": [
              "<div>\n",
              "<style scoped>\n",
              "    .dataframe tbody tr th:only-of-type {\n",
              "        vertical-align: middle;\n",
              "    }\n",
              "\n",
              "    .dataframe tbody tr th {\n",
              "        vertical-align: top;\n",
              "    }\n",
              "\n",
              "    .dataframe thead th {\n",
              "        text-align: right;\n",
              "    }\n",
              "</style>\n",
              "<table border=\"1\" class=\"dataframe\">\n",
              "  <thead>\n",
              "    <tr style=\"text-align: right;\">\n",
              "      <th></th>\n",
              "      <th>0</th>\n",
              "      <th>1</th>\n",
              "      <th>2</th>\n",
              "      <th>3</th>\n",
              "      <th>4</th>\n",
              "      <th>5</th>\n",
              "      <th>6</th>\n",
              "      <th>7</th>\n",
              "      <th>8</th>\n",
              "      <th>9</th>\n",
              "      <th>10</th>\n",
              "      <th>11</th>\n",
              "      <th>12</th>\n",
              "      <th>13</th>\n",
              "      <th>14</th>\n",
              "      <th>15</th>\n",
              "      <th>16</th>\n",
              "    </tr>\n",
              "  </thead>\n",
              "  <tbody>\n",
              "    <tr>\n",
              "      <th>0</th>\n",
              "      <td>1.0</td>\n",
              "      <td>1.0</td>\n",
              "      <td>1.0</td>\n",
              "      <td>1.0</td>\n",
              "      <td>1.0</td>\n",
              "      <td>1.0</td>\n",
              "      <td>1.0</td>\n",
              "      <td>0.0</td>\n",
              "      <td>1.0</td>\n",
              "      <td>1778.0</td>\n",
              "      <td>10038.0</td>\n",
              "      <td>4106.0</td>\n",
              "      <td>9.00</td>\n",
              "      <td>1500000.0</td>\n",
              "      <td>6.0</td>\n",
              "      <td>72.0</td>\n",
              "      <td>2.0</td>\n",
              "    </tr>\n",
              "    <tr>\n",
              "      <th>1</th>\n",
              "      <td>2.0</td>\n",
              "      <td>1.0</td>\n",
              "      <td>1.0</td>\n",
              "      <td>0.0</td>\n",
              "      <td>1.0</td>\n",
              "      <td>1.0</td>\n",
              "      <td>1.0</td>\n",
              "      <td>0.0</td>\n",
              "      <td>1.0</td>\n",
              "      <td>4548.0</td>\n",
              "      <td>9332.0</td>\n",
              "      <td>6867.0</td>\n",
              "      <td>12.00</td>\n",
              "      <td>1500000.0</td>\n",
              "      <td>30.0</td>\n",
              "      <td>56.0</td>\n",
              "      <td>2.0</td>\n",
              "    </tr>\n",
              "    <tr>\n",
              "      <th>2</th>\n",
              "      <td>3.0</td>\n",
              "      <td>1.0</td>\n",
              "      <td>1.0</td>\n",
              "      <td>1.0</td>\n",
              "      <td>1.0</td>\n",
              "      <td>1.0</td>\n",
              "      <td>1.0</td>\n",
              "      <td>0.0</td>\n",
              "      <td>1.0</td>\n",
              "      <td>5174.0</td>\n",
              "      <td>9021.0</td>\n",
              "      <td>3693.0</td>\n",
              "      <td>12.00</td>\n",
              "      <td>1600000.0</td>\n",
              "      <td>20.0</td>\n",
              "      <td>109.0</td>\n",
              "      <td>2.0</td>\n",
              "    </tr>\n",
              "    <tr>\n",
              "      <th>3</th>\n",
              "      <td>4.0</td>\n",
              "      <td>1.0</td>\n",
              "      <td>1.0</td>\n",
              "      <td>1.0</td>\n",
              "      <td>1.0</td>\n",
              "      <td>1.0</td>\n",
              "      <td>1.0</td>\n",
              "      <td>0.0</td>\n",
              "      <td>0.0</td>\n",
              "      <td>1490.0</td>\n",
              "      <td>8954.0</td>\n",
              "      <td>2139.0</td>\n",
              "      <td>8.25</td>\n",
              "      <td>1500000.0</td>\n",
              "      <td>15.0</td>\n",
              "      <td>54.0</td>\n",
              "      <td>2.0</td>\n",
              "    </tr>\n",
              "    <tr>\n",
              "      <th>4</th>\n",
              "      <td>5.0</td>\n",
              "      <td>1.0</td>\n",
              "      <td>1.0</td>\n",
              "      <td>0.0</td>\n",
              "      <td>1.0</td>\n",
              "      <td>1.0</td>\n",
              "      <td>1.0</td>\n",
              "      <td>0.0</td>\n",
              "      <td>1.0</td>\n",
              "      <td>1688.0</td>\n",
              "      <td>8851.0</td>\n",
              "      <td>2145.0</td>\n",
              "      <td>14.85</td>\n",
              "      <td>2100000.0</td>\n",
              "      <td>10.0</td>\n",
              "      <td>19.0</td>\n",
              "      <td>2.0</td>\n",
              "    </tr>\n",
              "  </tbody>\n",
              "</table>\n",
              "</div>"
            ],
            "text/plain": [
              "    0    1    2    3    4    5   ...      11     12         13    14     15   16\n",
              "0  1.0  1.0  1.0  1.0  1.0  1.0  ...  4106.0   9.00  1500000.0   6.0   72.0  2.0\n",
              "1  2.0  1.0  1.0  0.0  1.0  1.0  ...  6867.0  12.00  1500000.0  30.0   56.0  2.0\n",
              "2  3.0  1.0  1.0  1.0  1.0  1.0  ...  3693.0  12.00  1600000.0  20.0  109.0  2.0\n",
              "3  4.0  1.0  1.0  1.0  1.0  1.0  ...  2139.0   8.25  1500000.0  15.0   54.0  2.0\n",
              "4  5.0  1.0  1.0  0.0  1.0  1.0  ...  2145.0  14.85  2100000.0  10.0   19.0  2.0\n",
              "\n",
              "[5 rows x 17 columns]"
            ]
          },
          "metadata": {
            "tags": []
          },
          "execution_count": 9
        }
      ]
    },
    {
      "cell_type": "code",
      "metadata": {
        "id": "7L5Xv-M0muGh",
        "colab_type": "code",
        "colab": {}
      },
      "source": [
        "# for i in train_df.columns[1:9]:\n",
        "#   print(train_df[i].value_counts())"
      ],
      "execution_count": 0,
      "outputs": []
    },
    {
      "cell_type": "code",
      "metadata": {
        "id": "99Y-zXYs3cfr",
        "colab_type": "code",
        "outputId": "0cab1655-9fca-4c1d-a13d-c97719364b2b",
        "colab": {
          "base_uri": "https://localhost:8080/",
          "height": 323
        }
      },
      "source": [
        "train_df.isnull().sum()"
      ],
      "execution_count": 11,
      "outputs": [
        {
          "output_type": "execute_result",
          "data": {
            "text/plain": [
              "0     0\n",
              "1     0\n",
              "2     0\n",
              "3     0\n",
              "4     0\n",
              "5     0\n",
              "6     0\n",
              "7     0\n",
              "8     0\n",
              "9     0\n",
              "10    0\n",
              "11    0\n",
              "12    0\n",
              "13    0\n",
              "14    0\n",
              "15    0\n",
              "16    0\n",
              "dtype: int64"
            ]
          },
          "metadata": {
            "tags": []
          },
          "execution_count": 11
        }
      ]
    },
    {
      "cell_type": "code",
      "metadata": {
        "id": "rwE7tBZMCZp3",
        "colab_type": "code",
        "colab": {}
      },
      "source": [
        "#Y = train_df['price_monthly']\n",
        "# plt.plot('poi_1', 'price_monthly', data = train_df, marker='', color='red', linewidth=2)\n",
        "# plt.plot('poi_2', 'price_monthly', data = train_df, marker='', color='orange', linewidth=2)\n",
        "\n",
        "# plt.xlabel('features')\n",
        "# plt.ylabel('price monthly')\n",
        "# plt.legend()"
      ],
      "execution_count": 0,
      "outputs": []
    },
    {
      "cell_type": "code",
      "metadata": {
        "id": "gCUM4RY6yjS4",
        "colab_type": "code",
        "colab": {}
      },
      "source": [
        "#fill null data based on ratio with price monthly\n",
        "# train_df['poi_1'] = train_df['poi_1'].fillna(train_df['poi_1'].mean())\n",
        "# train_df['poi_2'] = train_df['poi_2'].fillna(train_df['poi_2'].mean())\n",
        "# train_df['poi_3'] = train_df['poi_3'].fillna(train_df['poi_3'].mean())\n",
        "# train_df['size'] = train_df['size'].fillna(train_df['size'].mean())"
      ],
      "execution_count": 0,
      "outputs": []
    },
    {
      "cell_type": "code",
      "metadata": {
        "id": "o0nyT2FEk9pF",
        "colab_type": "code",
        "outputId": "d0fc27af-51fc-4977-c68b-79b7b27d707c",
        "colab": {
          "base_uri": "https://localhost:8080/",
          "height": 204
        }
      },
      "source": [
        "train_df.head()"
      ],
      "execution_count": 14,
      "outputs": [
        {
          "output_type": "execute_result",
          "data": {
            "text/html": [
              "<div>\n",
              "<style scoped>\n",
              "    .dataframe tbody tr th:only-of-type {\n",
              "        vertical-align: middle;\n",
              "    }\n",
              "\n",
              "    .dataframe tbody tr th {\n",
              "        vertical-align: top;\n",
              "    }\n",
              "\n",
              "    .dataframe thead th {\n",
              "        text-align: right;\n",
              "    }\n",
              "</style>\n",
              "<table border=\"1\" class=\"dataframe\">\n",
              "  <thead>\n",
              "    <tr style=\"text-align: right;\">\n",
              "      <th></th>\n",
              "      <th>0</th>\n",
              "      <th>1</th>\n",
              "      <th>2</th>\n",
              "      <th>3</th>\n",
              "      <th>4</th>\n",
              "      <th>5</th>\n",
              "      <th>6</th>\n",
              "      <th>7</th>\n",
              "      <th>8</th>\n",
              "      <th>9</th>\n",
              "      <th>10</th>\n",
              "      <th>11</th>\n",
              "      <th>12</th>\n",
              "      <th>13</th>\n",
              "      <th>14</th>\n",
              "      <th>15</th>\n",
              "      <th>16</th>\n",
              "    </tr>\n",
              "  </thead>\n",
              "  <tbody>\n",
              "    <tr>\n",
              "      <th>0</th>\n",
              "      <td>1.0</td>\n",
              "      <td>1.0</td>\n",
              "      <td>1.0</td>\n",
              "      <td>1.0</td>\n",
              "      <td>1.0</td>\n",
              "      <td>1.0</td>\n",
              "      <td>1.0</td>\n",
              "      <td>0.0</td>\n",
              "      <td>1.0</td>\n",
              "      <td>1778.0</td>\n",
              "      <td>10038.0</td>\n",
              "      <td>4106.0</td>\n",
              "      <td>9.00</td>\n",
              "      <td>1500000.0</td>\n",
              "      <td>6.0</td>\n",
              "      <td>72.0</td>\n",
              "      <td>2.0</td>\n",
              "    </tr>\n",
              "    <tr>\n",
              "      <th>1</th>\n",
              "      <td>2.0</td>\n",
              "      <td>1.0</td>\n",
              "      <td>1.0</td>\n",
              "      <td>0.0</td>\n",
              "      <td>1.0</td>\n",
              "      <td>1.0</td>\n",
              "      <td>1.0</td>\n",
              "      <td>0.0</td>\n",
              "      <td>1.0</td>\n",
              "      <td>4548.0</td>\n",
              "      <td>9332.0</td>\n",
              "      <td>6867.0</td>\n",
              "      <td>12.00</td>\n",
              "      <td>1500000.0</td>\n",
              "      <td>30.0</td>\n",
              "      <td>56.0</td>\n",
              "      <td>2.0</td>\n",
              "    </tr>\n",
              "    <tr>\n",
              "      <th>2</th>\n",
              "      <td>3.0</td>\n",
              "      <td>1.0</td>\n",
              "      <td>1.0</td>\n",
              "      <td>1.0</td>\n",
              "      <td>1.0</td>\n",
              "      <td>1.0</td>\n",
              "      <td>1.0</td>\n",
              "      <td>0.0</td>\n",
              "      <td>1.0</td>\n",
              "      <td>5174.0</td>\n",
              "      <td>9021.0</td>\n",
              "      <td>3693.0</td>\n",
              "      <td>12.00</td>\n",
              "      <td>1600000.0</td>\n",
              "      <td>20.0</td>\n",
              "      <td>109.0</td>\n",
              "      <td>2.0</td>\n",
              "    </tr>\n",
              "    <tr>\n",
              "      <th>3</th>\n",
              "      <td>4.0</td>\n",
              "      <td>1.0</td>\n",
              "      <td>1.0</td>\n",
              "      <td>1.0</td>\n",
              "      <td>1.0</td>\n",
              "      <td>1.0</td>\n",
              "      <td>1.0</td>\n",
              "      <td>0.0</td>\n",
              "      <td>0.0</td>\n",
              "      <td>1490.0</td>\n",
              "      <td>8954.0</td>\n",
              "      <td>2139.0</td>\n",
              "      <td>8.25</td>\n",
              "      <td>1500000.0</td>\n",
              "      <td>15.0</td>\n",
              "      <td>54.0</td>\n",
              "      <td>2.0</td>\n",
              "    </tr>\n",
              "    <tr>\n",
              "      <th>4</th>\n",
              "      <td>5.0</td>\n",
              "      <td>1.0</td>\n",
              "      <td>1.0</td>\n",
              "      <td>0.0</td>\n",
              "      <td>1.0</td>\n",
              "      <td>1.0</td>\n",
              "      <td>1.0</td>\n",
              "      <td>0.0</td>\n",
              "      <td>1.0</td>\n",
              "      <td>1688.0</td>\n",
              "      <td>8851.0</td>\n",
              "      <td>2145.0</td>\n",
              "      <td>14.85</td>\n",
              "      <td>2100000.0</td>\n",
              "      <td>10.0</td>\n",
              "      <td>19.0</td>\n",
              "      <td>2.0</td>\n",
              "    </tr>\n",
              "  </tbody>\n",
              "</table>\n",
              "</div>"
            ],
            "text/plain": [
              "    0    1    2    3    4    5   ...      11     12         13    14     15   16\n",
              "0  1.0  1.0  1.0  1.0  1.0  1.0  ...  4106.0   9.00  1500000.0   6.0   72.0  2.0\n",
              "1  2.0  1.0  1.0  0.0  1.0  1.0  ...  6867.0  12.00  1500000.0  30.0   56.0  2.0\n",
              "2  3.0  1.0  1.0  1.0  1.0  1.0  ...  3693.0  12.00  1600000.0  20.0  109.0  2.0\n",
              "3  4.0  1.0  1.0  1.0  1.0  1.0  ...  2139.0   8.25  1500000.0  15.0   54.0  2.0\n",
              "4  5.0  1.0  1.0  0.0  1.0  1.0  ...  2145.0  14.85  2100000.0  10.0   19.0  2.0\n",
              "\n",
              "[5 rows x 17 columns]"
            ]
          },
          "metadata": {
            "tags": []
          },
          "execution_count": 14
        }
      ]
    },
    {
      "cell_type": "code",
      "metadata": {
        "id": "P2Y7nSSsGIOr",
        "colab_type": "code",
        "outputId": "7c7ba489-9a4a-4dfe-e912-24ee3bec672f",
        "colab": {
          "base_uri": "https://localhost:8080/",
          "height": 425
        }
      },
      "source": [
        "train_df.info()"
      ],
      "execution_count": 15,
      "outputs": [
        {
          "output_type": "stream",
          "text": [
            "<class 'pandas.core.frame.DataFrame'>\n",
            "RangeIndex: 3293 entries, 0 to 3292\n",
            "Data columns (total 17 columns):\n",
            " #   Column  Non-Null Count  Dtype  \n",
            "---  ------  --------------  -----  \n",
            " 0   0       3293 non-null   float64\n",
            " 1   1       3293 non-null   float64\n",
            " 2   2       3293 non-null   float64\n",
            " 3   3       3293 non-null   float64\n",
            " 4   4       3293 non-null   float64\n",
            " 5   5       3293 non-null   float64\n",
            " 6   6       3293 non-null   float64\n",
            " 7   7       3293 non-null   float64\n",
            " 8   8       3293 non-null   float64\n",
            " 9   9       3293 non-null   float64\n",
            " 10  10      3293 non-null   float64\n",
            " 11  11      3293 non-null   float64\n",
            " 12  12      3293 non-null   float64\n",
            " 13  13      3293 non-null   float64\n",
            " 14  14      3293 non-null   float64\n",
            " 15  15      3293 non-null   float64\n",
            " 16  16      3293 non-null   float64\n",
            "dtypes: float64(17)\n",
            "memory usage: 437.5 KB\n"
          ],
          "name": "stdout"
        }
      ]
    },
    {
      "cell_type": "code",
      "metadata": {
        "id": "UtR1n_mg1WPN",
        "colab_type": "code",
        "colab": {}
      },
      "source": [
        "# def proportion(atributs, labels):\n",
        "#   atribut = "
      ],
      "execution_count": 0,
      "outputs": []
    },
    {
      "cell_type": "code",
      "metadata": {
        "id": "xajBISLIKkxk",
        "colab_type": "code",
        "colab": {}
      },
      "source": [
        "# train_df['room_count'] = train_df['room_count'].fillna(train_df['room_count'].mean())\n",
        "# train_df['price_monthly'] = train_df['price_monthly'].fillna(train_df['price_monthly'].mean())"
      ],
      "execution_count": 0,
      "outputs": []
    },
    {
      "cell_type": "code",
      "metadata": {
        "id": "4mgFHcQ2K1oB",
        "colab_type": "code",
        "outputId": "9183eeef-ed9a-4713-c69f-ca72dae0e38c",
        "colab": {
          "base_uri": "https://localhost:8080/",
          "height": 204
        }
      },
      "source": [
        "train_df.head()"
      ],
      "execution_count": 18,
      "outputs": [
        {
          "output_type": "execute_result",
          "data": {
            "text/html": [
              "<div>\n",
              "<style scoped>\n",
              "    .dataframe tbody tr th:only-of-type {\n",
              "        vertical-align: middle;\n",
              "    }\n",
              "\n",
              "    .dataframe tbody tr th {\n",
              "        vertical-align: top;\n",
              "    }\n",
              "\n",
              "    .dataframe thead th {\n",
              "        text-align: right;\n",
              "    }\n",
              "</style>\n",
              "<table border=\"1\" class=\"dataframe\">\n",
              "  <thead>\n",
              "    <tr style=\"text-align: right;\">\n",
              "      <th></th>\n",
              "      <th>0</th>\n",
              "      <th>1</th>\n",
              "      <th>2</th>\n",
              "      <th>3</th>\n",
              "      <th>4</th>\n",
              "      <th>5</th>\n",
              "      <th>6</th>\n",
              "      <th>7</th>\n",
              "      <th>8</th>\n",
              "      <th>9</th>\n",
              "      <th>10</th>\n",
              "      <th>11</th>\n",
              "      <th>12</th>\n",
              "      <th>13</th>\n",
              "      <th>14</th>\n",
              "      <th>15</th>\n",
              "      <th>16</th>\n",
              "    </tr>\n",
              "  </thead>\n",
              "  <tbody>\n",
              "    <tr>\n",
              "      <th>0</th>\n",
              "      <td>1.0</td>\n",
              "      <td>1.0</td>\n",
              "      <td>1.0</td>\n",
              "      <td>1.0</td>\n",
              "      <td>1.0</td>\n",
              "      <td>1.0</td>\n",
              "      <td>1.0</td>\n",
              "      <td>0.0</td>\n",
              "      <td>1.0</td>\n",
              "      <td>1778.0</td>\n",
              "      <td>10038.0</td>\n",
              "      <td>4106.0</td>\n",
              "      <td>9.00</td>\n",
              "      <td>1500000.0</td>\n",
              "      <td>6.0</td>\n",
              "      <td>72.0</td>\n",
              "      <td>2.0</td>\n",
              "    </tr>\n",
              "    <tr>\n",
              "      <th>1</th>\n",
              "      <td>2.0</td>\n",
              "      <td>1.0</td>\n",
              "      <td>1.0</td>\n",
              "      <td>0.0</td>\n",
              "      <td>1.0</td>\n",
              "      <td>1.0</td>\n",
              "      <td>1.0</td>\n",
              "      <td>0.0</td>\n",
              "      <td>1.0</td>\n",
              "      <td>4548.0</td>\n",
              "      <td>9332.0</td>\n",
              "      <td>6867.0</td>\n",
              "      <td>12.00</td>\n",
              "      <td>1500000.0</td>\n",
              "      <td>30.0</td>\n",
              "      <td>56.0</td>\n",
              "      <td>2.0</td>\n",
              "    </tr>\n",
              "    <tr>\n",
              "      <th>2</th>\n",
              "      <td>3.0</td>\n",
              "      <td>1.0</td>\n",
              "      <td>1.0</td>\n",
              "      <td>1.0</td>\n",
              "      <td>1.0</td>\n",
              "      <td>1.0</td>\n",
              "      <td>1.0</td>\n",
              "      <td>0.0</td>\n",
              "      <td>1.0</td>\n",
              "      <td>5174.0</td>\n",
              "      <td>9021.0</td>\n",
              "      <td>3693.0</td>\n",
              "      <td>12.00</td>\n",
              "      <td>1600000.0</td>\n",
              "      <td>20.0</td>\n",
              "      <td>109.0</td>\n",
              "      <td>2.0</td>\n",
              "    </tr>\n",
              "    <tr>\n",
              "      <th>3</th>\n",
              "      <td>4.0</td>\n",
              "      <td>1.0</td>\n",
              "      <td>1.0</td>\n",
              "      <td>1.0</td>\n",
              "      <td>1.0</td>\n",
              "      <td>1.0</td>\n",
              "      <td>1.0</td>\n",
              "      <td>0.0</td>\n",
              "      <td>0.0</td>\n",
              "      <td>1490.0</td>\n",
              "      <td>8954.0</td>\n",
              "      <td>2139.0</td>\n",
              "      <td>8.25</td>\n",
              "      <td>1500000.0</td>\n",
              "      <td>15.0</td>\n",
              "      <td>54.0</td>\n",
              "      <td>2.0</td>\n",
              "    </tr>\n",
              "    <tr>\n",
              "      <th>4</th>\n",
              "      <td>5.0</td>\n",
              "      <td>1.0</td>\n",
              "      <td>1.0</td>\n",
              "      <td>0.0</td>\n",
              "      <td>1.0</td>\n",
              "      <td>1.0</td>\n",
              "      <td>1.0</td>\n",
              "      <td>0.0</td>\n",
              "      <td>1.0</td>\n",
              "      <td>1688.0</td>\n",
              "      <td>8851.0</td>\n",
              "      <td>2145.0</td>\n",
              "      <td>14.85</td>\n",
              "      <td>2100000.0</td>\n",
              "      <td>10.0</td>\n",
              "      <td>19.0</td>\n",
              "      <td>2.0</td>\n",
              "    </tr>\n",
              "  </tbody>\n",
              "</table>\n",
              "</div>"
            ],
            "text/plain": [
              "    0    1    2    3    4    5   ...      11     12         13    14     15   16\n",
              "0  1.0  1.0  1.0  1.0  1.0  1.0  ...  4106.0   9.00  1500000.0   6.0   72.0  2.0\n",
              "1  2.0  1.0  1.0  0.0  1.0  1.0  ...  6867.0  12.00  1500000.0  30.0   56.0  2.0\n",
              "2  3.0  1.0  1.0  1.0  1.0  1.0  ...  3693.0  12.00  1600000.0  20.0  109.0  2.0\n",
              "3  4.0  1.0  1.0  1.0  1.0  1.0  ...  2139.0   8.25  1500000.0  15.0   54.0  2.0\n",
              "4  5.0  1.0  1.0  0.0  1.0  1.0  ...  2145.0  14.85  2100000.0  10.0   19.0  2.0\n",
              "\n",
              "[5 rows x 17 columns]"
            ]
          },
          "metadata": {
            "tags": []
          },
          "execution_count": 18
        }
      ]
    },
    {
      "cell_type": "code",
      "metadata": {
        "id": "IBJRowvRJZAU",
        "colab_type": "code",
        "outputId": "873f1839-0dca-4676-8e3f-29e3683652b5",
        "colab": {
          "base_uri": "https://localhost:8080/",
          "height": 403
        }
      },
      "source": [
        "plt.boxplot(train_df[15])"
      ],
      "execution_count": 19,
      "outputs": [
        {
          "output_type": "execute_result",
          "data": {
            "text/plain": [
              "{'boxes': [<matplotlib.lines.Line2D at 0x7fde0af45898>],\n",
              " 'caps': [<matplotlib.lines.Line2D at 0x7fde0af5c208>,\n",
              "  <matplotlib.lines.Line2D at 0x7fde0af5c588>],\n",
              " 'fliers': [<matplotlib.lines.Line2D at 0x7fde0af5cc88>],\n",
              " 'means': [],\n",
              " 'medians': [<matplotlib.lines.Line2D at 0x7fde0af5c908>],\n",
              " 'whiskers': [<matplotlib.lines.Line2D at 0x7fdeb587ac88>,\n",
              "  <matplotlib.lines.Line2D at 0x7fde0af45e48>]}"
            ]
          },
          "metadata": {
            "tags": []
          },
          "execution_count": 19
        },
        {
          "output_type": "display_data",
          "data": {
            "image/png": "[encoded data removed]",
            "text/plain": [
              "<Figure size 432x288 with 1 Axes>"
            ]
          },
          "metadata": {
            "tags": []
          }
        }
      ]
    },
    {
      "cell_type": "code",
      "metadata": {
        "id": "QLChnC-bKMj4",
        "colab_type": "code",
        "outputId": "0f1b6ca3-6e1f-4037-c928-84395644c39a",
        "colab": {
          "base_uri": "https://localhost:8080/",
          "height": 401
        }
      },
      "source": [
        "plt.boxplot(train_df[14])"
      ],
      "execution_count": 20,
      "outputs": [
        {
          "output_type": "execute_result",
          "data": {
            "text/plain": [
              "{'boxes': [<matplotlib.lines.Line2D at 0x7fde0aa97358>],\n",
              " 'caps': [<matplotlib.lines.Line2D at 0x7fde0aa97d68>,\n",
              "  <matplotlib.lines.Line2D at 0x7fde0aa22128>],\n",
              " 'fliers': [<matplotlib.lines.Line2D at 0x7fde0aa22828>],\n",
              " 'means': [],\n",
              " 'medians': [<matplotlib.lines.Line2D at 0x7fde0aa224a8>],\n",
              " 'whiskers': [<matplotlib.lines.Line2D at 0x7fde0aa97668>,\n",
              "  <matplotlib.lines.Line2D at 0x7fde0aa979e8>]}"
            ]
          },
          "metadata": {
            "tags": []
          },
          "execution_count": 20
        },
        {
          "output_type": "display_data",
          "data": {
            "image/png": "[encoded data removed]",
            "text/plain": [
              "<Figure size 432x288 with 1 Axes>"
            ]
          },
          "metadata": {
            "tags": []
          }
        }
      ]
    },
    {
      "cell_type": "code",
      "metadata": {
        "id": "63HketEYPLWV",
        "colab_type": "code",
        "colab": {}
      },
      "source": [
        "def detect_outlier(data, column):\n",
        "    q1 = data[column].quantile(0.25)\n",
        "    q3 = data[column].quantile(0.75)\n",
        "\n",
        "    iqr = q3 - q1\n",
        "    rub = q3 + 1.5*iqr\n",
        "    rlb = q1 - 1.5*iqr\n",
        "\n",
        "    outlier = (data[column] < rlb) | (data[column] > rub)\n",
        "    \n",
        "    return data[outlier]"
      ],
      "execution_count": 0,
      "outputs": []
    },
    {
      "cell_type": "code",
      "metadata": {
        "id": "vpCxrW8SSb2G",
        "colab_type": "code",
        "outputId": "e6d80ce1-b69a-471e-e5f4-42651151e30b",
        "colab": {
          "base_uri": "https://localhost:8080/",
          "height": 419
        }
      },
      "source": [
        "detect_outlier(train_df, 15)"
      ],
      "execution_count": 22,
      "outputs": [
        {
          "output_type": "execute_result",
          "data": {
            "text/html": [
              "<div>\n",
              "<style scoped>\n",
              "    .dataframe tbody tr th:only-of-type {\n",
              "        vertical-align: middle;\n",
              "    }\n",
              "\n",
              "    .dataframe tbody tr th {\n",
              "        vertical-align: top;\n",
              "    }\n",
              "\n",
              "    .dataframe thead th {\n",
              "        text-align: right;\n",
              "    }\n",
              "</style>\n",
              "<table border=\"1\" class=\"dataframe\">\n",
              "  <thead>\n",
              "    <tr style=\"text-align: right;\">\n",
              "      <th></th>\n",
              "      <th>0</th>\n",
              "      <th>1</th>\n",
              "      <th>2</th>\n",
              "      <th>3</th>\n",
              "      <th>4</th>\n",
              "      <th>5</th>\n",
              "      <th>6</th>\n",
              "      <th>7</th>\n",
              "      <th>8</th>\n",
              "      <th>9</th>\n",
              "      <th>10</th>\n",
              "      <th>11</th>\n",
              "      <th>12</th>\n",
              "      <th>13</th>\n",
              "      <th>14</th>\n",
              "      <th>15</th>\n",
              "      <th>16</th>\n",
              "    </tr>\n",
              "  </thead>\n",
              "  <tbody>\n",
              "    <tr>\n",
              "      <th>2</th>\n",
              "      <td>3.0</td>\n",
              "      <td>1.0</td>\n",
              "      <td>1.0</td>\n",
              "      <td>1.0</td>\n",
              "      <td>1.0</td>\n",
              "      <td>1.0</td>\n",
              "      <td>1.0</td>\n",
              "      <td>0.0</td>\n",
              "      <td>1.0</td>\n",
              "      <td>5174.0</td>\n",
              "      <td>9021.0</td>\n",
              "      <td>3693.0</td>\n",
              "      <td>12.0000</td>\n",
              "      <td>1600000.0</td>\n",
              "      <td>20.0</td>\n",
              "      <td>109.0</td>\n",
              "      <td>2.0</td>\n",
              "    </tr>\n",
              "    <tr>\n",
              "      <th>30</th>\n",
              "      <td>31.0</td>\n",
              "      <td>1.0</td>\n",
              "      <td>1.0</td>\n",
              "      <td>1.0</td>\n",
              "      <td>1.0</td>\n",
              "      <td>1.0</td>\n",
              "      <td>1.0</td>\n",
              "      <td>0.0</td>\n",
              "      <td>0.0</td>\n",
              "      <td>2908.0</td>\n",
              "      <td>9013.0</td>\n",
              "      <td>1958.0</td>\n",
              "      <td>21.0000</td>\n",
              "      <td>1700000.0</td>\n",
              "      <td>30.0</td>\n",
              "      <td>231.0</td>\n",
              "      <td>2.0</td>\n",
              "    </tr>\n",
              "    <tr>\n",
              "      <th>42</th>\n",
              "      <td>43.0</td>\n",
              "      <td>1.0</td>\n",
              "      <td>1.0</td>\n",
              "      <td>1.0</td>\n",
              "      <td>1.0</td>\n",
              "      <td>1.0</td>\n",
              "      <td>0.0</td>\n",
              "      <td>0.0</td>\n",
              "      <td>0.0</td>\n",
              "      <td>4539.0</td>\n",
              "      <td>13800.0</td>\n",
              "      <td>2973.0</td>\n",
              "      <td>12.0000</td>\n",
              "      <td>600000.0</td>\n",
              "      <td>50.0</td>\n",
              "      <td>392.0</td>\n",
              "      <td>0.0</td>\n",
              "    </tr>\n",
              "    <tr>\n",
              "      <th>48</th>\n",
              "      <td>49.0</td>\n",
              "      <td>0.0</td>\n",
              "      <td>1.0</td>\n",
              "      <td>1.0</td>\n",
              "      <td>1.0</td>\n",
              "      <td>1.0</td>\n",
              "      <td>0.0</td>\n",
              "      <td>0.0</td>\n",
              "      <td>1.0</td>\n",
              "      <td>1290.0</td>\n",
              "      <td>8770.0</td>\n",
              "      <td>2787.0</td>\n",
              "      <td>15.0000</td>\n",
              "      <td>800000.0</td>\n",
              "      <td>5.0</td>\n",
              "      <td>131.0</td>\n",
              "      <td>0.0</td>\n",
              "    </tr>\n",
              "    <tr>\n",
              "      <th>79</th>\n",
              "      <td>80.0</td>\n",
              "      <td>0.0</td>\n",
              "      <td>0.0</td>\n",
              "      <td>0.0</td>\n",
              "      <td>1.0</td>\n",
              "      <td>0.0</td>\n",
              "      <td>0.0</td>\n",
              "      <td>0.0</td>\n",
              "      <td>0.0</td>\n",
              "      <td>1997.0</td>\n",
              "      <td>8389.0</td>\n",
              "      <td>2585.0</td>\n",
              "      <td>21.0000</td>\n",
              "      <td>320000.0</td>\n",
              "      <td>9.0</td>\n",
              "      <td>190.0</td>\n",
              "      <td>1.0</td>\n",
              "    </tr>\n",
              "    <tr>\n",
              "      <th>...</th>\n",
              "      <td>...</td>\n",
              "      <td>...</td>\n",
              "      <td>...</td>\n",
              "      <td>...</td>\n",
              "      <td>...</td>\n",
              "      <td>...</td>\n",
              "      <td>...</td>\n",
              "      <td>...</td>\n",
              "      <td>...</td>\n",
              "      <td>...</td>\n",
              "      <td>...</td>\n",
              "      <td>...</td>\n",
              "      <td>...</td>\n",
              "      <td>...</td>\n",
              "      <td>...</td>\n",
              "      <td>...</td>\n",
              "      <td>...</td>\n",
              "    </tr>\n",
              "    <tr>\n",
              "      <th>3240</th>\n",
              "      <td>3241.0</td>\n",
              "      <td>0.0</td>\n",
              "      <td>0.0</td>\n",
              "      <td>0.0</td>\n",
              "      <td>1.0</td>\n",
              "      <td>1.0</td>\n",
              "      <td>0.0</td>\n",
              "      <td>0.0</td>\n",
              "      <td>0.0</td>\n",
              "      <td>4744.0</td>\n",
              "      <td>14569.0</td>\n",
              "      <td>3918.0</td>\n",
              "      <td>9.0000</td>\n",
              "      <td>350000.0</td>\n",
              "      <td>27.0</td>\n",
              "      <td>216.0</td>\n",
              "      <td>0.0</td>\n",
              "    </tr>\n",
              "    <tr>\n",
              "      <th>3247</th>\n",
              "      <td>3248.0</td>\n",
              "      <td>0.0</td>\n",
              "      <td>1.0</td>\n",
              "      <td>0.0</td>\n",
              "      <td>1.0</td>\n",
              "      <td>1.0</td>\n",
              "      <td>0.0</td>\n",
              "      <td>0.0</td>\n",
              "      <td>1.0</td>\n",
              "      <td>5335.0</td>\n",
              "      <td>13246.0</td>\n",
              "      <td>3089.0</td>\n",
              "      <td>12.0000</td>\n",
              "      <td>700000.0</td>\n",
              "      <td>8.0</td>\n",
              "      <td>140.0</td>\n",
              "      <td>0.0</td>\n",
              "    </tr>\n",
              "    <tr>\n",
              "      <th>3273</th>\n",
              "      <td>3274.0</td>\n",
              "      <td>0.0</td>\n",
              "      <td>1.0</td>\n",
              "      <td>0.0</td>\n",
              "      <td>0.0</td>\n",
              "      <td>0.0</td>\n",
              "      <td>1.0</td>\n",
              "      <td>0.0</td>\n",
              "      <td>0.0</td>\n",
              "      <td>5679.0</td>\n",
              "      <td>10593.0</td>\n",
              "      <td>3666.0</td>\n",
              "      <td>24.0000</td>\n",
              "      <td>1000000.0</td>\n",
              "      <td>6.0</td>\n",
              "      <td>130.0</td>\n",
              "      <td>2.0</td>\n",
              "    </tr>\n",
              "    <tr>\n",
              "      <th>3278</th>\n",
              "      <td>3279.0</td>\n",
              "      <td>0.0</td>\n",
              "      <td>1.0</td>\n",
              "      <td>1.0</td>\n",
              "      <td>1.0</td>\n",
              "      <td>1.0</td>\n",
              "      <td>1.0</td>\n",
              "      <td>0.0</td>\n",
              "      <td>1.0</td>\n",
              "      <td>1938.0</td>\n",
              "      <td>8110.0</td>\n",
              "      <td>3378.0</td>\n",
              "      <td>12.0000</td>\n",
              "      <td>500000.0</td>\n",
              "      <td>16.0</td>\n",
              "      <td>111.0</td>\n",
              "      <td>0.0</td>\n",
              "    </tr>\n",
              "    <tr>\n",
              "      <th>3291</th>\n",
              "      <td>3292.0</td>\n",
              "      <td>0.0</td>\n",
              "      <td>0.0</td>\n",
              "      <td>1.0</td>\n",
              "      <td>0.0</td>\n",
              "      <td>1.0</td>\n",
              "      <td>0.0</td>\n",
              "      <td>0.0</td>\n",
              "      <td>0.0</td>\n",
              "      <td>1669.0</td>\n",
              "      <td>10065.0</td>\n",
              "      <td>3994.0</td>\n",
              "      <td>10.5625</td>\n",
              "      <td>400000.0</td>\n",
              "      <td>21.0</td>\n",
              "      <td>181.0</td>\n",
              "      <td>0.0</td>\n",
              "    </tr>\n",
              "  </tbody>\n",
              "</table>\n",
              "<p>248 rows × 17 columns</p>\n",
              "</div>"
            ],
            "text/plain": [
              "          0    1    2    3    4   ...       12         13    14     15   16\n",
              "2        3.0  1.0  1.0  1.0  1.0  ...  12.0000  1600000.0  20.0  109.0  2.0\n",
              "30      31.0  1.0  1.0  1.0  1.0  ...  21.0000  1700000.0  30.0  231.0  2.0\n",
              "42      43.0  1.0  1.0  1.0  1.0  ...  12.0000   600000.0  50.0  392.0  0.0\n",
              "48      49.0  0.0  1.0  1.0  1.0  ...  15.0000   800000.0   5.0  131.0  0.0\n",
              "79      80.0  0.0  0.0  0.0  1.0  ...  21.0000   320000.0   9.0  190.0  1.0\n",
              "...      ...  ...  ...  ...  ...  ...      ...        ...   ...    ...  ...\n",
              "3240  3241.0  0.0  0.0  0.0  1.0  ...   9.0000   350000.0  27.0  216.0  0.0\n",
              "3247  3248.0  0.0  1.0  0.0  1.0  ...  12.0000   700000.0   8.0  140.0  0.0\n",
              "3273  3274.0  0.0  1.0  0.0  0.0  ...  24.0000  1000000.0   6.0  130.0  2.0\n",
              "3278  3279.0  0.0  1.0  1.0  1.0  ...  12.0000   500000.0  16.0  111.0  0.0\n",
              "3291  3292.0  0.0  0.0  1.0  0.0  ...  10.5625   400000.0  21.0  181.0  0.0\n",
              "\n",
              "[248 rows x 17 columns]"
            ]
          },
          "metadata": {
            "tags": []
          },
          "execution_count": 22
        }
      ]
    },
    {
      "cell_type": "code",
      "metadata": {
        "id": "JgLuxI-ZZbF4",
        "colab_type": "code",
        "colab": {}
      },
      "source": [
        "# gender_dict =  {\n",
        "#     'gender' : {\n",
        "#         'putra' : 0,\n",
        "#         'putri' : 1,\n",
        "#         'campur' : 2\n",
        "#     }\n",
        "# }\n",
        "\n",
        "# train_df.replace(gender_dict, inplace=True)"
      ],
      "execution_count": 0,
      "outputs": []
    },
    {
      "cell_type": "code",
      "metadata": {
        "id": "qOtCm16XZjBj",
        "colab_type": "code",
        "outputId": "7061cd78-ad26-452c-a844-ffdfc8d52e4b",
        "colab": {
          "base_uri": "https://localhost:8080/",
          "height": 221
        }
      },
      "source": [
        "train_df[16]"
      ],
      "execution_count": 24,
      "outputs": [
        {
          "output_type": "execute_result",
          "data": {
            "text/plain": [
              "0       2.0\n",
              "1       2.0\n",
              "2       2.0\n",
              "3       2.0\n",
              "4       2.0\n",
              "       ... \n",
              "3288    0.0\n",
              "3289    0.0\n",
              "3290    2.0\n",
              "3291    0.0\n",
              "3292    1.0\n",
              "Name: 16, Length: 3293, dtype: float64"
            ]
          },
          "metadata": {
            "tags": []
          },
          "execution_count": 24
        }
      ]
    },
    {
      "cell_type": "code",
      "metadata": {
        "id": "O29S3bmo7DkP",
        "colab_type": "code",
        "outputId": "1dcc482f-e85d-4c1c-a7c9-a11621ee27a5",
        "colab": {
          "base_uri": "https://localhost:8080/",
          "height": 317
        }
      },
      "source": [
        "train_df.describe(include='all')"
      ],
      "execution_count": 25,
      "outputs": [
        {
          "output_type": "execute_result",
          "data": {
            "text/html": [
              "<div>\n",
              "<style scoped>\n",
              "    .dataframe tbody tr th:only-of-type {\n",
              "        vertical-align: middle;\n",
              "    }\n",
              "\n",
              "    .dataframe tbody tr th {\n",
              "        vertical-align: top;\n",
              "    }\n",
              "\n",
              "    .dataframe thead th {\n",
              "        text-align: right;\n",
              "    }\n",
              "</style>\n",
              "<table border=\"1\" class=\"dataframe\">\n",
              "  <thead>\n",
              "    <tr style=\"text-align: right;\">\n",
              "      <th></th>\n",
              "      <th>0</th>\n",
              "      <th>1</th>\n",
              "      <th>2</th>\n",
              "      <th>3</th>\n",
              "      <th>4</th>\n",
              "      <th>5</th>\n",
              "      <th>6</th>\n",
              "      <th>7</th>\n",
              "      <th>8</th>\n",
              "      <th>9</th>\n",
              "      <th>10</th>\n",
              "      <th>11</th>\n",
              "      <th>12</th>\n",
              "      <th>13</th>\n",
              "      <th>14</th>\n",
              "      <th>15</th>\n",
              "      <th>16</th>\n",
              "    </tr>\n",
              "  </thead>\n",
              "  <tbody>\n",
              "    <tr>\n",
              "      <th>count</th>\n",
              "      <td>3293.000000</td>\n",
              "      <td>3293.000000</td>\n",
              "      <td>3293.000000</td>\n",
              "      <td>3293.000000</td>\n",
              "      <td>3293.000000</td>\n",
              "      <td>3293.000000</td>\n",
              "      <td>3293.000000</td>\n",
              "      <td>3293.000000</td>\n",
              "      <td>3293.000000</td>\n",
              "      <td>3293.000000</td>\n",
              "      <td>3293.000000</td>\n",
              "      <td>3293.000000</td>\n",
              "      <td>3293.000000</td>\n",
              "      <td>3.293000e+03</td>\n",
              "      <td>3293.000000</td>\n",
              "      <td>3293.000000</td>\n",
              "      <td>3293.000000</td>\n",
              "    </tr>\n",
              "    <tr>\n",
              "      <th>mean</th>\n",
              "      <td>1647.000000</td>\n",
              "      <td>0.256605</td>\n",
              "      <td>0.617067</td>\n",
              "      <td>0.447920</td>\n",
              "      <td>0.571819</td>\n",
              "      <td>0.649256</td>\n",
              "      <td>0.419374</td>\n",
              "      <td>0.004555</td>\n",
              "      <td>0.528394</td>\n",
              "      <td>4671.839903</td>\n",
              "      <td>9918.217006</td>\n",
              "      <td>4898.635044</td>\n",
              "      <td>12.142708</td>\n",
              "      <td>8.989586e+05</td>\n",
              "      <td>10.501974</td>\n",
              "      <td>35.362587</td>\n",
              "      <td>0.660188</td>\n",
              "    </tr>\n",
              "    <tr>\n",
              "      <th>std</th>\n",
              "      <td>950.751545</td>\n",
              "      <td>0.436826</td>\n",
              "      <td>0.486176</td>\n",
              "      <td>0.497356</td>\n",
              "      <td>0.494890</td>\n",
              "      <td>0.477275</td>\n",
              "      <td>0.493532</td>\n",
              "      <td>0.067348</td>\n",
              "      <td>0.499269</td>\n",
              "      <td>3546.100682</td>\n",
              "      <td>4678.920808</td>\n",
              "      <td>3590.173464</td>\n",
              "      <td>4.905444</td>\n",
              "      <td>6.439704e+05</td>\n",
              "      <td>9.480365</td>\n",
              "      <td>47.269615</td>\n",
              "      <td>0.771365</td>\n",
              "    </tr>\n",
              "    <tr>\n",
              "      <th>min</th>\n",
              "      <td>1.000000</td>\n",
              "      <td>0.000000</td>\n",
              "      <td>0.000000</td>\n",
              "      <td>0.000000</td>\n",
              "      <td>0.000000</td>\n",
              "      <td>0.000000</td>\n",
              "      <td>0.000000</td>\n",
              "      <td>0.000000</td>\n",
              "      <td>0.000000</td>\n",
              "      <td>519.000000</td>\n",
              "      <td>168.000000</td>\n",
              "      <td>324.000000</td>\n",
              "      <td>6.000000</td>\n",
              "      <td>1.550000e+05</td>\n",
              "      <td>1.000000</td>\n",
              "      <td>1.000000</td>\n",
              "      <td>0.000000</td>\n",
              "    </tr>\n",
              "    <tr>\n",
              "      <th>25%</th>\n",
              "      <td>824.000000</td>\n",
              "      <td>0.000000</td>\n",
              "      <td>0.000000</td>\n",
              "      <td>0.000000</td>\n",
              "      <td>0.000000</td>\n",
              "      <td>0.000000</td>\n",
              "      <td>0.000000</td>\n",
              "      <td>0.000000</td>\n",
              "      <td>0.000000</td>\n",
              "      <td>2380.000000</td>\n",
              "      <td>7911.000000</td>\n",
              "      <td>2706.000000</td>\n",
              "      <td>9.000000</td>\n",
              "      <td>5.000000e+05</td>\n",
              "      <td>4.000000</td>\n",
              "      <td>8.000000</td>\n",
              "      <td>0.000000</td>\n",
              "    </tr>\n",
              "    <tr>\n",
              "      <th>50%</th>\n",
              "      <td>1647.000000</td>\n",
              "      <td>0.000000</td>\n",
              "      <td>1.000000</td>\n",
              "      <td>0.000000</td>\n",
              "      <td>1.000000</td>\n",
              "      <td>1.000000</td>\n",
              "      <td>0.000000</td>\n",
              "      <td>0.000000</td>\n",
              "      <td>1.000000</td>\n",
              "      <td>3958.000000</td>\n",
              "      <td>9254.000000</td>\n",
              "      <td>3921.000000</td>\n",
              "      <td>12.000000</td>\n",
              "      <td>6.500000e+05</td>\n",
              "      <td>8.000000</td>\n",
              "      <td>20.000000</td>\n",
              "      <td>0.000000</td>\n",
              "    </tr>\n",
              "    <tr>\n",
              "      <th>75%</th>\n",
              "      <td>2470.000000</td>\n",
              "      <td>1.000000</td>\n",
              "      <td>1.000000</td>\n",
              "      <td>1.000000</td>\n",
              "      <td>1.000000</td>\n",
              "      <td>1.000000</td>\n",
              "      <td>1.000000</td>\n",
              "      <td>0.000000</td>\n",
              "      <td>1.000000</td>\n",
              "      <td>5887.000000</td>\n",
              "      <td>12414.000000</td>\n",
              "      <td>6044.000000</td>\n",
              "      <td>12.250000</td>\n",
              "      <td>1.200000e+06</td>\n",
              "      <td>14.000000</td>\n",
              "      <td>44.000000</td>\n",
              "      <td>1.000000</td>\n",
              "    </tr>\n",
              "    <tr>\n",
              "      <th>max</th>\n",
              "      <td>3293.000000</td>\n",
              "      <td>1.000000</td>\n",
              "      <td>1.000000</td>\n",
              "      <td>1.000000</td>\n",
              "      <td>1.000000</td>\n",
              "      <td>1.000000</td>\n",
              "      <td>1.000000</td>\n",
              "      <td>1.000000</td>\n",
              "      <td>1.000000</td>\n",
              "      <td>48675.000000</td>\n",
              "      <td>55105.000000</td>\n",
              "      <td>46517.000000</td>\n",
              "      <td>48.000000</td>\n",
              "      <td>5.000000e+06</td>\n",
              "      <td>121.000000</td>\n",
              "      <td>769.000000</td>\n",
              "      <td>2.000000</td>\n",
              "    </tr>\n",
              "  </tbody>\n",
              "</table>\n",
              "</div>"
            ],
            "text/plain": [
              "                0            1   ...           15           16\n",
              "count  3293.000000  3293.000000  ...  3293.000000  3293.000000\n",
              "mean   1647.000000     0.256605  ...    35.362587     0.660188\n",
              "std     950.751545     0.436826  ...    47.269615     0.771365\n",
              "min       1.000000     0.000000  ...     1.000000     0.000000\n",
              "25%     824.000000     0.000000  ...     8.000000     0.000000\n",
              "50%    1647.000000     0.000000  ...    20.000000     0.000000\n",
              "75%    2470.000000     1.000000  ...    44.000000     1.000000\n",
              "max    3293.000000     1.000000  ...   769.000000     2.000000\n",
              "\n",
              "[8 rows x 17 columns]"
            ]
          },
          "metadata": {
            "tags": []
          },
          "execution_count": 25
        }
      ]
    },
    {
      "cell_type": "code",
      "metadata": {
        "id": "MTFecl2t-k7A",
        "colab_type": "code",
        "outputId": "a6696672-234a-48f1-f395-5aa580feea9b",
        "colab": {
          "base_uri": "https://localhost:8080/",
          "height": 922
        }
      },
      "source": [
        "plt.figure(figsize = (16,16))\n",
        "ax = sns.heatmap(train_df.corr(), annot=True, linewidths=.5)"
      ],
      "execution_count": 26,
      "outputs": [
        {
          "output_type": "display_data",
          "data": {
            "image/png": "[encoded data removed]",
            "text/plain": [
              "<Figure size 1152x1152 with 2 Axes>"
            ]
          },
          "metadata": {
            "tags": []
          }
        }
      ]
    },
    {
      "cell_type": "code",
      "metadata": {
        "id": "Ltr7QQzWTmF_",
        "colab_type": "code",
        "colab": {
          "base_uri": "https://localhost:8080/",
          "height": 34
        },
        "outputId": "30010654-040b-4ae3-e9ad-28251a55484b"
      },
      "source": [
        "train_features = train_df[[1,2,3,4,5,6,7,8,9,10,11,12,13,14,15]]\n",
        "y = train_df.loc[:,16:] # train_label"
      ],
      "execution_count": 27,
      "outputs": [
        {
          "output_type": "stream",
          "text": [
            "ERROR! Session/line number was not unique in database. History logging moved to new session 88\n"
          ],
          "name": "stdout"
        }
      ]
    },
    {
      "cell_type": "code",
      "metadata": {
        "id": "2MbZ0MftTpmQ",
        "colab_type": "code",
        "outputId": "8aeda001-d1b5-4b2e-a6b3-7908bf077f81",
        "colab": {
          "base_uri": "https://localhost:8080/",
          "height": 419
        }
      },
      "source": [
        "train_features"
      ],
      "execution_count": 28,
      "outputs": [
        {
          "output_type": "execute_result",
          "data": {
            "text/html": [
              "<div>\n",
              "<style scoped>\n",
              "    .dataframe tbody tr th:only-of-type {\n",
              "        vertical-align: middle;\n",
              "    }\n",
              "\n",
              "    .dataframe tbody tr th {\n",
              "        vertical-align: top;\n",
              "    }\n",
              "\n",
              "    .dataframe thead th {\n",
              "        text-align: right;\n",
              "    }\n",
              "</style>\n",
              "<table border=\"1\" class=\"dataframe\">\n",
              "  <thead>\n",
              "    <tr style=\"text-align: right;\">\n",
              "      <th></th>\n",
              "      <th>1</th>\n",
              "      <th>2</th>\n",
              "      <th>3</th>\n",
              "      <th>4</th>\n",
              "      <th>5</th>\n",
              "      <th>6</th>\n",
              "      <th>7</th>\n",
              "      <th>8</th>\n",
              "      <th>9</th>\n",
              "      <th>10</th>\n",
              "      <th>11</th>\n",
              "      <th>12</th>\n",
              "      <th>13</th>\n",
              "      <th>14</th>\n",
              "      <th>15</th>\n",
              "    </tr>\n",
              "  </thead>\n",
              "  <tbody>\n",
              "    <tr>\n",
              "      <th>0</th>\n",
              "      <td>1.0</td>\n",
              "      <td>1.0</td>\n",
              "      <td>1.0</td>\n",
              "      <td>1.0</td>\n",
              "      <td>1.0</td>\n",
              "      <td>1.0</td>\n",
              "      <td>0.0</td>\n",
              "      <td>1.0</td>\n",
              "      <td>1778.0</td>\n",
              "      <td>10038.0</td>\n",
              "      <td>4106.0</td>\n",
              "      <td>9.0000</td>\n",
              "      <td>1500000.0</td>\n",
              "      <td>6.0</td>\n",
              "      <td>72.0</td>\n",
              "    </tr>\n",
              "    <tr>\n",
              "      <th>1</th>\n",
              "      <td>1.0</td>\n",
              "      <td>1.0</td>\n",
              "      <td>0.0</td>\n",
              "      <td>1.0</td>\n",
              "      <td>1.0</td>\n",
              "      <td>1.0</td>\n",
              "      <td>0.0</td>\n",
              "      <td>1.0</td>\n",
              "      <td>4548.0</td>\n",
              "      <td>9332.0</td>\n",
              "      <td>6867.0</td>\n",
              "      <td>12.0000</td>\n",
              "      <td>1500000.0</td>\n",
              "      <td>30.0</td>\n",
              "      <td>56.0</td>\n",
              "    </tr>\n",
              "    <tr>\n",
              "      <th>2</th>\n",
              "      <td>1.0</td>\n",
              "      <td>1.0</td>\n",
              "      <td>1.0</td>\n",
              "      <td>1.0</td>\n",
              "      <td>1.0</td>\n",
              "      <td>1.0</td>\n",
              "      <td>0.0</td>\n",
              "      <td>1.0</td>\n",
              "      <td>5174.0</td>\n",
              "      <td>9021.0</td>\n",
              "      <td>3693.0</td>\n",
              "      <td>12.0000</td>\n",
              "      <td>1600000.0</td>\n",
              "      <td>20.0</td>\n",
              "      <td>109.0</td>\n",
              "    </tr>\n",
              "    <tr>\n",
              "      <th>3</th>\n",
              "      <td>1.0</td>\n",
              "      <td>1.0</td>\n",
              "      <td>1.0</td>\n",
              "      <td>1.0</td>\n",
              "      <td>1.0</td>\n",
              "      <td>1.0</td>\n",
              "      <td>0.0</td>\n",
              "      <td>0.0</td>\n",
              "      <td>1490.0</td>\n",
              "      <td>8954.0</td>\n",
              "      <td>2139.0</td>\n",
              "      <td>8.2500</td>\n",
              "      <td>1500000.0</td>\n",
              "      <td>15.0</td>\n",
              "      <td>54.0</td>\n",
              "    </tr>\n",
              "    <tr>\n",
              "      <th>4</th>\n",
              "      <td>1.0</td>\n",
              "      <td>1.0</td>\n",
              "      <td>0.0</td>\n",
              "      <td>1.0</td>\n",
              "      <td>1.0</td>\n",
              "      <td>1.0</td>\n",
              "      <td>0.0</td>\n",
              "      <td>1.0</td>\n",
              "      <td>1688.0</td>\n",
              "      <td>8851.0</td>\n",
              "      <td>2145.0</td>\n",
              "      <td>14.8500</td>\n",
              "      <td>2100000.0</td>\n",
              "      <td>10.0</td>\n",
              "      <td>19.0</td>\n",
              "    </tr>\n",
              "    <tr>\n",
              "      <th>...</th>\n",
              "      <td>...</td>\n",
              "      <td>...</td>\n",
              "      <td>...</td>\n",
              "      <td>...</td>\n",
              "      <td>...</td>\n",
              "      <td>...</td>\n",
              "      <td>...</td>\n",
              "      <td>...</td>\n",
              "      <td>...</td>\n",
              "      <td>...</td>\n",
              "      <td>...</td>\n",
              "      <td>...</td>\n",
              "      <td>...</td>\n",
              "      <td>...</td>\n",
              "      <td>...</td>\n",
              "    </tr>\n",
              "    <tr>\n",
              "      <th>3288</th>\n",
              "      <td>1.0</td>\n",
              "      <td>1.0</td>\n",
              "      <td>1.0</td>\n",
              "      <td>1.0</td>\n",
              "      <td>1.0</td>\n",
              "      <td>1.0</td>\n",
              "      <td>0.0</td>\n",
              "      <td>1.0</td>\n",
              "      <td>3393.0</td>\n",
              "      <td>6930.0</td>\n",
              "      <td>3921.0</td>\n",
              "      <td>10.5000</td>\n",
              "      <td>1600000.0</td>\n",
              "      <td>11.0</td>\n",
              "      <td>21.0</td>\n",
              "    </tr>\n",
              "    <tr>\n",
              "      <th>3289</th>\n",
              "      <td>1.0</td>\n",
              "      <td>1.0</td>\n",
              "      <td>1.0</td>\n",
              "      <td>1.0</td>\n",
              "      <td>1.0</td>\n",
              "      <td>1.0</td>\n",
              "      <td>0.0</td>\n",
              "      <td>1.0</td>\n",
              "      <td>3393.0</td>\n",
              "      <td>6930.0</td>\n",
              "      <td>3921.0</td>\n",
              "      <td>18.9600</td>\n",
              "      <td>2200000.0</td>\n",
              "      <td>2.0</td>\n",
              "      <td>1.0</td>\n",
              "    </tr>\n",
              "    <tr>\n",
              "      <th>3290</th>\n",
              "      <td>1.0</td>\n",
              "      <td>1.0</td>\n",
              "      <td>1.0</td>\n",
              "      <td>1.0</td>\n",
              "      <td>1.0</td>\n",
              "      <td>1.0</td>\n",
              "      <td>0.0</td>\n",
              "      <td>1.0</td>\n",
              "      <td>3393.0</td>\n",
              "      <td>6930.0</td>\n",
              "      <td>3921.0</td>\n",
              "      <td>21.2000</td>\n",
              "      <td>2500000.0</td>\n",
              "      <td>1.0</td>\n",
              "      <td>18.0</td>\n",
              "    </tr>\n",
              "    <tr>\n",
              "      <th>3291</th>\n",
              "      <td>0.0</td>\n",
              "      <td>0.0</td>\n",
              "      <td>1.0</td>\n",
              "      <td>0.0</td>\n",
              "      <td>1.0</td>\n",
              "      <td>0.0</td>\n",
              "      <td>0.0</td>\n",
              "      <td>0.0</td>\n",
              "      <td>1669.0</td>\n",
              "      <td>10065.0</td>\n",
              "      <td>3994.0</td>\n",
              "      <td>10.5625</td>\n",
              "      <td>400000.0</td>\n",
              "      <td>21.0</td>\n",
              "      <td>181.0</td>\n",
              "    </tr>\n",
              "    <tr>\n",
              "      <th>3292</th>\n",
              "      <td>0.0</td>\n",
              "      <td>0.0</td>\n",
              "      <td>0.0</td>\n",
              "      <td>0.0</td>\n",
              "      <td>0.0</td>\n",
              "      <td>0.0</td>\n",
              "      <td>0.0</td>\n",
              "      <td>1.0</td>\n",
              "      <td>2634.0</td>\n",
              "      <td>8854.0</td>\n",
              "      <td>2007.0</td>\n",
              "      <td>9.0000</td>\n",
              "      <td>450000.0</td>\n",
              "      <td>10.0</td>\n",
              "      <td>6.0</td>\n",
              "    </tr>\n",
              "  </tbody>\n",
              "</table>\n",
              "<p>3293 rows × 15 columns</p>\n",
              "</div>"
            ],
            "text/plain": [
              "       1    2    3    4    5   ...      11       12         13    14     15\n",
              "0     1.0  1.0  1.0  1.0  1.0  ...  4106.0   9.0000  1500000.0   6.0   72.0\n",
              "1     1.0  1.0  0.0  1.0  1.0  ...  6867.0  12.0000  1500000.0  30.0   56.0\n",
              "2     1.0  1.0  1.0  1.0  1.0  ...  3693.0  12.0000  1600000.0  20.0  109.0\n",
              "3     1.0  1.0  1.0  1.0  1.0  ...  2139.0   8.2500  1500000.0  15.0   54.0\n",
              "4     1.0  1.0  0.0  1.0  1.0  ...  2145.0  14.8500  2100000.0  10.0   19.0\n",
              "...   ...  ...  ...  ...  ...  ...     ...      ...        ...   ...    ...\n",
              "3288  1.0  1.0  1.0  1.0  1.0  ...  3921.0  10.5000  1600000.0  11.0   21.0\n",
              "3289  1.0  1.0  1.0  1.0  1.0  ...  3921.0  18.9600  2200000.0   2.0    1.0\n",
              "3290  1.0  1.0  1.0  1.0  1.0  ...  3921.0  21.2000  2500000.0   1.0   18.0\n",
              "3291  0.0  0.0  1.0  0.0  1.0  ...  3994.0  10.5625   400000.0  21.0  181.0\n",
              "3292  0.0  0.0  0.0  0.0  0.0  ...  2007.0   9.0000   450000.0  10.0    6.0\n",
              "\n",
              "[3293 rows x 15 columns]"
            ]
          },
          "metadata": {
            "tags": []
          },
          "execution_count": 28
        }
      ]
    },
    {
      "cell_type": "code",
      "metadata": {
        "id": "gT5Gv4heUjMA",
        "colab_type": "code",
        "outputId": "cc02cf15-eaa4-4f27-feb0-15097f15beff",
        "colab": {
          "base_uri": "https://localhost:8080/",
          "height": 34
        }
      },
      "source": [
        "X_train, X_val_and_test, y_train, y_val_and_test = train_test_split(train_features, y, test_size=0.2)\n",
        "X_val, X_test, y_val, y_test = train_test_split(X_val_and_test, y_val_and_test, test_size=0.5)\n",
        "print(X_train.shape, X_val.shape, X_test.shape, y_train.shape, y_val.shape, y_test.shape)"
      ],
      "execution_count": 29,
      "outputs": [
        {
          "output_type": "stream",
          "text": [
            "(2634, 15) (329, 15) (330, 15) (2634, 1) (329, 1) (330, 1)\n"
          ],
          "name": "stdout"
        }
      ]
    },
    {
      "cell_type": "code",
      "metadata": {
        "id": "pJ2xc2R9A-cy",
        "colab_type": "code",
        "colab": {}
      },
      "source": [
        "# from keras import Sequential\n",
        "# from keras.layers import Dense\n",
        "\n",
        "classifier = Sequential()\n",
        "#First Hidden Layer\n",
        "classifier.add(Dense(4, activation='relu', kernel_initializer='random_normal', input_dim=15))\n",
        "classifier.add(Dropout(0.2))\n",
        "#Second  Hidden Layer\n",
        "#classifier.add(Dense(4, activation='relu', kernel_initializer='random_normal'))\n",
        "#classifier.add(Dropout(0.2))\n",
        "#Third  Hidden Layer\n",
        "# classifier.add(Dense(2, activation='relu', kernel_initializer='random_normal'))\n",
        "# classifier.add(Dropout(0.2))\n",
        "#Output Layer\n",
        "classifier.add(Dense(1, activation='sigmoid', kernel_initializer='random_normal'))"
      ],
      "execution_count": 0,
      "outputs": []
    },
    {
      "cell_type": "code",
      "metadata": {
        "id": "QURUtnPioOVT",
        "colab_type": "code",
        "outputId": "d6e47178-ced3-4485-e881-245bb7a730cb",
        "colab": {
          "base_uri": "https://localhost:8080/",
          "height": 255
        }
      },
      "source": [
        "classifier.summary()"
      ],
      "execution_count": 37,
      "outputs": [
        {
          "output_type": "stream",
          "text": [
            "Model: \"sequential_1\"\n",
            "_________________________________________________________________\n",
            "Layer (type)                 Output Shape              Param #   \n",
            "=================================================================\n",
            "dense_3 (Dense)              (None, 4)                 64        \n",
            "_________________________________________________________________\n",
            "dropout_2 (Dropout)          (None, 4)                 0         \n",
            "_________________________________________________________________\n",
            "dense_4 (Dense)              (None, 1)                 5         \n",
            "=================================================================\n",
            "Total params: 69\n",
            "Trainable params: 69\n",
            "Non-trainable params: 0\n",
            "_________________________________________________________________\n"
          ],
          "name": "stdout"
        }
      ]
    },
    {
      "cell_type": "code",
      "metadata": {
        "id": "xJWh0XZDCmMF",
        "colab_type": "code",
        "colab": {}
      },
      "source": [
        "classifier.compile(optimizer ='adam',loss='categorical_crossentropy', metrics =['accuracy'])"
      ],
      "execution_count": 0,
      "outputs": []
    },
    {
      "cell_type": "code",
      "metadata": {
        "id": "7fkl1ARxCu7s",
        "colab_type": "code",
        "outputId": "decc0d20-2447-4a1f-b01e-fe5d0c8e3eef",
        "colab": {
          "base_uri": "https://localhost:8080/",
          "height": 1000
        }
      },
      "source": [
        "history = classifier.fit(X_train,y_train, batch_size=10, epochs=100, validation_data=(X_val, y_val))"
      ],
      "execution_count": 40,
      "outputs": [
        {
          "output_type": "stream",
          "text": [
            "Epoch 1/100\n",
            "264/264 [==============================] - 0s 2ms/step - loss: nan - accuracy: 0.5228 - val_loss: nan - val_accuracy: 0.5745\n",
            "Epoch 2/100\n",
            "264/264 [==============================] - 0s 1ms/step - loss: nan - accuracy: 0.5220 - val_loss: nan - val_accuracy: 0.5745\n",
            "Epoch 3/100\n",
            "264/264 [==============================] - 0s 1ms/step - loss: nan - accuracy: 0.5220 - val_loss: nan - val_accuracy: 0.5745\n",
            "Epoch 4/100\n",
            "264/264 [==============================] - 0s 2ms/step - loss: nan - accuracy: 0.5220 - val_loss: nan - val_accuracy: 0.5745\n",
            "Epoch 5/100\n",
            "264/264 [==============================] - 0s 2ms/step - loss: nan - accuracy: 0.5220 - val_loss: nan - val_accuracy: 0.5745\n",
            "Epoch 6/100\n",
            "264/264 [==============================] - 0s 2ms/step - loss: nan - accuracy: 0.5220 - val_loss: nan - val_accuracy: 0.5745\n",
            "Epoch 7/100\n",
            "264/264 [==============================] - 0s 1ms/step - loss: nan - accuracy: 0.5220 - val_loss: nan - val_accuracy: 0.5745\n",
            "Epoch 8/100\n",
            "264/264 [==============================] - 0s 1ms/step - loss: nan - accuracy: 0.5220 - val_loss: nan - val_accuracy: 0.5745\n",
            "Epoch 9/100\n",
            "264/264 [==============================] - 0s 2ms/step - loss: nan - accuracy: 0.5220 - val_loss: nan - val_accuracy: 0.5745\n",
            "Epoch 10/100\n",
            "264/264 [==============================] - 0s 1ms/step - loss: nan - accuracy: 0.5220 - val_loss: nan - val_accuracy: 0.5745\n",
            "Epoch 11/100\n",
            "264/264 [==============================] - 0s 2ms/step - loss: nan - accuracy: 0.5220 - val_loss: nan - val_accuracy: 0.5745\n",
            "Epoch 12/100\n",
            "264/264 [==============================] - 0s 1ms/step - loss: nan - accuracy: 0.5220 - val_loss: nan - val_accuracy: 0.5745\n",
            "Epoch 13/100\n",
            "264/264 [==============================] - 0s 1ms/step - loss: nan - accuracy: 0.5220 - val_loss: nan - val_accuracy: 0.5745\n",
            "Epoch 14/100\n",
            "264/264 [==============================] - 0s 2ms/step - loss: nan - accuracy: 0.5220 - val_loss: nan - val_accuracy: 0.5745\n",
            "Epoch 15/100\n",
            "264/264 [==============================] - 0s 2ms/step - loss: nan - accuracy: 0.5220 - val_loss: nan - val_accuracy: 0.5745\n",
            "Epoch 16/100\n",
            "264/264 [==============================] - 0s 2ms/step - loss: nan - accuracy: 0.5220 - val_loss: nan - val_accuracy: 0.5745\n",
            "Epoch 17/100\n",
            "264/264 [==============================] - 0s 1ms/step - loss: nan - accuracy: 0.5220 - val_loss: nan - val_accuracy: 0.5745\n",
            "Epoch 18/100\n",
            "264/264 [==============================] - 0s 2ms/step - loss: nan - accuracy: 0.5220 - val_loss: nan - val_accuracy: 0.5745\n",
            "Epoch 19/100\n",
            "264/264 [==============================] - 0s 2ms/step - loss: nan - accuracy: 0.5220 - val_loss: nan - val_accuracy: 0.5745\n",
            "Epoch 20/100\n",
            "264/264 [==============================] - 0s 1ms/step - loss: nan - accuracy: 0.5220 - val_loss: nan - val_accuracy: 0.5745\n",
            "Epoch 21/100\n",
            "264/264 [==============================] - 0s 2ms/step - loss: nan - accuracy: 0.5220 - val_loss: nan - val_accuracy: 0.5745\n",
            "Epoch 22/100\n",
            "264/264 [==============================] - 0s 1ms/step - loss: nan - accuracy: 0.5220 - val_loss: nan - val_accuracy: 0.5745\n",
            "Epoch 23/100\n",
            "264/264 [==============================] - 0s 2ms/step - loss: nan - accuracy: 0.5220 - val_loss: nan - val_accuracy: 0.5745\n",
            "Epoch 24/100\n",
            "264/264 [==============================] - 0s 2ms/step - loss: nan - accuracy: 0.5220 - val_loss: nan - val_accuracy: 0.5745\n",
            "Epoch 25/100\n",
            "264/264 [==============================] - 0s 2ms/step - loss: nan - accuracy: 0.5220 - val_loss: nan - val_accuracy: 0.5745\n",
            "Epoch 26/100\n",
            "264/264 [==============================] - 0s 2ms/step - loss: nan - accuracy: 0.5220 - val_loss: nan - val_accuracy: 0.5745\n",
            "Epoch 27/100\n",
            "264/264 [==============================] - 0s 2ms/step - loss: nan - accuracy: 0.5220 - val_loss: nan - val_accuracy: 0.5745\n",
            "Epoch 28/100\n",
            "264/264 [==============================] - 0s 2ms/step - loss: nan - accuracy: 0.5220 - val_loss: nan - val_accuracy: 0.5745\n",
            "Epoch 29/100\n",
            "264/264 [==============================] - 0s 1ms/step - loss: nan - accuracy: 0.5220 - val_loss: nan - val_accuracy: 0.5745\n",
            "Epoch 30/100\n",
            "264/264 [==============================] - 0s 2ms/step - loss: nan - accuracy: 0.5220 - val_loss: nan - val_accuracy: 0.5745\n",
            "Epoch 31/100\n",
            "264/264 [==============================] - 0s 2ms/step - loss: nan - accuracy: 0.5220 - val_loss: nan - val_accuracy: 0.5745\n",
            "Epoch 32/100\n",
            "264/264 [==============================] - 0s 1ms/step - loss: nan - accuracy: 0.5220 - val_loss: nan - val_accuracy: 0.5745\n",
            "Epoch 33/100\n",
            "264/264 [==============================] - 0s 2ms/step - loss: nan - accuracy: 0.5220 - val_loss: nan - val_accuracy: 0.5745\n",
            "Epoch 34/100\n",
            "264/264 [==============================] - 0s 2ms/step - loss: nan - accuracy: 0.5220 - val_loss: nan - val_accuracy: 0.5745\n",
            "Epoch 35/100\n",
            "264/264 [==============================] - 0s 1ms/step - loss: nan - accuracy: 0.5220 - val_loss: nan - val_accuracy: 0.5745\n",
            "Epoch 36/100\n",
            "264/264 [==============================] - 0s 2ms/step - loss: nan - accuracy: 0.5220 - val_loss: nan - val_accuracy: 0.5745\n",
            "Epoch 37/100\n",
            "264/264 [==============================] - 0s 1ms/step - loss: nan - accuracy: 0.5220 - val_loss: nan - val_accuracy: 0.5745\n",
            "Epoch 38/100\n",
            "264/264 [==============================] - 0s 2ms/step - loss: nan - accuracy: 0.5220 - val_loss: nan - val_accuracy: 0.5745\n",
            "Epoch 39/100\n",
            "264/264 [==============================] - 0s 1ms/step - loss: nan - accuracy: 0.5220 - val_loss: nan - val_accuracy: 0.5745\n",
            "Epoch 40/100\n",
            "264/264 [==============================] - 0s 2ms/step - loss: nan - accuracy: 0.5220 - val_loss: nan - val_accuracy: 0.5745\n",
            "Epoch 41/100\n",
            "264/264 [==============================] - 0s 1ms/step - loss: nan - accuracy: 0.5220 - val_loss: nan - val_accuracy: 0.5745\n",
            "Epoch 42/100\n",
            "264/264 [==============================] - 0s 1ms/step - loss: nan - accuracy: 0.5220 - val_loss: nan - val_accuracy: 0.5745\n",
            "Epoch 43/100\n",
            "264/264 [==============================] - 0s 1ms/step - loss: nan - accuracy: 0.5220 - val_loss: nan - val_accuracy: 0.5745\n",
            "Epoch 44/100\n",
            "264/264 [==============================] - 0s 2ms/step - loss: nan - accuracy: 0.5220 - val_loss: nan - val_accuracy: 0.5745\n",
            "Epoch 45/100\n",
            "264/264 [==============================] - 0s 2ms/step - loss: nan - accuracy: 0.5220 - val_loss: nan - val_accuracy: 0.5745\n",
            "Epoch 46/100\n",
            "264/264 [==============================] - 0s 2ms/step - loss: nan - accuracy: 0.5220 - val_loss: nan - val_accuracy: 0.5745\n",
            "Epoch 47/100\n",
            "264/264 [==============================] - 0s 1ms/step - loss: nan - accuracy: 0.5220 - val_loss: nan - val_accuracy: 0.5745\n",
            "Epoch 48/100\n",
            "264/264 [==============================] - 0s 2ms/step - loss: nan - accuracy: 0.5220 - val_loss: nan - val_accuracy: 0.5745\n",
            "Epoch 49/100\n",
            "264/264 [==============================] - 0s 2ms/step - loss: nan - accuracy: 0.5220 - val_loss: nan - val_accuracy: 0.5745\n",
            "Epoch 50/100\n",
            "264/264 [==============================] - 0s 1ms/step - loss: nan - accuracy: 0.5220 - val_loss: nan - val_accuracy: 0.5745\n",
            "Epoch 51/100\n",
            "264/264 [==============================] - 0s 2ms/step - loss: nan - accuracy: 0.5220 - val_loss: nan - val_accuracy: 0.5745\n",
            "Epoch 52/100\n",
            "264/264 [==============================] - 0s 1ms/step - loss: nan - accuracy: 0.5220 - val_loss: nan - val_accuracy: 0.5745\n",
            "Epoch 53/100\n",
            "264/264 [==============================] - 0s 2ms/step - loss: nan - accuracy: 0.5220 - val_loss: nan - val_accuracy: 0.5745\n",
            "Epoch 54/100\n",
            "264/264 [==============================] - 0s 2ms/step - loss: nan - accuracy: 0.5220 - val_loss: nan - val_accuracy: 0.5745\n",
            "Epoch 55/100\n",
            "264/264 [==============================] - 0s 1ms/step - loss: nan - accuracy: 0.5220 - val_loss: nan - val_accuracy: 0.5745\n",
            "Epoch 56/100\n",
            "264/264 [==============================] - 0s 1ms/step - loss: nan - accuracy: 0.5220 - val_loss: nan - val_accuracy: 0.5745\n",
            "Epoch 57/100\n",
            "264/264 [==============================] - 0s 2ms/step - loss: nan - accuracy: 0.5220 - val_loss: nan - val_accuracy: 0.5745\n",
            "Epoch 58/100\n",
            "264/264 [==============================] - 0s 1ms/step - loss: nan - accuracy: 0.5220 - val_loss: nan - val_accuracy: 0.5745\n",
            "Epoch 59/100\n",
            "264/264 [==============================] - 0s 2ms/step - loss: nan - accuracy: 0.5220 - val_loss: nan - val_accuracy: 0.5745\n",
            "Epoch 60/100\n",
            "264/264 [==============================] - 0s 2ms/step - loss: nan - accuracy: 0.5220 - val_loss: nan - val_accuracy: 0.5745\n",
            "Epoch 61/100\n",
            "264/264 [==============================] - 0s 1ms/step - loss: nan - accuracy: 0.5220 - val_loss: nan - val_accuracy: 0.5745\n",
            "Epoch 62/100\n",
            "264/264 [==============================] - 0s 2ms/step - loss: nan - accuracy: 0.5220 - val_loss: nan - val_accuracy: 0.5745\n",
            "Epoch 63/100\n",
            "264/264 [==============================] - 0s 2ms/step - loss: nan - accuracy: 0.5220 - val_loss: nan - val_accuracy: 0.5745\n",
            "Epoch 64/100\n",
            "264/264 [==============================] - 0s 2ms/step - loss: nan - accuracy: 0.5220 - val_loss: nan - val_accuracy: 0.5745\n",
            "Epoch 65/100\n",
            "264/264 [==============================] - 0s 2ms/step - loss: nan - accuracy: 0.5220 - val_loss: nan - val_accuracy: 0.5745\n",
            "Epoch 66/100\n",
            "264/264 [==============================] - 0s 2ms/step - loss: nan - accuracy: 0.5220 - val_loss: nan - val_accuracy: 0.5745\n",
            "Epoch 67/100\n",
            "264/264 [==============================] - 0s 2ms/step - loss: nan - accuracy: 0.5220 - val_loss: nan - val_accuracy: 0.5745\n",
            "Epoch 68/100\n",
            "264/264 [==============================] - 0s 2ms/step - loss: nan - accuracy: 0.5220 - val_loss: nan - val_accuracy: 0.5745\n",
            "Epoch 69/100\n",
            "264/264 [==============================] - 0s 2ms/step - loss: nan - accuracy: 0.5220 - val_loss: nan - val_accuracy: 0.5745\n",
            "Epoch 70/100\n",
            "264/264 [==============================] - 0s 2ms/step - loss: nan - accuracy: 0.5220 - val_loss: nan - val_accuracy: 0.5745\n",
            "Epoch 71/100\n",
            "264/264 [==============================] - 0s 1ms/step - loss: nan - accuracy: 0.5220 - val_loss: nan - val_accuracy: 0.5745\n",
            "Epoch 72/100\n",
            "264/264 [==============================] - 0s 2ms/step - loss: nan - accuracy: 0.5220 - val_loss: nan - val_accuracy: 0.5745\n",
            "Epoch 73/100\n",
            "264/264 [==============================] - 0s 1ms/step - loss: nan - accuracy: 0.5220 - val_loss: nan - val_accuracy: 0.5745\n",
            "Epoch 74/100\n",
            "264/264 [==============================] - 0s 2ms/step - loss: nan - accuracy: 0.5220 - val_loss: nan - val_accuracy: 0.5745\n",
            "Epoch 75/100\n",
            "264/264 [==============================] - 0s 2ms/step - loss: nan - accuracy: 0.5220 - val_loss: nan - val_accuracy: 0.5745\n",
            "Epoch 76/100\n",
            "264/264 [==============================] - 0s 2ms/step - loss: nan - accuracy: 0.5220 - val_loss: nan - val_accuracy: 0.5745\n",
            "Epoch 77/100\n",
            "264/264 [==============================] - 0s 2ms/step - loss: nan - accuracy: 0.5220 - val_loss: nan - val_accuracy: 0.5745\n",
            "Epoch 78/100\n",
            "264/264 [==============================] - 0s 2ms/step - loss: nan - accuracy: 0.5220 - val_loss: nan - val_accuracy: 0.5745\n",
            "Epoch 79/100\n",
            "264/264 [==============================] - 0s 1ms/step - loss: nan - accuracy: 0.5220 - val_loss: nan - val_accuracy: 0.5745\n",
            "Epoch 80/100\n",
            "264/264 [==============================] - 0s 2ms/step - loss: nan - accuracy: 0.5220 - val_loss: nan - val_accuracy: 0.5745\n",
            "Epoch 81/100\n",
            "264/264 [==============================] - 0s 1ms/step - loss: nan - accuracy: 0.5220 - val_loss: nan - val_accuracy: 0.5745\n",
            "Epoch 82/100\n",
            "264/264 [==============================] - 0s 2ms/step - loss: nan - accuracy: 0.5220 - val_loss: nan - val_accuracy: 0.5745\n",
            "Epoch 83/100\n",
            "264/264 [==============================] - 0s 2ms/step - loss: nan - accuracy: 0.5220 - val_loss: nan - val_accuracy: 0.5745\n",
            "Epoch 84/100\n",
            "264/264 [==============================] - 0s 1ms/step - loss: nan - accuracy: 0.5220 - val_loss: nan - val_accuracy: 0.5745\n",
            "Epoch 85/100\n",
            "264/264 [==============================] - 0s 2ms/step - loss: nan - accuracy: 0.5220 - val_loss: nan - val_accuracy: 0.5745\n",
            "Epoch 86/100\n",
            "264/264 [==============================] - 0s 2ms/step - loss: nan - accuracy: 0.5220 - val_loss: nan - val_accuracy: 0.5745\n",
            "Epoch 87/100\n",
            "264/264 [==============================] - 0s 2ms/step - loss: nan - accuracy: 0.5220 - val_loss: nan - val_accuracy: 0.5745\n",
            "Epoch 88/100\n",
            "264/264 [==============================] - 0s 2ms/step - loss: nan - accuracy: 0.5220 - val_loss: nan - val_accuracy: 0.5745\n",
            "Epoch 89/100\n",
            "264/264 [==============================] - 0s 2ms/step - loss: nan - accuracy: 0.5220 - val_loss: nan - val_accuracy: 0.5745\n",
            "Epoch 90/100\n",
            "264/264 [==============================] - 0s 2ms/step - loss: nan - accuracy: 0.5220 - val_loss: nan - val_accuracy: 0.5745\n",
            "Epoch 91/100\n",
            "264/264 [==============================] - 0s 2ms/step - loss: nan - accuracy: 0.5220 - val_loss: nan - val_accuracy: 0.5745\n",
            "Epoch 92/100\n",
            "264/264 [==============================] - 0s 2ms/step - loss: nan - accuracy: 0.5220 - val_loss: nan - val_accuracy: 0.5745\n",
            "Epoch 93/100\n",
            "264/264 [==============================] - 0s 1ms/step - loss: nan - accuracy: 0.5220 - val_loss: nan - val_accuracy: 0.5745\n",
            "Epoch 94/100\n",
            "264/264 [==============================] - 0s 2ms/step - loss: nan - accuracy: 0.5220 - val_loss: nan - val_accuracy: 0.5745\n",
            "Epoch 95/100\n",
            "264/264 [==============================] - 0s 2ms/step - loss: nan - accuracy: 0.5220 - val_loss: nan - val_accuracy: 0.5745\n",
            "Epoch 96/100\n",
            "264/264 [==============================] - 0s 2ms/step - loss: nan - accuracy: 0.5220 - val_loss: nan - val_accuracy: 0.5745\n",
            "Epoch 97/100\n",
            "264/264 [==============================] - 0s 2ms/step - loss: nan - accuracy: 0.5220 - val_loss: nan - val_accuracy: 0.5745\n",
            "Epoch 98/100\n",
            "264/264 [==============================] - 0s 2ms/step - loss: nan - accuracy: 0.5220 - val_loss: nan - val_accuracy: 0.5745\n",
            "Epoch 99/100\n",
            "264/264 [==============================] - 0s 2ms/step - loss: nan - accuracy: 0.5220 - val_loss: nan - val_accuracy: 0.5745\n",
            "Epoch 100/100\n",
            "264/264 [==============================] - 0s 1ms/step - loss: nan - accuracy: 0.5220 - val_loss: nan - val_accuracy: 0.5745\n"
          ],
          "name": "stdout"
        }
      ]
    },
    {
      "cell_type": "code",
      "metadata": {
        "id": "wG75AYCzUjSU",
        "colab_type": "code",
        "colab": {}
      },
      "source": [
        "eval_model=classifier.evaluate(X_train, y_train)\n",
        "eval_model"
      ],
      "execution_count": 0,
      "outputs": []
    },
    {
      "cell_type": "code",
      "metadata": {
        "id": "G_aYfpDUUjYQ",
        "colab_type": "code",
        "colab": {}
      },
      "source": [
        "classifier.evaluate(X_test, y_test)[1]\n"
      ],
      "execution_count": 0,
      "outputs": []
    },
    {
      "cell_type": "code",
      "metadata": {
        "id": "oXOVtYzHUjc7",
        "colab_type": "code",
        "colab": {}
      },
      "source": [
        "plt.plot(history.history['loss'])\n",
        "plt.plot(history.history['val_loss'])\n",
        "plt.title('Model loss')\n",
        "plt.ylabel('Loss')\n",
        "plt.xlabel('Epoch')\n",
        "plt.legend(['Train', 'Val'], loc='upper right')\n",
        "plt.show()"
      ],
      "execution_count": 0,
      "outputs": []
    },
    {
      "cell_type": "code",
      "metadata": {
        "id": "1NU0b6LLUjgZ",
        "colab_type": "code",
        "colab": {}
      },
      "source": [
        "plt.plot(history.history['accuracy'])\n",
        "plt.plot(history.history['val_accuracy'])\n",
        "plt.title('Model accuracy')\n",
        "plt.ylabel('Accuracy')\n",
        "plt.xlabel('Epoch')\n",
        "plt.legend(['Train', 'Val'], loc='lower right')\n",
        "plt.show()"
      ],
      "execution_count": 0,
      "outputs": []
    },
    {
      "cell_type": "code",
      "metadata": {
        "id": "b7oBtoQ0St8H",
        "colab_type": "code",
        "colab": {}
      },
      "source": [
        "# x = train_df.loc[:,'fac_1':'fac_8']\n",
        "# y = train_df.loc[:,'gender':]"
      ],
      "execution_count": 0,
      "outputs": []
    },
    {
      "cell_type": "code",
      "metadata": {
        "id": "NJwVk5yt_IFw",
        "colab_type": "code",
        "colab": {}
      },
      "source": [
        "# features = train_df.loc[:,'poi_1':'total_call']\n",
        "# label = train_df.loc[:,'gender':]\n",
        "# train_label"
      ],
      "execution_count": 0,
      "outputs": []
    },
    {
      "cell_type": "code",
      "metadata": {
        "id": "RMc-LzePAnak",
        "colab_type": "code",
        "colab": {}
      },
      "source": [
        "# from sklearn.preprocessing import StandardScaler\n",
        "# sc = StandardScaler()\n",
        "# X = sc.fit_transform(train_features)\n",
        "# X"
      ],
      "execution_count": 0,
      "outputs": []
    },
    {
      "cell_type": "code",
      "metadata": {
        "id": "bhVjHhxeSuHM",
        "colab_type": "code",
        "colab": {}
      },
      "source": [
        "# X_train, X_test, y_train, y_test = train_test_split(features, label, test_size=0.2, random_state=42)"
      ],
      "execution_count": 0,
      "outputs": []
    },
    {
      "cell_type": "code",
      "metadata": {
        "id": "1sWGCCVADqeH",
        "colab_type": "code",
        "colab": {}
      },
      "source": [
        "eval_model=classifier.evaluate(X_train, y_train)\n",
        "eval_model"
      ],
      "execution_count": 0,
      "outputs": []
    },
    {
      "cell_type": "code",
      "metadata": {
        "id": "eK9tJaYCD-Fm",
        "colab_type": "code",
        "colab": {}
      },
      "source": [
        "# y_pred=classifier.predict(X_test)"
      ],
      "execution_count": 0,
      "outputs": []
    },
    {
      "cell_type": "code",
      "metadata": {
        "id": "vGnViZBNSuLb",
        "colab_type": "code",
        "colab": {}
      },
      "source": [
        "# input_layer = Input(shape=(train_features.shape[1],))\n",
        "# dense_layer_1 = Dense(15, activation='relu')(input_layer)\n",
        "# dense_layer_2 = Dense(10, activation='relu')(dense_layer_1)\n",
        "# output = Dense(train_label.shape[1], activation='softmax')(dense_layer_2)\n",
        "\n",
        "# model = Model(inputs=input_layer, outputs=output)\n",
        "# model.compile(loss='categorical_crossentropy', optimizer='adam', metrics=['acc'])\n",
        "\n"
      ],
      "execution_count": 0,
      "outputs": []
    },
    {
      "cell_type": "code",
      "metadata": {
        "id": "sfS0BUpwSuS9",
        "colab_type": "code",
        "colab": {}
      },
      "source": [
        "# train_label.shape"
      ],
      "execution_count": 0,
      "outputs": []
    },
    {
      "cell_type": "code",
      "metadata": {
        "id": "e0uMsj8lSuVp",
        "colab_type": "code",
        "colab": {}
      },
      "source": [
        "# model.summary()"
      ],
      "execution_count": 0,
      "outputs": []
    },
    {
      "cell_type": "code",
      "metadata": {
        "id": "27LWprdqSuYs",
        "colab_type": "code",
        "colab": {}
      },
      "source": [
        "# history = model.fit(X_train, y_train, batch_size=8, epochs=50, verbose=1, validation_split=0.3)"
      ],
      "execution_count": 0,
      "outputs": []
    },
    {
      "cell_type": "code",
      "metadata": {
        "id": "iSBYRyDgSucx",
        "colab_type": "code",
        "colab": {}
      },
      "source": [
        "# score = model.evaluate(X_test, y_test, verbose=1)\n",
        "\n",
        "# print(\"Test Score:\", score[0])\n",
        "# print(\"Test Accuracy:\", score[1])"
      ],
      "execution_count": 0,
      "outputs": []
    }
  ]
}