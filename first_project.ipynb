{
  "nbformat": 4,
  "nbformat_minor": 0,
  "metadata": {
    "colab": {
      "name": "first-project.ipynb",
      "provenance": [],
      "collapsed_sections": [],
      "toc_visible": true
    },
    "kernelspec": {
      "name": "python3",
      "display_name": "Python 3"
    }
  },
  "cells": [
    {
      "cell_type": "code",
      "metadata": {
        "id": "zFyq10L59D98",
        "colab_type": "code",
        "colab": {}
      },
      "source": [
        "#@title Run on TensorFlow 2.x\n",
        "# %tensorflow_version 2.x"
      ],
      "execution_count": 0,
      "outputs": []
    },
    {
      "cell_type": "code",
      "metadata": {
        "id": "NbA136vl_X0M",
        "colab_type": "code",
        "colab": {}
      },
      "source": [
        "import numpy as np\n",
        "import pandas as pd\n",
        "import tensorflow as tf\n",
        "import seaborn as sns\n",
        "# from tensorflow import feature_column\n",
        "from tensorflow.keras import layers, Sequential\n",
        "from tensorflow.keras.layers import Input, Dense, Activation,Dropout\n",
        "from tensorflow.keras.models import Model\n",
        "from matplotlib import pyplot as plt\n",
        "from google.colab import files\n",
        "from sklearn.model_selection import train_test_split\n",
        "import io\n",
        "from sklearn.impute import KNNImputer"
      ],
      "execution_count": 0,
      "outputs": []
    },
    {
      "cell_type": "code",
      "metadata": {
        "id": "8TtcvYPm_6L8",
        "colab_type": "code",
        "outputId": "d182732f-c52b-4e8c-935c-aa64bc8205e4",
        "colab": {
          "resources": {
            "http://localhost:8080/nbextensions/google.colab/files.js": {
              "data": "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",
              "ok": true,
              "headers": [
                [
                  "content-type",
                  "application/javascript"
                ]
              ],
              "status": 200,
              "status_text": ""
            }
          },
          "base_uri": "https://localhost:8080/",
          "height": 380
        }
      },
      "source": [
        "uploaded = files.upload()\n",
        "train_df = pd.read_csv(io.BytesIO(uploaded['train.csv']))\n",
        "\n",
        "train_df.head()"
      ],
      "execution_count": 28,
      "outputs": [
        {
          "output_type": "display_data",
          "data": {
            "text/html": [
              "\n",
              "     <input type=\"file\" id=\"files-13c73097-5b25-4a77-80f1-394daf00a83d\" name=\"files[]\" multiple disabled />\n",
              "     <output id=\"result-13c73097-5b25-4a77-80f1-394daf00a83d\">\n",
              "      Upload widget is only available when the cell has been executed in the\n",
              "      current browser session. Please rerun this cell to enable.\n",
              "      </output>\n",
              "      <script src=\"/nbextensions/google.colab/files.js\"></script> "
            ],
            "text/plain": [
              "<IPython.core.display.HTML object>"
            ]
          },
          "metadata": {
            "tags": []
          }
        },
        {
          "output_type": "error",
          "ename": "KeyboardInterrupt",
          "evalue": "ignored",
          "traceback": [
            "\u001b[0;31m---------------------------------------------------------------------------\u001b[0m",
            "\u001b[0;31mKeyboardInterrupt\u001b[0m                         Traceback (most recent call last)",
            "\u001b[0;32m<ipython-input-28-0a804e740a81>\u001b[0m in \u001b[0;36m<module>\u001b[0;34m()\u001b[0m\n\u001b[0;32m----> 1\u001b[0;31m \u001b[0muploaded\u001b[0m \u001b[0;34m=\u001b[0m \u001b[0mfiles\u001b[0m\u001b[0;34m.\u001b[0m\u001b[0mupload\u001b[0m\u001b[0;34m(\u001b[0m\u001b[0;34m)\u001b[0m\u001b[0;34m\u001b[0m\u001b[0;34m\u001b[0m\u001b[0m\n\u001b[0m\u001b[1;32m      2\u001b[0m \u001b[0mtrain_df\u001b[0m \u001b[0;34m=\u001b[0m \u001b[0mpd\u001b[0m\u001b[0;34m.\u001b[0m\u001b[0mread_csv\u001b[0m\u001b[0;34m(\u001b[0m\u001b[0mio\u001b[0m\u001b[0;34m.\u001b[0m\u001b[0mBytesIO\u001b[0m\u001b[0;34m(\u001b[0m\u001b[0muploaded\u001b[0m\u001b[0;34m[\u001b[0m\u001b[0;34m'train.csv'\u001b[0m\u001b[0;34m]\u001b[0m\u001b[0;34m)\u001b[0m\u001b[0;34m)\u001b[0m\u001b[0;34m\u001b[0m\u001b[0;34m\u001b[0m\u001b[0m\n\u001b[1;32m      3\u001b[0m \u001b[0;34m\u001b[0m\u001b[0m\n\u001b[1;32m      4\u001b[0m \u001b[0mtrain_df\u001b[0m\u001b[0;34m.\u001b[0m\u001b[0mhead\u001b[0m\u001b[0;34m(\u001b[0m\u001b[0;34m)\u001b[0m\u001b[0;34m\u001b[0m\u001b[0;34m\u001b[0m\u001b[0m\n",
            "\u001b[0;32m/usr/local/lib/python3.6/dist-packages/google/colab/files.py\u001b[0m in \u001b[0;36mupload\u001b[0;34m()\u001b[0m\n\u001b[1;32m     62\u001b[0m   result = _output.eval_js(\n\u001b[1;32m     63\u001b[0m       'google.colab._files._uploadFiles(\"{input_id}\", \"{output_id}\")'.format(\n\u001b[0;32m---> 64\u001b[0;31m           input_id=input_id, output_id=output_id))\n\u001b[0m\u001b[1;32m     65\u001b[0m   \u001b[0mfiles\u001b[0m \u001b[0;34m=\u001b[0m \u001b[0m_collections\u001b[0m\u001b[0;34m.\u001b[0m\u001b[0mdefaultdict\u001b[0m\u001b[0;34m(\u001b[0m\u001b[0m_six\u001b[0m\u001b[0;34m.\u001b[0m\u001b[0mbinary_type\u001b[0m\u001b[0;34m)\u001b[0m\u001b[0;34m\u001b[0m\u001b[0;34m\u001b[0m\u001b[0m\n\u001b[1;32m     66\u001b[0m   \u001b[0;31m# Mapping from original filename to filename as saved locally.\u001b[0m\u001b[0;34m\u001b[0m\u001b[0;34m\u001b[0m\u001b[0;34m\u001b[0m\u001b[0m\n",
            "\u001b[0;32m/usr/local/lib/python3.6/dist-packages/google/colab/output/_js.py\u001b[0m in \u001b[0;36meval_js\u001b[0;34m(script, ignore_result)\u001b[0m\n\u001b[1;32m     37\u001b[0m   \u001b[0;32mif\u001b[0m \u001b[0mignore_result\u001b[0m\u001b[0;34m:\u001b[0m\u001b[0;34m\u001b[0m\u001b[0;34m\u001b[0m\u001b[0m\n\u001b[1;32m     38\u001b[0m     \u001b[0;32mreturn\u001b[0m\u001b[0;34m\u001b[0m\u001b[0;34m\u001b[0m\u001b[0m\n\u001b[0;32m---> 39\u001b[0;31m   \u001b[0;32mreturn\u001b[0m \u001b[0m_message\u001b[0m\u001b[0;34m.\u001b[0m\u001b[0mread_reply_from_input\u001b[0m\u001b[0;34m(\u001b[0m\u001b[0mrequest_id\u001b[0m\u001b[0;34m)\u001b[0m\u001b[0;34m\u001b[0m\u001b[0;34m\u001b[0m\u001b[0m\n\u001b[0m\u001b[1;32m     40\u001b[0m \u001b[0;34m\u001b[0m\u001b[0m\n\u001b[1;32m     41\u001b[0m \u001b[0;34m\u001b[0m\u001b[0m\n",
            "\u001b[0;32m/usr/local/lib/python3.6/dist-packages/google/colab/_message.py\u001b[0m in \u001b[0;36mread_reply_from_input\u001b[0;34m(message_id, timeout_sec)\u001b[0m\n\u001b[1;32m     99\u001b[0m     \u001b[0mreply\u001b[0m \u001b[0;34m=\u001b[0m \u001b[0m_read_next_input_message\u001b[0m\u001b[0;34m(\u001b[0m\u001b[0;34m)\u001b[0m\u001b[0;34m\u001b[0m\u001b[0;34m\u001b[0m\u001b[0m\n\u001b[1;32m    100\u001b[0m     \u001b[0;32mif\u001b[0m \u001b[0mreply\u001b[0m \u001b[0;34m==\u001b[0m \u001b[0m_NOT_READY\u001b[0m \u001b[0;32mor\u001b[0m \u001b[0;32mnot\u001b[0m \u001b[0misinstance\u001b[0m\u001b[0;34m(\u001b[0m\u001b[0mreply\u001b[0m\u001b[0;34m,\u001b[0m \u001b[0mdict\u001b[0m\u001b[0;34m)\u001b[0m\u001b[0;34m:\u001b[0m\u001b[0;34m\u001b[0m\u001b[0;34m\u001b[0m\u001b[0m\n\u001b[0;32m--> 101\u001b[0;31m       \u001b[0mtime\u001b[0m\u001b[0;34m.\u001b[0m\u001b[0msleep\u001b[0m\u001b[0;34m(\u001b[0m\u001b[0;36m0.025\u001b[0m\u001b[0;34m)\u001b[0m\u001b[0;34m\u001b[0m\u001b[0;34m\u001b[0m\u001b[0m\n\u001b[0m\u001b[1;32m    102\u001b[0m       \u001b[0;32mcontinue\u001b[0m\u001b[0;34m\u001b[0m\u001b[0;34m\u001b[0m\u001b[0m\n\u001b[1;32m    103\u001b[0m     if (reply.get('type') == 'colab_reply' and\n",
            "\u001b[0;31mKeyboardInterrupt\u001b[0m: "
          ]
        }
      ]
    },
    {
      "cell_type": "markdown",
      "metadata": {
        "id": "RBcsxzqYFpcC",
        "colab_type": "text"
      },
      "source": [
        "Data Preprocessing"
      ]
    },
    {
      "cell_type": "code",
      "metadata": {
        "id": "b1KPLVMinOzx",
        "colab_type": "code",
        "outputId": "78d9503f-720e-4e74-b50a-8746321a355b",
        "colab": {
          "base_uri": "https://localhost:8080/",
          "height": 323
        }
      },
      "source": [
        "#train_df = pd.read_csv('train.csv')\n",
        "train_df.isnull().sum()"
      ],
      "execution_count": 29,
      "outputs": [
        {
          "output_type": "execute_result",
          "data": {
            "text/plain": [
              "id                0\n",
              "fac_1            63\n",
              "fac_2            74\n",
              "fac_3            62\n",
              "fac_4            71\n",
              "fac_5            72\n",
              "fac_6            64\n",
              "fac_7            78\n",
              "fac_8            68\n",
              "poi_1            67\n",
              "poi_2            67\n",
              "poi_3            86\n",
              "size             68\n",
              "price_monthly    85\n",
              "room_count       70\n",
              "total_call        0\n",
              "gender            0\n",
              "dtype: int64"
            ]
          },
          "metadata": {
            "tags": []
          },
          "execution_count": 29
        }
      ]
    },
    {
      "cell_type": "code",
      "metadata": {
        "id": "ELnkJV4GVRdL",
        "colab_type": "code",
        "colab": {}
      },
      "source": [
        "gender = {'putri':0, 'putra':1, 'campur':2}\n",
        "train_df['gender'] = train_df['gender'].map(gender)"
      ],
      "execution_count": 0,
      "outputs": []
    },
    {
      "cell_type": "code",
      "metadata": {
        "id": "cuqjECASASC4",
        "colab_type": "code",
        "colab": {
          "base_uri": "https://localhost:8080/",
          "height": 204
        },
        "outputId": "73921fba-98f2-4398-fb54-d2b7e0ec65dd"
      },
      "source": [
        "#Fill missing value\n",
        "imputer = KNNImputer(n_neighbors=10, weights=\"uniform\")\n",
        "train_df = pd.DataFrame(imputer.fit_transform(train_df))\n",
        "train_df.head()"
      ],
      "execution_count": 31,
      "outputs": [
        {
          "output_type": "execute_result",
          "data": {
            "text/html": [
              "<div>\n",
              "<style scoped>\n",
              "    .dataframe tbody tr th:only-of-type {\n",
              "        vertical-align: middle;\n",
              "    }\n",
              "\n",
              "    .dataframe tbody tr th {\n",
              "        vertical-align: top;\n",
              "    }\n",
              "\n",
              "    .dataframe thead th {\n",
              "        text-align: right;\n",
              "    }\n",
              "</style>\n",
              "<table border=\"1\" class=\"dataframe\">\n",
              "  <thead>\n",
              "    <tr style=\"text-align: right;\">\n",
              "      <th></th>\n",
              "      <th>0</th>\n",
              "      <th>1</th>\n",
              "      <th>2</th>\n",
              "      <th>3</th>\n",
              "      <th>4</th>\n",
              "      <th>5</th>\n",
              "      <th>6</th>\n",
              "      <th>7</th>\n",
              "      <th>8</th>\n",
              "      <th>9</th>\n",
              "      <th>10</th>\n",
              "      <th>11</th>\n",
              "      <th>12</th>\n",
              "      <th>13</th>\n",
              "      <th>14</th>\n",
              "      <th>15</th>\n",
              "      <th>16</th>\n",
              "    </tr>\n",
              "  </thead>\n",
              "  <tbody>\n",
              "    <tr>\n",
              "      <th>0</th>\n",
              "      <td>1.0</td>\n",
              "      <td>1.0</td>\n",
              "      <td>1.0</td>\n",
              "      <td>1.0</td>\n",
              "      <td>1.0</td>\n",
              "      <td>1.0</td>\n",
              "      <td>1.0</td>\n",
              "      <td>0.0</td>\n",
              "      <td>1.0</td>\n",
              "      <td>1778.0</td>\n",
              "      <td>10038.0</td>\n",
              "      <td>4106.0</td>\n",
              "      <td>9.00</td>\n",
              "      <td>1500000.0</td>\n",
              "      <td>6.0</td>\n",
              "      <td>72.0</td>\n",
              "      <td>2.0</td>\n",
              "    </tr>\n",
              "    <tr>\n",
              "      <th>1</th>\n",
              "      <td>2.0</td>\n",
              "      <td>1.0</td>\n",
              "      <td>1.0</td>\n",
              "      <td>0.0</td>\n",
              "      <td>1.0</td>\n",
              "      <td>1.0</td>\n",
              "      <td>1.0</td>\n",
              "      <td>0.0</td>\n",
              "      <td>0.7</td>\n",
              "      <td>4548.0</td>\n",
              "      <td>9332.0</td>\n",
              "      <td>6867.0</td>\n",
              "      <td>12.00</td>\n",
              "      <td>1500000.0</td>\n",
              "      <td>30.0</td>\n",
              "      <td>56.0</td>\n",
              "      <td>2.0</td>\n",
              "    </tr>\n",
              "    <tr>\n",
              "      <th>2</th>\n",
              "      <td>3.0</td>\n",
              "      <td>1.0</td>\n",
              "      <td>0.7</td>\n",
              "      <td>1.0</td>\n",
              "      <td>1.0</td>\n",
              "      <td>1.0</td>\n",
              "      <td>1.0</td>\n",
              "      <td>0.0</td>\n",
              "      <td>1.0</td>\n",
              "      <td>5174.0</td>\n",
              "      <td>9021.0</td>\n",
              "      <td>3693.0</td>\n",
              "      <td>12.00</td>\n",
              "      <td>1600000.0</td>\n",
              "      <td>20.0</td>\n",
              "      <td>109.0</td>\n",
              "      <td>2.0</td>\n",
              "    </tr>\n",
              "    <tr>\n",
              "      <th>3</th>\n",
              "      <td>4.0</td>\n",
              "      <td>1.0</td>\n",
              "      <td>1.0</td>\n",
              "      <td>1.0</td>\n",
              "      <td>1.0</td>\n",
              "      <td>1.0</td>\n",
              "      <td>1.0</td>\n",
              "      <td>0.0</td>\n",
              "      <td>0.0</td>\n",
              "      <td>1490.0</td>\n",
              "      <td>8954.0</td>\n",
              "      <td>2139.0</td>\n",
              "      <td>8.25</td>\n",
              "      <td>1500000.0</td>\n",
              "      <td>15.0</td>\n",
              "      <td>54.0</td>\n",
              "      <td>2.0</td>\n",
              "    </tr>\n",
              "    <tr>\n",
              "      <th>4</th>\n",
              "      <td>5.0</td>\n",
              "      <td>1.0</td>\n",
              "      <td>1.0</td>\n",
              "      <td>0.0</td>\n",
              "      <td>1.0</td>\n",
              "      <td>1.0</td>\n",
              "      <td>1.0</td>\n",
              "      <td>0.0</td>\n",
              "      <td>1.0</td>\n",
              "      <td>1688.0</td>\n",
              "      <td>8851.0</td>\n",
              "      <td>2145.0</td>\n",
              "      <td>14.85</td>\n",
              "      <td>2100000.0</td>\n",
              "      <td>10.0</td>\n",
              "      <td>19.0</td>\n",
              "      <td>2.0</td>\n",
              "    </tr>\n",
              "  </tbody>\n",
              "</table>\n",
              "</div>"
            ],
            "text/plain": [
              "    0    1    2    3    4    5   ...      11     12         13    14     15   16\n",
              "0  1.0  1.0  1.0  1.0  1.0  1.0  ...  4106.0   9.00  1500000.0   6.0   72.0  2.0\n",
              "1  2.0  1.0  1.0  0.0  1.0  1.0  ...  6867.0  12.00  1500000.0  30.0   56.0  2.0\n",
              "2  3.0  1.0  0.7  1.0  1.0  1.0  ...  3693.0  12.00  1600000.0  20.0  109.0  2.0\n",
              "3  4.0  1.0  1.0  1.0  1.0  1.0  ...  2139.0   8.25  1500000.0  15.0   54.0  2.0\n",
              "4  5.0  1.0  1.0  0.0  1.0  1.0  ...  2145.0  14.85  2100000.0  10.0   19.0  2.0\n",
              "\n",
              "[5 rows x 17 columns]"
            ]
          },
          "metadata": {
            "tags": []
          },
          "execution_count": 31
        }
      ]
    },
    {
      "cell_type": "code",
      "metadata": {
        "id": "99Y-zXYs3cfr",
        "colab_type": "code",
        "outputId": "ddb7c908-5ec3-4ac3-ff27-601f0395a096",
        "colab": {
          "base_uri": "https://localhost:8080/",
          "height": 323
        }
      },
      "source": [
        "train_df.isnull().sum()"
      ],
      "execution_count": 32,
      "outputs": [
        {
          "output_type": "execute_result",
          "data": {
            "text/plain": [
              "0     0\n",
              "1     0\n",
              "2     0\n",
              "3     0\n",
              "4     0\n",
              "5     0\n",
              "6     0\n",
              "7     0\n",
              "8     0\n",
              "9     0\n",
              "10    0\n",
              "11    0\n",
              "12    0\n",
              "13    0\n",
              "14    0\n",
              "15    0\n",
              "16    0\n",
              "dtype: int64"
            ]
          },
          "metadata": {
            "tags": []
          },
          "execution_count": 32
        }
      ]
    },
    {
      "cell_type": "code",
      "metadata": {
        "id": "IBJRowvRJZAU",
        "colab_type": "code",
        "outputId": "76581411-8939-44b2-9fec-e8eb6473e8b1",
        "colab": {
          "base_uri": "https://localhost:8080/",
          "height": 296
        }
      },
      "source": [
        "sns.distplot(train_df[14]) #room_count"
      ],
      "execution_count": 33,
      "outputs": [
        {
          "output_type": "execute_result",
          "data": {
            "text/plain": [
              "<matplotlib.axes._subplots.AxesSubplot at 0x7f080acd8898>"
            ]
          },
          "metadata": {
            "tags": []
          },
          "execution_count": 33
        },
        {
          "output_type": "display_data",
          "data": {
            "image/png": "[encoded data removed]",
            "text/plain": [
              "<Figure size 432x288 with 1 Axes>"
            ]
          },
          "metadata": {
            "tags": []
          }
        }
      ]
    },
    {
      "cell_type": "code",
      "metadata": {
        "id": "QLChnC-bKMj4",
        "colab_type": "code",
        "outputId": "51e0122f-18c0-43d1-a671-aad1926686a5",
        "colab": {
          "base_uri": "https://localhost:8080/",
          "height": 307
        }
      },
      "source": [
        "sns.distplot(train_df[13]) #price_monthly"
      ],
      "execution_count": 34,
      "outputs": [
        {
          "output_type": "execute_result",
          "data": {
            "text/plain": [
              "<matplotlib.axes._subplots.AxesSubplot at 0x7f080adeee10>"
            ]
          },
          "metadata": {
            "tags": []
          },
          "execution_count": 34
        },
        {
          "output_type": "display_data",
          "data": {
            "image/png": "[encoded data removed]",
            "text/plain": [
              "<Figure size 432x288 with 1 Axes>"
            ]
          },
          "metadata": {
            "tags": []
          }
        }
      ]
    },
    {
      "cell_type": "code",
      "metadata": {
        "id": "63HketEYPLWV",
        "colab_type": "code",
        "colab": {}
      },
      "source": [
        "def detect_outlier(data, column):\n",
        "    q1 = data[column].quantile(0.25)\n",
        "    q3 = data[column].quantile(0.75)\n",
        "\n",
        "    iqr = q3 - q1\n",
        "    rub = q3 + 1.5*iqr\n",
        "    rlb = q1 - 1.5*iqr\n",
        "\n",
        "    outlier = (data[column] < rlb) | (data[column] > rub)\n",
        "    \n",
        "    return data[outlier]"
      ],
      "execution_count": 0,
      "outputs": []
    },
    {
      "cell_type": "code",
      "metadata": {
        "id": "vpCxrW8SSb2G",
        "colab_type": "code",
        "outputId": "11ced9ed-de7c-4f67-eea2-4a9602ea145e",
        "colab": {
          "base_uri": "https://localhost:8080/",
          "height": 419
        }
      },
      "source": [
        "detect_outlier(train_df, 13)"
      ],
      "execution_count": 36,
      "outputs": [
        {
          "output_type": "execute_result",
          "data": {
            "text/html": [
              "<div>\n",
              "<style scoped>\n",
              "    .dataframe tbody tr th:only-of-type {\n",
              "        vertical-align: middle;\n",
              "    }\n",
              "\n",
              "    .dataframe tbody tr th {\n",
              "        vertical-align: top;\n",
              "    }\n",
              "\n",
              "    .dataframe thead th {\n",
              "        text-align: right;\n",
              "    }\n",
              "</style>\n",
              "<table border=\"1\" class=\"dataframe\">\n",
              "  <thead>\n",
              "    <tr style=\"text-align: right;\">\n",
              "      <th></th>\n",
              "      <th>0</th>\n",
              "      <th>1</th>\n",
              "      <th>2</th>\n",
              "      <th>3</th>\n",
              "      <th>4</th>\n",
              "      <th>5</th>\n",
              "      <th>6</th>\n",
              "      <th>7</th>\n",
              "      <th>8</th>\n",
              "      <th>9</th>\n",
              "      <th>10</th>\n",
              "      <th>11</th>\n",
              "      <th>12</th>\n",
              "      <th>13</th>\n",
              "      <th>14</th>\n",
              "      <th>15</th>\n",
              "      <th>16</th>\n",
              "    </tr>\n",
              "  </thead>\n",
              "  <tbody>\n",
              "    <tr>\n",
              "      <th>8</th>\n",
              "      <td>9.0</td>\n",
              "      <td>1.0</td>\n",
              "      <td>1.0</td>\n",
              "      <td>1.0</td>\n",
              "      <td>1.0</td>\n",
              "      <td>1.0</td>\n",
              "      <td>1.0</td>\n",
              "      <td>0.0</td>\n",
              "      <td>0.0</td>\n",
              "      <td>4835.0</td>\n",
              "      <td>8490.0</td>\n",
              "      <td>3618.0</td>\n",
              "      <td>20.00</td>\n",
              "      <td>4000000.0</td>\n",
              "      <td>8.0</td>\n",
              "      <td>4.0</td>\n",
              "      <td>0.0</td>\n",
              "    </tr>\n",
              "    <tr>\n",
              "      <th>55</th>\n",
              "      <td>56.0</td>\n",
              "      <td>1.0</td>\n",
              "      <td>1.0</td>\n",
              "      <td>1.0</td>\n",
              "      <td>1.0</td>\n",
              "      <td>1.0</td>\n",
              "      <td>1.0</td>\n",
              "      <td>0.0</td>\n",
              "      <td>0.0</td>\n",
              "      <td>3213.0</td>\n",
              "      <td>9851.0</td>\n",
              "      <td>1513.0</td>\n",
              "      <td>20.00</td>\n",
              "      <td>3000000.0</td>\n",
              "      <td>2.0</td>\n",
              "      <td>6.0</td>\n",
              "      <td>2.0</td>\n",
              "    </tr>\n",
              "    <tr>\n",
              "      <th>62</th>\n",
              "      <td>63.0</td>\n",
              "      <td>1.0</td>\n",
              "      <td>1.0</td>\n",
              "      <td>1.0</td>\n",
              "      <td>1.0</td>\n",
              "      <td>1.0</td>\n",
              "      <td>1.0</td>\n",
              "      <td>0.0</td>\n",
              "      <td>1.0</td>\n",
              "      <td>1384.0</td>\n",
              "      <td>9025.0</td>\n",
              "      <td>2124.0</td>\n",
              "      <td>36.00</td>\n",
              "      <td>2800000.0</td>\n",
              "      <td>33.0</td>\n",
              "      <td>18.0</td>\n",
              "      <td>2.0</td>\n",
              "    </tr>\n",
              "    <tr>\n",
              "      <th>69</th>\n",
              "      <td>70.0</td>\n",
              "      <td>1.0</td>\n",
              "      <td>1.0</td>\n",
              "      <td>1.0</td>\n",
              "      <td>1.0</td>\n",
              "      <td>1.0</td>\n",
              "      <td>1.0</td>\n",
              "      <td>0.0</td>\n",
              "      <td>0.0</td>\n",
              "      <td>2403.1</td>\n",
              "      <td>9851.0</td>\n",
              "      <td>1513.0</td>\n",
              "      <td>12.00</td>\n",
              "      <td>2500000.0</td>\n",
              "      <td>3.0</td>\n",
              "      <td>7.0</td>\n",
              "      <td>2.0</td>\n",
              "    </tr>\n",
              "    <tr>\n",
              "      <th>160</th>\n",
              "      <td>161.0</td>\n",
              "      <td>1.0</td>\n",
              "      <td>1.0</td>\n",
              "      <td>1.0</td>\n",
              "      <td>1.0</td>\n",
              "      <td>1.0</td>\n",
              "      <td>1.0</td>\n",
              "      <td>0.0</td>\n",
              "      <td>1.0</td>\n",
              "      <td>3732.0</td>\n",
              "      <td>8863.0</td>\n",
              "      <td>6016.0</td>\n",
              "      <td>16.00</td>\n",
              "      <td>4500000.0</td>\n",
              "      <td>6.0</td>\n",
              "      <td>11.0</td>\n",
              "      <td>2.0</td>\n",
              "    </tr>\n",
              "    <tr>\n",
              "      <th>...</th>\n",
              "      <td>...</td>\n",
              "      <td>...</td>\n",
              "      <td>...</td>\n",
              "      <td>...</td>\n",
              "      <td>...</td>\n",
              "      <td>...</td>\n",
              "      <td>...</td>\n",
              "      <td>...</td>\n",
              "      <td>...</td>\n",
              "      <td>...</td>\n",
              "      <td>...</td>\n",
              "      <td>...</td>\n",
              "      <td>...</td>\n",
              "      <td>...</td>\n",
              "      <td>...</td>\n",
              "      <td>...</td>\n",
              "      <td>...</td>\n",
              "    </tr>\n",
              "    <tr>\n",
              "      <th>2961</th>\n",
              "      <td>2962.0</td>\n",
              "      <td>1.0</td>\n",
              "      <td>1.0</td>\n",
              "      <td>1.0</td>\n",
              "      <td>1.0</td>\n",
              "      <td>1.0</td>\n",
              "      <td>1.0</td>\n",
              "      <td>0.0</td>\n",
              "      <td>0.0</td>\n",
              "      <td>1926.0</td>\n",
              "      <td>11179.0</td>\n",
              "      <td>791.0</td>\n",
              "      <td>9.03</td>\n",
              "      <td>2500000.0</td>\n",
              "      <td>4.0</td>\n",
              "      <td>5.0</td>\n",
              "      <td>0.0</td>\n",
              "    </tr>\n",
              "    <tr>\n",
              "      <th>3079</th>\n",
              "      <td>3080.0</td>\n",
              "      <td>1.0</td>\n",
              "      <td>1.0</td>\n",
              "      <td>1.0</td>\n",
              "      <td>1.0</td>\n",
              "      <td>1.0</td>\n",
              "      <td>1.0</td>\n",
              "      <td>0.0</td>\n",
              "      <td>0.0</td>\n",
              "      <td>3371.0</td>\n",
              "      <td>7739.0</td>\n",
              "      <td>5417.0</td>\n",
              "      <td>20.00</td>\n",
              "      <td>2300000.0</td>\n",
              "      <td>7.0</td>\n",
              "      <td>12.0</td>\n",
              "      <td>2.0</td>\n",
              "    </tr>\n",
              "    <tr>\n",
              "      <th>3080</th>\n",
              "      <td>3081.0</td>\n",
              "      <td>1.0</td>\n",
              "      <td>1.0</td>\n",
              "      <td>1.0</td>\n",
              "      <td>1.0</td>\n",
              "      <td>1.0</td>\n",
              "      <td>1.0</td>\n",
              "      <td>0.0</td>\n",
              "      <td>0.0</td>\n",
              "      <td>3313.0</td>\n",
              "      <td>7648.0</td>\n",
              "      <td>5319.0</td>\n",
              "      <td>20.00</td>\n",
              "      <td>2500000.0</td>\n",
              "      <td>7.0</td>\n",
              "      <td>14.0</td>\n",
              "      <td>2.0</td>\n",
              "    </tr>\n",
              "    <tr>\n",
              "      <th>3265</th>\n",
              "      <td>3266.0</td>\n",
              "      <td>1.0</td>\n",
              "      <td>1.0</td>\n",
              "      <td>1.0</td>\n",
              "      <td>0.0</td>\n",
              "      <td>1.0</td>\n",
              "      <td>1.0</td>\n",
              "      <td>0.0</td>\n",
              "      <td>1.0</td>\n",
              "      <td>2210.0</td>\n",
              "      <td>11298.0</td>\n",
              "      <td>649.0</td>\n",
              "      <td>18.00</td>\n",
              "      <td>3000000.0</td>\n",
              "      <td>1.0</td>\n",
              "      <td>16.0</td>\n",
              "      <td>0.0</td>\n",
              "    </tr>\n",
              "    <tr>\n",
              "      <th>3290</th>\n",
              "      <td>3291.0</td>\n",
              "      <td>1.0</td>\n",
              "      <td>1.0</td>\n",
              "      <td>1.0</td>\n",
              "      <td>1.0</td>\n",
              "      <td>1.0</td>\n",
              "      <td>1.0</td>\n",
              "      <td>0.0</td>\n",
              "      <td>1.0</td>\n",
              "      <td>3393.0</td>\n",
              "      <td>6930.0</td>\n",
              "      <td>3921.0</td>\n",
              "      <td>21.20</td>\n",
              "      <td>2500000.0</td>\n",
              "      <td>1.0</td>\n",
              "      <td>18.0</td>\n",
              "      <td>2.0</td>\n",
              "    </tr>\n",
              "  </tbody>\n",
              "</table>\n",
              "<p>133 rows × 17 columns</p>\n",
              "</div>"
            ],
            "text/plain": [
              "          0    1    2    3    4   ...     12         13    14    15   16\n",
              "8        9.0  1.0  1.0  1.0  1.0  ...  20.00  4000000.0   8.0   4.0  0.0\n",
              "55      56.0  1.0  1.0  1.0  1.0  ...  20.00  3000000.0   2.0   6.0  2.0\n",
              "62      63.0  1.0  1.0  1.0  1.0  ...  36.00  2800000.0  33.0  18.0  2.0\n",
              "69      70.0  1.0  1.0  1.0  1.0  ...  12.00  2500000.0   3.0   7.0  2.0\n",
              "160    161.0  1.0  1.0  1.0  1.0  ...  16.00  4500000.0   6.0  11.0  2.0\n",
              "...      ...  ...  ...  ...  ...  ...    ...        ...   ...   ...  ...\n",
              "2961  2962.0  1.0  1.0  1.0  1.0  ...   9.03  2500000.0   4.0   5.0  0.0\n",
              "3079  3080.0  1.0  1.0  1.0  1.0  ...  20.00  2300000.0   7.0  12.0  2.0\n",
              "3080  3081.0  1.0  1.0  1.0  1.0  ...  20.00  2500000.0   7.0  14.0  2.0\n",
              "3265  3266.0  1.0  1.0  1.0  0.0  ...  18.00  3000000.0   1.0  16.0  0.0\n",
              "3290  3291.0  1.0  1.0  1.0  1.0  ...  21.20  2500000.0   1.0  18.0  2.0\n",
              "\n",
              "[133 rows x 17 columns]"
            ]
          },
          "metadata": {
            "tags": []
          },
          "execution_count": 36
        }
      ]
    },
    {
      "cell_type": "code",
      "metadata": {
        "id": "_noACrVgWXji",
        "colab_type": "code",
        "colab": {
          "base_uri": "https://localhost:8080/",
          "height": 317
        },
        "outputId": "4c41e7a8-0f07-457f-8d13-20537a95ba10"
      },
      "source": [
        "train_df.describe(include='all')"
      ],
      "execution_count": 37,
      "outputs": [
        {
          "output_type": "execute_result",
          "data": {
            "text/html": [
              "<div>\n",
              "<style scoped>\n",
              "    .dataframe tbody tr th:only-of-type {\n",
              "        vertical-align: middle;\n",
              "    }\n",
              "\n",
              "    .dataframe tbody tr th {\n",
              "        vertical-align: top;\n",
              "    }\n",
              "\n",
              "    .dataframe thead th {\n",
              "        text-align: right;\n",
              "    }\n",
              "</style>\n",
              "<table border=\"1\" class=\"dataframe\">\n",
              "  <thead>\n",
              "    <tr style=\"text-align: right;\">\n",
              "      <th></th>\n",
              "      <th>0</th>\n",
              "      <th>1</th>\n",
              "      <th>2</th>\n",
              "      <th>3</th>\n",
              "      <th>4</th>\n",
              "      <th>5</th>\n",
              "      <th>6</th>\n",
              "      <th>7</th>\n",
              "      <th>8</th>\n",
              "      <th>9</th>\n",
              "      <th>10</th>\n",
              "      <th>11</th>\n",
              "      <th>12</th>\n",
              "      <th>13</th>\n",
              "      <th>14</th>\n",
              "      <th>15</th>\n",
              "      <th>16</th>\n",
              "    </tr>\n",
              "  </thead>\n",
              "  <tbody>\n",
              "    <tr>\n",
              "      <th>count</th>\n",
              "      <td>3293.000000</td>\n",
              "      <td>3293.000000</td>\n",
              "      <td>3293.000000</td>\n",
              "      <td>3293.000000</td>\n",
              "      <td>3293.000000</td>\n",
              "      <td>3293.000000</td>\n",
              "      <td>3293.000000</td>\n",
              "      <td>3293.000000</td>\n",
              "      <td>3293.000000</td>\n",
              "      <td>3293.000000</td>\n",
              "      <td>3293.000000</td>\n",
              "      <td>3293.000000</td>\n",
              "      <td>3293.000000</td>\n",
              "      <td>3.293000e+03</td>\n",
              "      <td>3293.000000</td>\n",
              "      <td>3293.000000</td>\n",
              "      <td>3293.000000</td>\n",
              "    </tr>\n",
              "    <tr>\n",
              "      <th>mean</th>\n",
              "      <td>1647.000000</td>\n",
              "      <td>0.261585</td>\n",
              "      <td>0.609748</td>\n",
              "      <td>0.457060</td>\n",
              "      <td>0.562527</td>\n",
              "      <td>0.640389</td>\n",
              "      <td>0.426237</td>\n",
              "      <td>0.004585</td>\n",
              "      <td>0.517522</td>\n",
              "      <td>4672.001367</td>\n",
              "      <td>9917.847586</td>\n",
              "      <td>4898.683207</td>\n",
              "      <td>12.142792</td>\n",
              "      <td>8.987743e+05</td>\n",
              "      <td>10.502733</td>\n",
              "      <td>35.362587</td>\n",
              "      <td>0.660188</td>\n",
              "    </tr>\n",
              "    <tr>\n",
              "      <th>std</th>\n",
              "      <td>950.751545</td>\n",
              "      <td>0.436965</td>\n",
              "      <td>0.484341</td>\n",
              "      <td>0.494511</td>\n",
              "      <td>0.491902</td>\n",
              "      <td>0.475355</td>\n",
              "      <td>0.490707</td>\n",
              "      <td>0.067368</td>\n",
              "      <td>0.495128</td>\n",
              "      <td>3546.146252</td>\n",
              "      <td>4678.764967</td>\n",
              "      <td>3590.154757</td>\n",
              "      <td>4.905552</td>\n",
              "      <td>6.439386e+05</td>\n",
              "      <td>9.480271</td>\n",
              "      <td>47.269615</td>\n",
              "      <td>0.771365</td>\n",
              "    </tr>\n",
              "    <tr>\n",
              "      <th>min</th>\n",
              "      <td>1.000000</td>\n",
              "      <td>0.000000</td>\n",
              "      <td>0.000000</td>\n",
              "      <td>0.000000</td>\n",
              "      <td>0.000000</td>\n",
              "      <td>0.000000</td>\n",
              "      <td>0.000000</td>\n",
              "      <td>0.000000</td>\n",
              "      <td>0.000000</td>\n",
              "      <td>519.000000</td>\n",
              "      <td>168.000000</td>\n",
              "      <td>324.000000</td>\n",
              "      <td>6.000000</td>\n",
              "      <td>1.550000e+05</td>\n",
              "      <td>1.000000</td>\n",
              "      <td>1.000000</td>\n",
              "      <td>0.000000</td>\n",
              "    </tr>\n",
              "    <tr>\n",
              "      <th>25%</th>\n",
              "      <td>824.000000</td>\n",
              "      <td>0.000000</td>\n",
              "      <td>0.000000</td>\n",
              "      <td>0.000000</td>\n",
              "      <td>0.000000</td>\n",
              "      <td>0.000000</td>\n",
              "      <td>0.000000</td>\n",
              "      <td>0.000000</td>\n",
              "      <td>0.000000</td>\n",
              "      <td>2380.000000</td>\n",
              "      <td>7911.000000</td>\n",
              "      <td>2706.000000</td>\n",
              "      <td>9.000000</td>\n",
              "      <td>5.000000e+05</td>\n",
              "      <td>4.000000</td>\n",
              "      <td>8.000000</td>\n",
              "      <td>0.000000</td>\n",
              "    </tr>\n",
              "    <tr>\n",
              "      <th>50%</th>\n",
              "      <td>1647.000000</td>\n",
              "      <td>0.000000</td>\n",
              "      <td>1.000000</td>\n",
              "      <td>0.000000</td>\n",
              "      <td>1.000000</td>\n",
              "      <td>1.000000</td>\n",
              "      <td>0.000000</td>\n",
              "      <td>0.000000</td>\n",
              "      <td>1.000000</td>\n",
              "      <td>3959.000000</td>\n",
              "      <td>9254.000000</td>\n",
              "      <td>3921.000000</td>\n",
              "      <td>12.000000</td>\n",
              "      <td>6.500000e+05</td>\n",
              "      <td>8.000000</td>\n",
              "      <td>20.000000</td>\n",
              "      <td>0.000000</td>\n",
              "    </tr>\n",
              "    <tr>\n",
              "      <th>75%</th>\n",
              "      <td>2470.000000</td>\n",
              "      <td>1.000000</td>\n",
              "      <td>1.000000</td>\n",
              "      <td>1.000000</td>\n",
              "      <td>1.000000</td>\n",
              "      <td>1.000000</td>\n",
              "      <td>1.000000</td>\n",
              "      <td>0.000000</td>\n",
              "      <td>1.000000</td>\n",
              "      <td>5888.000000</td>\n",
              "      <td>12414.000000</td>\n",
              "      <td>6044.000000</td>\n",
              "      <td>12.250000</td>\n",
              "      <td>1.200000e+06</td>\n",
              "      <td>14.000000</td>\n",
              "      <td>44.000000</td>\n",
              "      <td>1.000000</td>\n",
              "    </tr>\n",
              "    <tr>\n",
              "      <th>max</th>\n",
              "      <td>3293.000000</td>\n",
              "      <td>1.000000</td>\n",
              "      <td>1.000000</td>\n",
              "      <td>1.000000</td>\n",
              "      <td>1.000000</td>\n",
              "      <td>1.000000</td>\n",
              "      <td>1.000000</td>\n",
              "      <td>1.000000</td>\n",
              "      <td>1.000000</td>\n",
              "      <td>48675.000000</td>\n",
              "      <td>55105.000000</td>\n",
              "      <td>46517.000000</td>\n",
              "      <td>48.000000</td>\n",
              "      <td>5.000000e+06</td>\n",
              "      <td>121.000000</td>\n",
              "      <td>769.000000</td>\n",
              "      <td>2.000000</td>\n",
              "    </tr>\n",
              "  </tbody>\n",
              "</table>\n",
              "</div>"
            ],
            "text/plain": [
              "                0            1   ...           15           16\n",
              "count  3293.000000  3293.000000  ...  3293.000000  3293.000000\n",
              "mean   1647.000000     0.261585  ...    35.362587     0.660188\n",
              "std     950.751545     0.436965  ...    47.269615     0.771365\n",
              "min       1.000000     0.000000  ...     1.000000     0.000000\n",
              "25%     824.000000     0.000000  ...     8.000000     0.000000\n",
              "50%    1647.000000     0.000000  ...    20.000000     0.000000\n",
              "75%    2470.000000     1.000000  ...    44.000000     1.000000\n",
              "max    3293.000000     1.000000  ...   769.000000     2.000000\n",
              "\n",
              "[8 rows x 17 columns]"
            ]
          },
          "metadata": {
            "tags": []
          },
          "execution_count": 37
        }
      ]
    },
    {
      "cell_type": "code",
      "metadata": {
        "id": "MTFecl2t-k7A",
        "colab_type": "code",
        "outputId": "5d68f9b8-de3b-4586-cc3d-a7d0f60b9d5a",
        "colab": {
          "base_uri": "https://localhost:8080/",
          "height": 922
        }
      },
      "source": [
        "plt.figure(figsize = (16,16))\n",
        "ax = sns.heatmap(train_df.corr(), annot=True, linewidths=.5)"
      ],
      "execution_count": 38,
      "outputs": [
        {
          "output_type": "display_data",
          "data": {
            "image/png": "[encoded data removed]",
            "text/plain": [
              "<Figure size 1152x1152 with 2 Axes>"
            ]
          },
          "metadata": {
            "tags": []
          }
        }
      ]
    },
    {
      "cell_type": "code",
      "metadata": {
        "id": "b7oBtoQ0St8H",
        "colab_type": "code",
        "colab": {}
      },
      "source": [
        "train_features = train_df.loc[:,1:15]\n",
        "y = train_df.loc[:,16:] # train_label"
      ],
      "execution_count": 0,
      "outputs": []
    },
    {
      "cell_type": "code",
      "metadata": {
        "id": "9AnWlUcoXIyI",
        "colab_type": "code",
        "colab": {
          "base_uri": "https://localhost:8080/",
          "height": 419
        },
        "outputId": "b72ea457-a5ec-42dd-ca4e-010a1d6a0d19"
      },
      "source": [
        "train_features"
      ],
      "execution_count": 40,
      "outputs": [
        {
          "output_type": "execute_result",
          "data": {
            "text/html": [
              "<div>\n",
              "<style scoped>\n",
              "    .dataframe tbody tr th:only-of-type {\n",
              "        vertical-align: middle;\n",
              "    }\n",
              "\n",
              "    .dataframe tbody tr th {\n",
              "        vertical-align: top;\n",
              "    }\n",
              "\n",
              "    .dataframe thead th {\n",
              "        text-align: right;\n",
              "    }\n",
              "</style>\n",
              "<table border=\"1\" class=\"dataframe\">\n",
              "  <thead>\n",
              "    <tr style=\"text-align: right;\">\n",
              "      <th></th>\n",
              "      <th>1</th>\n",
              "      <th>2</th>\n",
              "      <th>3</th>\n",
              "      <th>4</th>\n",
              "      <th>5</th>\n",
              "      <th>6</th>\n",
              "      <th>7</th>\n",
              "      <th>8</th>\n",
              "      <th>9</th>\n",
              "      <th>10</th>\n",
              "      <th>11</th>\n",
              "      <th>12</th>\n",
              "      <th>13</th>\n",
              "      <th>14</th>\n",
              "      <th>15</th>\n",
              "    </tr>\n",
              "  </thead>\n",
              "  <tbody>\n",
              "    <tr>\n",
              "      <th>0</th>\n",
              "      <td>1.0</td>\n",
              "      <td>1.0</td>\n",
              "      <td>1.0</td>\n",
              "      <td>1.0</td>\n",
              "      <td>1.0</td>\n",
              "      <td>1.0</td>\n",
              "      <td>0.0</td>\n",
              "      <td>1.0</td>\n",
              "      <td>1778.0</td>\n",
              "      <td>10038.0</td>\n",
              "      <td>4106.0</td>\n",
              "      <td>9.0000</td>\n",
              "      <td>1500000.0</td>\n",
              "      <td>6.0</td>\n",
              "      <td>72.0</td>\n",
              "    </tr>\n",
              "    <tr>\n",
              "      <th>1</th>\n",
              "      <td>1.0</td>\n",
              "      <td>1.0</td>\n",
              "      <td>0.0</td>\n",
              "      <td>1.0</td>\n",
              "      <td>1.0</td>\n",
              "      <td>1.0</td>\n",
              "      <td>0.0</td>\n",
              "      <td>0.7</td>\n",
              "      <td>4548.0</td>\n",
              "      <td>9332.0</td>\n",
              "      <td>6867.0</td>\n",
              "      <td>12.0000</td>\n",
              "      <td>1500000.0</td>\n",
              "      <td>30.0</td>\n",
              "      <td>56.0</td>\n",
              "    </tr>\n",
              "    <tr>\n",
              "      <th>2</th>\n",
              "      <td>1.0</td>\n",
              "      <td>0.7</td>\n",
              "      <td>1.0</td>\n",
              "      <td>1.0</td>\n",
              "      <td>1.0</td>\n",
              "      <td>1.0</td>\n",
              "      <td>0.0</td>\n",
              "      <td>1.0</td>\n",
              "      <td>5174.0</td>\n",
              "      <td>9021.0</td>\n",
              "      <td>3693.0</td>\n",
              "      <td>12.0000</td>\n",
              "      <td>1600000.0</td>\n",
              "      <td>20.0</td>\n",
              "      <td>109.0</td>\n",
              "    </tr>\n",
              "    <tr>\n",
              "      <th>3</th>\n",
              "      <td>1.0</td>\n",
              "      <td>1.0</td>\n",
              "      <td>1.0</td>\n",
              "      <td>1.0</td>\n",
              "      <td>1.0</td>\n",
              "      <td>1.0</td>\n",
              "      <td>0.0</td>\n",
              "      <td>0.0</td>\n",
              "      <td>1490.0</td>\n",
              "      <td>8954.0</td>\n",
              "      <td>2139.0</td>\n",
              "      <td>8.2500</td>\n",
              "      <td>1500000.0</td>\n",
              "      <td>15.0</td>\n",
              "      <td>54.0</td>\n",
              "    </tr>\n",
              "    <tr>\n",
              "      <th>4</th>\n",
              "      <td>1.0</td>\n",
              "      <td>1.0</td>\n",
              "      <td>0.0</td>\n",
              "      <td>1.0</td>\n",
              "      <td>1.0</td>\n",
              "      <td>1.0</td>\n",
              "      <td>0.0</td>\n",
              "      <td>1.0</td>\n",
              "      <td>1688.0</td>\n",
              "      <td>8851.0</td>\n",
              "      <td>2145.0</td>\n",
              "      <td>14.8500</td>\n",
              "      <td>2100000.0</td>\n",
              "      <td>10.0</td>\n",
              "      <td>19.0</td>\n",
              "    </tr>\n",
              "    <tr>\n",
              "      <th>...</th>\n",
              "      <td>...</td>\n",
              "      <td>...</td>\n",
              "      <td>...</td>\n",
              "      <td>...</td>\n",
              "      <td>...</td>\n",
              "      <td>...</td>\n",
              "      <td>...</td>\n",
              "      <td>...</td>\n",
              "      <td>...</td>\n",
              "      <td>...</td>\n",
              "      <td>...</td>\n",
              "      <td>...</td>\n",
              "      <td>...</td>\n",
              "      <td>...</td>\n",
              "      <td>...</td>\n",
              "    </tr>\n",
              "    <tr>\n",
              "      <th>3288</th>\n",
              "      <td>1.0</td>\n",
              "      <td>1.0</td>\n",
              "      <td>1.0</td>\n",
              "      <td>1.0</td>\n",
              "      <td>1.0</td>\n",
              "      <td>1.0</td>\n",
              "      <td>0.0</td>\n",
              "      <td>1.0</td>\n",
              "      <td>3393.0</td>\n",
              "      <td>6930.0</td>\n",
              "      <td>3921.0</td>\n",
              "      <td>10.5000</td>\n",
              "      <td>1600000.0</td>\n",
              "      <td>11.0</td>\n",
              "      <td>21.0</td>\n",
              "    </tr>\n",
              "    <tr>\n",
              "      <th>3289</th>\n",
              "      <td>1.0</td>\n",
              "      <td>1.0</td>\n",
              "      <td>1.0</td>\n",
              "      <td>1.0</td>\n",
              "      <td>1.0</td>\n",
              "      <td>1.0</td>\n",
              "      <td>0.0</td>\n",
              "      <td>1.0</td>\n",
              "      <td>3393.0</td>\n",
              "      <td>6930.0</td>\n",
              "      <td>3921.0</td>\n",
              "      <td>18.9600</td>\n",
              "      <td>2200000.0</td>\n",
              "      <td>2.0</td>\n",
              "      <td>1.0</td>\n",
              "    </tr>\n",
              "    <tr>\n",
              "      <th>3290</th>\n",
              "      <td>1.0</td>\n",
              "      <td>1.0</td>\n",
              "      <td>1.0</td>\n",
              "      <td>1.0</td>\n",
              "      <td>1.0</td>\n",
              "      <td>1.0</td>\n",
              "      <td>0.0</td>\n",
              "      <td>1.0</td>\n",
              "      <td>3393.0</td>\n",
              "      <td>6930.0</td>\n",
              "      <td>3921.0</td>\n",
              "      <td>21.2000</td>\n",
              "      <td>2500000.0</td>\n",
              "      <td>1.0</td>\n",
              "      <td>18.0</td>\n",
              "    </tr>\n",
              "    <tr>\n",
              "      <th>3291</th>\n",
              "      <td>0.0</td>\n",
              "      <td>0.0</td>\n",
              "      <td>1.0</td>\n",
              "      <td>0.0</td>\n",
              "      <td>1.0</td>\n",
              "      <td>0.0</td>\n",
              "      <td>0.0</td>\n",
              "      <td>0.0</td>\n",
              "      <td>1669.0</td>\n",
              "      <td>10065.0</td>\n",
              "      <td>3994.0</td>\n",
              "      <td>10.5625</td>\n",
              "      <td>400000.0</td>\n",
              "      <td>21.0</td>\n",
              "      <td>181.0</td>\n",
              "    </tr>\n",
              "    <tr>\n",
              "      <th>3292</th>\n",
              "      <td>0.0</td>\n",
              "      <td>0.0</td>\n",
              "      <td>0.0</td>\n",
              "      <td>0.0</td>\n",
              "      <td>0.0</td>\n",
              "      <td>0.0</td>\n",
              "      <td>0.0</td>\n",
              "      <td>1.0</td>\n",
              "      <td>2634.0</td>\n",
              "      <td>8854.0</td>\n",
              "      <td>2007.0</td>\n",
              "      <td>9.0000</td>\n",
              "      <td>450000.0</td>\n",
              "      <td>10.0</td>\n",
              "      <td>6.0</td>\n",
              "    </tr>\n",
              "  </tbody>\n",
              "</table>\n",
              "<p>3293 rows × 15 columns</p>\n",
              "</div>"
            ],
            "text/plain": [
              "       1    2    3    4    5   ...      11       12         13    14     15\n",
              "0     1.0  1.0  1.0  1.0  1.0  ...  4106.0   9.0000  1500000.0   6.0   72.0\n",
              "1     1.0  1.0  0.0  1.0  1.0  ...  6867.0  12.0000  1500000.0  30.0   56.0\n",
              "2     1.0  0.7  1.0  1.0  1.0  ...  3693.0  12.0000  1600000.0  20.0  109.0\n",
              "3     1.0  1.0  1.0  1.0  1.0  ...  2139.0   8.2500  1500000.0  15.0   54.0\n",
              "4     1.0  1.0  0.0  1.0  1.0  ...  2145.0  14.8500  2100000.0  10.0   19.0\n",
              "...   ...  ...  ...  ...  ...  ...     ...      ...        ...   ...    ...\n",
              "3288  1.0  1.0  1.0  1.0  1.0  ...  3921.0  10.5000  1600000.0  11.0   21.0\n",
              "3289  1.0  1.0  1.0  1.0  1.0  ...  3921.0  18.9600  2200000.0   2.0    1.0\n",
              "3290  1.0  1.0  1.0  1.0  1.0  ...  3921.0  21.2000  2500000.0   1.0   18.0\n",
              "3291  0.0  0.0  1.0  0.0  1.0  ...  3994.0  10.5625   400000.0  21.0  181.0\n",
              "3292  0.0  0.0  0.0  0.0  0.0  ...  2007.0   9.0000   450000.0  10.0    6.0\n",
              "\n",
              "[3293 rows x 15 columns]"
            ]
          },
          "metadata": {
            "tags": []
          },
          "execution_count": 40
        }
      ]
    },
    {
      "cell_type": "code",
      "metadata": {
        "id": "RMc-LzePAnak",
        "colab_type": "code",
        "colab": {}
      },
      "source": [
        "# from sklearn.preprocessing import StandardScaler\n",
        "# sc = StandardScaler()\n",
        "# X = sc.fit_transform(train_features)\n",
        "# X"
      ],
      "execution_count": 0,
      "outputs": []
    },
    {
      "cell_type": "code",
      "metadata": {
        "id": "bhVjHhxeSuHM",
        "colab_type": "code",
        "colab": {
          "base_uri": "https://localhost:8080/",
          "height": 34
        },
        "outputId": "bec3f0e5-d273-44b2-a370-3bdefd4b33f6"
      },
      "source": [
        "X_train, X_val_and_test, y_train, y_val_and_test = train_test_split(train_features, y, test_size=0.2)\n",
        "X_val, X_test, y_val, y_test = train_test_split(X_val_and_test, y_val_and_test, test_size=0.5)\n",
        "print(X_train.shape, X_val.shape, X_test.shape, y_train.shape, y_val.shape, y_test.shape)"
      ],
      "execution_count": 42,
      "outputs": [
        {
          "output_type": "stream",
          "text": [
            "(2634, 15) (329, 15) (330, 15) (2634, 1) (329, 1) (330, 1)\n"
          ],
          "name": "stdout"
        }
      ]
    },
    {
      "cell_type": "code",
      "metadata": {
        "id": "pJ2xc2R9A-cy",
        "colab_type": "code",
        "colab": {}
      },
      "source": [
        "# from keras import Sequential\n",
        "# from keras.layers import Dense\n",
        "\n",
        "classifier = Sequential()\n",
        "#First Hidden Layer\n",
        "classifier.add(Dense(4, activation='relu', kernel_initializer='random_normal', input_dim=15))\n",
        "#Second  Hidden Layer\n",
        "classifier.add(Dense(4, activation='relu', kernel_initializer='random_normal'))\n",
        "#Output Layer\n",
        "classifier.add(Dense(1, activation='sigmoid', kernel_initializer='random_normal'))"
      ],
      "execution_count": 0,
      "outputs": []
    },
    {
      "cell_type": "code",
      "metadata": {
        "id": "xJWh0XZDCmMF",
        "colab_type": "code",
        "colab": {}
      },
      "source": [
        "classifier.compile(optimizer ='adam',loss='categorical_crossentropy', metrics =['accuracy'])"
      ],
      "execution_count": 0,
      "outputs": []
    },
    {
      "cell_type": "code",
      "metadata": {
        "id": "7fkl1ARxCu7s",
        "colab_type": "code",
        "outputId": "1cf7c569-9b15-4fdb-fc8e-3fd5fd803f09",
        "colab": {
          "base_uri": "https://localhost:8080/",
          "height": 1000
        }
      },
      "source": [
        "history = classifier.fit(X_train,y_train, batch_size=10, epochs=100, validation_data=(X_val, y_val))"
      ],
      "execution_count": 51,
      "outputs": [
        {
          "output_type": "stream",
          "text": [
            "Epoch 1/100\n",
            "264/264 [==============================] - 0s 1ms/step - loss: nan - accuracy: 0.5251 - val_loss: nan - val_accuracy: 0.5258\n",
            "Epoch 2/100\n",
            "264/264 [==============================] - 0s 1ms/step - loss: nan - accuracy: 0.5251 - val_loss: nan - val_accuracy: 0.5258\n",
            "Epoch 3/100\n",
            "264/264 [==============================] - 0s 2ms/step - loss: nan - accuracy: 0.5251 - val_loss: nan - val_accuracy: 0.5258\n",
            "Epoch 4/100\n",
            "264/264 [==============================] - 0s 1ms/step - loss: nan - accuracy: 0.5251 - val_loss: nan - val_accuracy: 0.5258\n",
            "Epoch 5/100\n",
            "264/264 [==============================] - 0s 1ms/step - loss: nan - accuracy: 0.5251 - val_loss: nan - val_accuracy: 0.5258\n",
            "Epoch 6/100\n",
            "264/264 [==============================] - 0s 1ms/step - loss: nan - accuracy: 0.5251 - val_loss: nan - val_accuracy: 0.5258\n",
            "Epoch 7/100\n",
            "264/264 [==============================] - 0s 1ms/step - loss: nan - accuracy: 0.5251 - val_loss: nan - val_accuracy: 0.5258\n",
            "Epoch 8/100\n",
            "264/264 [==============================] - 0s 1ms/step - loss: nan - accuracy: 0.5251 - val_loss: nan - val_accuracy: 0.5258\n",
            "Epoch 9/100\n",
            "264/264 [==============================] - 0s 1ms/step - loss: nan - accuracy: 0.5251 - val_loss: nan - val_accuracy: 0.5258\n",
            "Epoch 10/100\n",
            "264/264 [==============================] - 0s 1ms/step - loss: nan - accuracy: 0.5251 - val_loss: nan - val_accuracy: 0.5258\n",
            "Epoch 11/100\n",
            "264/264 [==============================] - 0s 1ms/step - loss: nan - accuracy: 0.5251 - val_loss: nan - val_accuracy: 0.5258\n",
            "Epoch 12/100\n",
            "264/264 [==============================] - 0s 1ms/step - loss: nan - accuracy: 0.5251 - val_loss: nan - val_accuracy: 0.5258\n",
            "Epoch 13/100\n",
            "264/264 [==============================] - 0s 2ms/step - loss: nan - accuracy: 0.5251 - val_loss: nan - val_accuracy: 0.5258\n",
            "Epoch 14/100\n",
            "264/264 [==============================] - 0s 1ms/step - loss: nan - accuracy: 0.5251 - val_loss: nan - val_accuracy: 0.5258\n",
            "Epoch 15/100\n",
            "264/264 [==============================] - 0s 1ms/step - loss: nan - accuracy: 0.5251 - val_loss: nan - val_accuracy: 0.5258\n",
            "Epoch 16/100\n",
            "264/264 [==============================] - 0s 1ms/step - loss: nan - accuracy: 0.5251 - val_loss: nan - val_accuracy: 0.5258\n",
            "Epoch 17/100\n",
            "264/264 [==============================] - 0s 1ms/step - loss: nan - accuracy: 0.5251 - val_loss: nan - val_accuracy: 0.5258\n",
            "Epoch 18/100\n",
            "264/264 [==============================] - 0s 1ms/step - loss: nan - accuracy: 0.5251 - val_loss: nan - val_accuracy: 0.5258\n",
            "Epoch 19/100\n",
            "264/264 [==============================] - 0s 2ms/step - loss: nan - accuracy: 0.5251 - val_loss: nan - val_accuracy: 0.5258\n",
            "Epoch 20/100\n",
            "264/264 [==============================] - 0s 1ms/step - loss: nan - accuracy: 0.5251 - val_loss: nan - val_accuracy: 0.5258\n",
            "Epoch 21/100\n",
            "264/264 [==============================] - 0s 2ms/step - loss: nan - accuracy: 0.5251 - val_loss: nan - val_accuracy: 0.5258\n",
            "Epoch 22/100\n",
            "264/264 [==============================] - 0s 1ms/step - loss: nan - accuracy: 0.5251 - val_loss: nan - val_accuracy: 0.5258\n",
            "Epoch 23/100\n",
            "264/264 [==============================] - 0s 1ms/step - loss: nan - accuracy: 0.5251 - val_loss: nan - val_accuracy: 0.5258\n",
            "Epoch 24/100\n",
            "264/264 [==============================] - 0s 1ms/step - loss: nan - accuracy: 0.5251 - val_loss: nan - val_accuracy: 0.5258\n",
            "Epoch 25/100\n",
            "264/264 [==============================] - 0s 2ms/step - loss: nan - accuracy: 0.5251 - val_loss: nan - val_accuracy: 0.5258\n",
            "Epoch 26/100\n",
            "264/264 [==============================] - 0s 1ms/step - loss: nan - accuracy: 0.5251 - val_loss: nan - val_accuracy: 0.5258\n",
            "Epoch 27/100\n",
            "264/264 [==============================] - 0s 1ms/step - loss: nan - accuracy: 0.5251 - val_loss: nan - val_accuracy: 0.5258\n",
            "Epoch 28/100\n",
            "264/264 [==============================] - 0s 2ms/step - loss: nan - accuracy: 0.5251 - val_loss: nan - val_accuracy: 0.5258\n",
            "Epoch 29/100\n",
            "264/264 [==============================] - 0s 1ms/step - loss: nan - accuracy: 0.5251 - val_loss: nan - val_accuracy: 0.5258\n",
            "Epoch 30/100\n",
            "264/264 [==============================] - 0s 1ms/step - loss: nan - accuracy: 0.5251 - val_loss: nan - val_accuracy: 0.5258\n",
            "Epoch 31/100\n",
            "264/264 [==============================] - 0s 1ms/step - loss: nan - accuracy: 0.5251 - val_loss: nan - val_accuracy: 0.5258\n",
            "Epoch 32/100\n",
            "264/264 [==============================] - 0s 1ms/step - loss: nan - accuracy: 0.5251 - val_loss: nan - val_accuracy: 0.5258\n",
            "Epoch 33/100\n",
            "264/264 [==============================] - 0s 2ms/step - loss: nan - accuracy: 0.5251 - val_loss: nan - val_accuracy: 0.5258\n",
            "Epoch 34/100\n",
            "264/264 [==============================] - 0s 1ms/step - loss: nan - accuracy: 0.5251 - val_loss: nan - val_accuracy: 0.5258\n",
            "Epoch 35/100\n",
            "264/264 [==============================] - 0s 1ms/step - loss: nan - accuracy: 0.5251 - val_loss: nan - val_accuracy: 0.5258\n",
            "Epoch 36/100\n",
            "264/264 [==============================] - 0s 2ms/step - loss: nan - accuracy: 0.5251 - val_loss: nan - val_accuracy: 0.5258\n",
            "Epoch 37/100\n",
            "264/264 [==============================] - 0s 1ms/step - loss: nan - accuracy: 0.5251 - val_loss: nan - val_accuracy: 0.5258\n",
            "Epoch 38/100\n",
            "264/264 [==============================] - 0s 1ms/step - loss: nan - accuracy: 0.5251 - val_loss: nan - val_accuracy: 0.5258\n",
            "Epoch 39/100\n",
            "264/264 [==============================] - 0s 1ms/step - loss: nan - accuracy: 0.5251 - val_loss: nan - val_accuracy: 0.5258\n",
            "Epoch 40/100\n",
            "264/264 [==============================] - 0s 1ms/step - loss: nan - accuracy: 0.5251 - val_loss: nan - val_accuracy: 0.5258\n",
            "Epoch 41/100\n",
            "264/264 [==============================] - 0s 1ms/step - loss: nan - accuracy: 0.5251 - val_loss: nan - val_accuracy: 0.5258\n",
            "Epoch 42/100\n",
            "264/264 [==============================] - 0s 1ms/step - loss: nan - accuracy: 0.5251 - val_loss: nan - val_accuracy: 0.5258\n",
            "Epoch 43/100\n",
            "264/264 [==============================] - 0s 2ms/step - loss: nan - accuracy: 0.5251 - val_loss: nan - val_accuracy: 0.5258\n",
            "Epoch 44/100\n",
            "264/264 [==============================] - 0s 1ms/step - loss: nan - accuracy: 0.5251 - val_loss: nan - val_accuracy: 0.5258\n",
            "Epoch 45/100\n",
            "264/264 [==============================] - 0s 1ms/step - loss: nan - accuracy: 0.5251 - val_loss: nan - val_accuracy: 0.5258\n",
            "Epoch 46/100\n",
            "264/264 [==============================] - 0s 2ms/step - loss: nan - accuracy: 0.5251 - val_loss: nan - val_accuracy: 0.5258\n",
            "Epoch 47/100\n",
            "264/264 [==============================] - 0s 1ms/step - loss: nan - accuracy: 0.5251 - val_loss: nan - val_accuracy: 0.5258\n",
            "Epoch 48/100\n",
            "264/264 [==============================] - 0s 1ms/step - loss: nan - accuracy: 0.5251 - val_loss: nan - val_accuracy: 0.5258\n",
            "Epoch 49/100\n",
            "264/264 [==============================] - 0s 2ms/step - loss: nan - accuracy: 0.5251 - val_loss: nan - val_accuracy: 0.5258\n",
            "Epoch 50/100\n",
            "264/264 [==============================] - 0s 1ms/step - loss: nan - accuracy: 0.5251 - val_loss: nan - val_accuracy: 0.5258\n",
            "Epoch 51/100\n",
            "264/264 [==============================] - 0s 2ms/step - loss: nan - accuracy: 0.5251 - val_loss: nan - val_accuracy: 0.5258\n",
            "Epoch 52/100\n",
            "264/264 [==============================] - 0s 1ms/step - loss: nan - accuracy: 0.5251 - val_loss: nan - val_accuracy: 0.5258\n",
            "Epoch 53/100\n",
            "264/264 [==============================] - 0s 1ms/step - loss: nan - accuracy: 0.5251 - val_loss: nan - val_accuracy: 0.5258\n",
            "Epoch 54/100\n",
            "264/264 [==============================] - 0s 2ms/step - loss: nan - accuracy: 0.5251 - val_loss: nan - val_accuracy: 0.5258\n",
            "Epoch 55/100\n",
            "264/264 [==============================] - 0s 1ms/step - loss: nan - accuracy: 0.5251 - val_loss: nan - val_accuracy: 0.5258\n",
            "Epoch 56/100\n",
            "264/264 [==============================] - 0s 2ms/step - loss: nan - accuracy: 0.5251 - val_loss: nan - val_accuracy: 0.5258\n",
            "Epoch 57/100\n",
            "264/264 [==============================] - 0s 1ms/step - loss: nan - accuracy: 0.5251 - val_loss: nan - val_accuracy: 0.5258\n",
            "Epoch 58/100\n",
            "264/264 [==============================] - 0s 2ms/step - loss: nan - accuracy: 0.5251 - val_loss: nan - val_accuracy: 0.5258\n",
            "Epoch 59/100\n",
            "264/264 [==============================] - 0s 1ms/step - loss: nan - accuracy: 0.5251 - val_loss: nan - val_accuracy: 0.5258\n",
            "Epoch 60/100\n",
            "264/264 [==============================] - 0s 1ms/step - loss: nan - accuracy: 0.5251 - val_loss: nan - val_accuracy: 0.5258\n",
            "Epoch 61/100\n",
            "264/264 [==============================] - 0s 2ms/step - loss: nan - accuracy: 0.5251 - val_loss: nan - val_accuracy: 0.5258\n",
            "Epoch 62/100\n",
            "264/264 [==============================] - 0s 1ms/step - loss: nan - accuracy: 0.5251 - val_loss: nan - val_accuracy: 0.5258\n",
            "Epoch 63/100\n",
            "264/264 [==============================] - 0s 1ms/step - loss: nan - accuracy: 0.5251 - val_loss: nan - val_accuracy: 0.5258\n",
            "Epoch 64/100\n",
            "264/264 [==============================] - 0s 2ms/step - loss: nan - accuracy: 0.5251 - val_loss: nan - val_accuracy: 0.5258\n",
            "Epoch 65/100\n",
            "264/264 [==============================] - 0s 1ms/step - loss: nan - accuracy: 0.5251 - val_loss: nan - val_accuracy: 0.5258\n",
            "Epoch 66/100\n",
            "264/264 [==============================] - 0s 1ms/step - loss: nan - accuracy: 0.5251 - val_loss: nan - val_accuracy: 0.5258\n",
            "Epoch 67/100\n",
            "264/264 [==============================] - 0s 1ms/step - loss: nan - accuracy: 0.5251 - val_loss: nan - val_accuracy: 0.5258\n",
            "Epoch 68/100\n",
            "264/264 [==============================] - 0s 1ms/step - loss: nan - accuracy: 0.5251 - val_loss: nan - val_accuracy: 0.5258\n",
            "Epoch 69/100\n",
            "264/264 [==============================] - 0s 1ms/step - loss: nan - accuracy: 0.5251 - val_loss: nan - val_accuracy: 0.5258\n",
            "Epoch 70/100\n",
            "264/264 [==============================] - 0s 1ms/step - loss: nan - accuracy: 0.5251 - val_loss: nan - val_accuracy: 0.5258\n",
            "Epoch 71/100\n",
            "264/264 [==============================] - 0s 2ms/step - loss: nan - accuracy: 0.5251 - val_loss: nan - val_accuracy: 0.5258\n",
            "Epoch 72/100\n",
            "264/264 [==============================] - 0s 1ms/step - loss: nan - accuracy: 0.5251 - val_loss: nan - val_accuracy: 0.5258\n",
            "Epoch 73/100\n",
            "264/264 [==============================] - 0s 2ms/step - loss: nan - accuracy: 0.5251 - val_loss: nan - val_accuracy: 0.5258\n",
            "Epoch 74/100\n",
            "264/264 [==============================] - 0s 2ms/step - loss: nan - accuracy: 0.5251 - val_loss: nan - val_accuracy: 0.5258\n",
            "Epoch 75/100\n",
            "264/264 [==============================] - 0s 1ms/step - loss: nan - accuracy: 0.5251 - val_loss: nan - val_accuracy: 0.5258\n",
            "Epoch 76/100\n",
            "264/264 [==============================] - 0s 1ms/step - loss: nan - accuracy: 0.5251 - val_loss: nan - val_accuracy: 0.5258\n",
            "Epoch 77/100\n",
            "264/264 [==============================] - 0s 1ms/step - loss: nan - accuracy: 0.5251 - val_loss: nan - val_accuracy: 0.5258\n",
            "Epoch 78/100\n",
            "264/264 [==============================] - 0s 1ms/step - loss: nan - accuracy: 0.5251 - val_loss: nan - val_accuracy: 0.5258\n",
            "Epoch 79/100\n",
            "264/264 [==============================] - 0s 2ms/step - loss: nan - accuracy: 0.5251 - val_loss: nan - val_accuracy: 0.5258\n",
            "Epoch 80/100\n",
            "264/264 [==============================] - 0s 1ms/step - loss: nan - accuracy: 0.5251 - val_loss: nan - val_accuracy: 0.5258\n",
            "Epoch 81/100\n",
            "264/264 [==============================] - 0s 1ms/step - loss: nan - accuracy: 0.5251 - val_loss: nan - val_accuracy: 0.5258\n",
            "Epoch 82/100\n",
            "264/264 [==============================] - 0s 1ms/step - loss: nan - accuracy: 0.5251 - val_loss: nan - val_accuracy: 0.5258\n",
            "Epoch 83/100\n",
            "264/264 [==============================] - 0s 1ms/step - loss: nan - accuracy: 0.5251 - val_loss: nan - val_accuracy: 0.5258\n",
            "Epoch 84/100\n",
            "264/264 [==============================] - 0s 2ms/step - loss: nan - accuracy: 0.5251 - val_loss: nan - val_accuracy: 0.5258\n",
            "Epoch 85/100\n",
            "264/264 [==============================] - 0s 1ms/step - loss: nan - accuracy: 0.5251 - val_loss: nan - val_accuracy: 0.5258\n",
            "Epoch 86/100\n",
            "264/264 [==============================] - 0s 1ms/step - loss: nan - accuracy: 0.5251 - val_loss: nan - val_accuracy: 0.5258\n",
            "Epoch 87/100\n",
            "264/264 [==============================] - 0s 2ms/step - loss: nan - accuracy: 0.5251 - val_loss: nan - val_accuracy: 0.5258\n",
            "Epoch 88/100\n",
            "264/264 [==============================] - 0s 1ms/step - loss: nan - accuracy: 0.5251 - val_loss: nan - val_accuracy: 0.5258\n",
            "Epoch 89/100\n",
            "264/264 [==============================] - 0s 2ms/step - loss: nan - accuracy: 0.5251 - val_loss: nan - val_accuracy: 0.5258\n",
            "Epoch 90/100\n",
            "264/264 [==============================] - 0s 1ms/step - loss: nan - accuracy: 0.5251 - val_loss: nan - val_accuracy: 0.5258\n",
            "Epoch 91/100\n",
            "264/264 [==============================] - 0s 1ms/step - loss: nan - accuracy: 0.5251 - val_loss: nan - val_accuracy: 0.5258\n",
            "Epoch 92/100\n",
            "264/264 [==============================] - 0s 1ms/step - loss: nan - accuracy: 0.5251 - val_loss: nan - val_accuracy: 0.5258\n",
            "Epoch 93/100\n",
            "264/264 [==============================] - 0s 1ms/step - loss: nan - accuracy: 0.5251 - val_loss: nan - val_accuracy: 0.5258\n",
            "Epoch 94/100\n",
            "264/264 [==============================] - 0s 2ms/step - loss: nan - accuracy: 0.5251 - val_loss: nan - val_accuracy: 0.5258\n",
            "Epoch 95/100\n",
            "264/264 [==============================] - 0s 1ms/step - loss: nan - accuracy: 0.5251 - val_loss: nan - val_accuracy: 0.5258\n",
            "Epoch 96/100\n",
            "264/264 [==============================] - 0s 1ms/step - loss: nan - accuracy: 0.5251 - val_loss: nan - val_accuracy: 0.5258\n",
            "Epoch 97/100\n",
            "264/264 [==============================] - 0s 2ms/step - loss: nan - accuracy: 0.5251 - val_loss: nan - val_accuracy: 0.5258\n",
            "Epoch 98/100\n",
            "264/264 [==============================] - 0s 1ms/step - loss: nan - accuracy: 0.5251 - val_loss: nan - val_accuracy: 0.5258\n",
            "Epoch 99/100\n",
            "264/264 [==============================] - 0s 2ms/step - loss: nan - accuracy: 0.5251 - val_loss: nan - val_accuracy: 0.5258\n",
            "Epoch 100/100\n",
            "264/264 [==============================] - 0s 2ms/step - loss: nan - accuracy: 0.5251 - val_loss: nan - val_accuracy: 0.5258\n"
          ],
          "name": "stdout"
        }
      ]
    },
    {
      "cell_type": "code",
      "metadata": {
        "id": "1sWGCCVADqeH",
        "colab_type": "code",
        "outputId": "70351e46-eb6b-4f1a-e15a-6cc085048697",
        "colab": {
          "base_uri": "https://localhost:8080/",
          "height": 51
        }
      },
      "source": [
        "eval_model=classifier.evaluate(X_train, y_train)\n",
        "eval_model"
      ],
      "execution_count": 52,
      "outputs": [
        {
          "output_type": "stream",
          "text": [
            "83/83 [==============================] - 0s 1ms/step - loss: nan - accuracy: 0.5251\n"
          ],
          "name": "stdout"
        },
        {
          "output_type": "execute_result",
          "data": {
            "text/plain": [
              "[nan, 0.5250569581985474]"
            ]
          },
          "metadata": {
            "tags": []
          },
          "execution_count": 52
        }
      ]
    },
    {
      "cell_type": "code",
      "metadata": {
        "id": "eK9tJaYCD-Fm",
        "colab_type": "code",
        "colab": {
          "base_uri": "https://localhost:8080/",
          "height": 51
        },
        "outputId": "84505bbe-8f4f-4549-dcee-9b208616eec4"
      },
      "source": [
        "classifier.evaluate(X_test, y_test)[1]"
      ],
      "execution_count": 53,
      "outputs": [
        {
          "output_type": "stream",
          "text": [
            "11/11 [==============================] - 0s 1ms/step - loss: nan - accuracy: 0.5242\n"
          ],
          "name": "stdout"
        },
        {
          "output_type": "execute_result",
          "data": {
            "text/plain": [
              "0.5242424011230469"
            ]
          },
          "metadata": {
            "tags": []
          },
          "execution_count": 53
        }
      ]
    },
    {
      "cell_type": "code",
      "metadata": {
        "id": "07t6ZLrsXt_j",
        "colab_type": "code",
        "colab": {
          "base_uri": "https://localhost:8080/",
          "height": 295
        },
        "outputId": "188ded4d-9729-4f5f-eecd-10aaebd1e686"
      },
      "source": [
        "plt.plot(history.history['loss'])\n",
        "plt.plot(history.history['val_loss'])\n",
        "plt.title('Model loss')\n",
        "plt.ylabel('Loss')\n",
        "plt.xlabel('Epoch')\n",
        "plt.legend(['Train', 'Val'], loc='upper right')\n",
        "plt.show()"
      ],
      "execution_count": 54,
      "outputs": [
        {
          "output_type": "display_data",
          "data": {
            "image/png": "[encoded data removed]",
            "text/plain": [
              "<Figure size 432x288 with 1 Axes>"
            ]
          },
          "metadata": {
            "tags": []
          }
        }
      ]
    },
    {
      "cell_type": "code",
      "metadata": {
        "id": "nCJd0LSHZUF3",
        "colab_type": "code",
        "colab": {
          "base_uri": "https://localhost:8080/",
          "height": 295
        },
        "outputId": "4835ba27-1868-4286-cd99-ca20566bc862"
      },
      "source": [
        "plt.plot(history.history['accuracy'])\n",
        "plt.plot(history.history['val_accuracy'])\n",
        "plt.title('Model accuracy')\n",
        "plt.ylabel('Accuracy')\n",
        "plt.xlabel('Epoch')\n",
        "plt.legend(['Train', 'Val'], loc='lower right')\n",
        "plt.show()"
      ],
      "execution_count": 56,
      "outputs": [
        {
          "output_type": "display_data",
          "data": {
            "image/png": "[encoded data removed]",
            "text/plain": [
              "<Figure size 432x288 with 1 Axes>"
            ]
          },
          "metadata": {
            "tags": []
          }
        }
      ]
    },
    {
      "cell_type": "code",
      "metadata": {
        "id": "y8otNrzkfkGc",
        "colab_type": "code",
        "colab": {}
      },
      "source": [
        ""
      ],
      "execution_count": 0,
      "outputs": []
    }
  ]
}
