{
  "nbformat": 4,
  "nbformat_minor": 0,
  "metadata": {
    "colab": {
      "name": "first-project.ipynb",
      "provenance": [],
      "collapsed_sections": [],
      "toc_visible": true,
      "include_colab_link": true
    },
    "kernelspec": {
      "name": "python3",
      "display_name": "Python 3"
    }
  },
  "cells": [
    {
      "cell_type": "markdown",
      "metadata": {
        "id": "view-in-github",
        "colab_type": "text"
      },
      "source": [
        "<a href=\"https://colab.research.google.com/github/sabill/MLCC-Project/blob/master/first_project.ipynb\" target=\"_parent\"><img src=\"https://colab.research.google.com/assets/colab-badge.svg\" alt=\"Open In Colab\"/></a>"
      ]
    },
    {
      "cell_type": "markdown",
      "metadata": {
        "id": "YIG8NESO_fm7",
        "colab_type": "text"
      },
      "source": [
        "Coba data yg klasifikasi (joint 2019 dr kaggle)"
      ]
    },
    {
      "cell_type": "code",
      "metadata": {
        "id": "zFyq10L59D98",
        "colab_type": "code",
        "colab": {}
      },
      "source": [
        "#@title Run on TensorFlow 2.x\n",
        "%tensorflow_version 2.x"
      ],
      "execution_count": 0,
      "outputs": []
    },
    {
      "cell_type": "code",
      "metadata": {
        "id": "NbA136vl_X0M",
        "colab_type": "code",
        "colab": {}
      },
      "source": [
        "import numpy as np\n",
        "import pandas as pd\n",
        "import tensorflow as tf\n",
        "import seaborn as sns\n",
        "# from tensorflow import feature_column\n",
        "from tensorflow.keras import layers, Sequential\n",
        "from tensorflow.keras.layers import Input, Dense, Activation,Dropout\n",
        "from tensorflow.keras.models import Model\n",
        "from matplotlib import pyplot as plt\n",
        "from google.colab import files\n",
        "from sklearn.model_selection import train_test_split\n",
        "import io"
      ],
      "execution_count": 0,
      "outputs": []
    },
    {
      "cell_type": "code",
      "metadata": {
        "id": "8TtcvYPm_6L8",
        "colab_type": "code",
        "outputId": "9a7a1ca7-5145-4e60-bf95-6a51edf01d4b",
        "colab": {
          "resources": {
            "http://localhost:8080/nbextensions/google.colab/files.js": {
              "data": "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",
              "ok": true,
              "headers": [
                [
                  "content-type",
                  "application/javascript"
                ]
              ],
              "status": 200,
              "status_text": ""
            }
          },
          "base_uri": "https://localhost:8080/",
          "height": 281
        }
      },
      "source": [
        "uploaded = files.upload()\n",
        "train_df = pd.read_csv(io.BytesIO(uploaded['train.csv']))\n",
        "\n",
        "train_df.head()"
      ],
      "execution_count": 41,
      "outputs": [
        {
          "output_type": "display_data",
          "data": {
            "text/html": [
              "\n",
              "     <input type=\"file\" id=\"files-8a0aa17e-b540-4692-9071-e7cc596d30bd\" name=\"files[]\" multiple disabled />\n",
              "     <output id=\"result-8a0aa17e-b540-4692-9071-e7cc596d30bd\">\n",
              "      Upload widget is only available when the cell has been executed in the\n",
              "      current browser session. Please rerun this cell to enable.\n",
              "      </output>\n",
              "      <script src=\"/nbextensions/google.colab/files.js\"></script> "
            ],
            "text/plain": [
              "<IPython.core.display.HTML object>"
            ]
          },
          "metadata": {
            "tags": []
          }
        },
        {
          "output_type": "stream",
          "text": [
            "Saving train.csv to train (14).csv\n"
          ],
          "name": "stdout"
        },
        {
          "output_type": "execute_result",
          "data": {
            "text/html": [
              "<div>\n",
              "<style scoped>\n",
              "    .dataframe tbody tr th:only-of-type {\n",
              "        vertical-align: middle;\n",
              "    }\n",
              "\n",
              "    .dataframe tbody tr th {\n",
              "        vertical-align: top;\n",
              "    }\n",
              "\n",
              "    .dataframe thead th {\n",
              "        text-align: right;\n",
              "    }\n",
              "</style>\n",
              "<table border=\"1\" class=\"dataframe\">\n",
              "  <thead>\n",
              "    <tr style=\"text-align: right;\">\n",
              "      <th></th>\n",
              "      <th>id</th>\n",
              "      <th>fac_1</th>\n",
              "      <th>fac_2</th>\n",
              "      <th>fac_3</th>\n",
              "      <th>fac_4</th>\n",
              "      <th>fac_5</th>\n",
              "      <th>fac_6</th>\n",
              "      <th>fac_7</th>\n",
              "      <th>fac_8</th>\n",
              "      <th>poi_1</th>\n",
              "      <th>poi_2</th>\n",
              "      <th>poi_3</th>\n",
              "      <th>size</th>\n",
              "      <th>price_monthly</th>\n",
              "      <th>room_count</th>\n",
              "      <th>total_call</th>\n",
              "      <th>gender</th>\n",
              "    </tr>\n",
              "  </thead>\n",
              "  <tbody>\n",
              "    <tr>\n",
              "      <th>0</th>\n",
              "      <td>1</td>\n",
              "      <td>1.0</td>\n",
              "      <td>1.0</td>\n",
              "      <td>1.0</td>\n",
              "      <td>1.0</td>\n",
              "      <td>1.0</td>\n",
              "      <td>1.0</td>\n",
              "      <td>0.0</td>\n",
              "      <td>1.0</td>\n",
              "      <td>1778.0</td>\n",
              "      <td>10038.0</td>\n",
              "      <td>4106.0</td>\n",
              "      <td>9.00</td>\n",
              "      <td>1500000.0</td>\n",
              "      <td>6.0</td>\n",
              "      <td>72</td>\n",
              "      <td>campur</td>\n",
              "    </tr>\n",
              "    <tr>\n",
              "      <th>1</th>\n",
              "      <td>2</td>\n",
              "      <td>1.0</td>\n",
              "      <td>1.0</td>\n",
              "      <td>0.0</td>\n",
              "      <td>1.0</td>\n",
              "      <td>1.0</td>\n",
              "      <td>1.0</td>\n",
              "      <td>0.0</td>\n",
              "      <td>NaN</td>\n",
              "      <td>4548.0</td>\n",
              "      <td>9332.0</td>\n",
              "      <td>6867.0</td>\n",
              "      <td>12.00</td>\n",
              "      <td>1500000.0</td>\n",
              "      <td>30.0</td>\n",
              "      <td>56</td>\n",
              "      <td>campur</td>\n",
              "    </tr>\n",
              "    <tr>\n",
              "      <th>2</th>\n",
              "      <td>3</td>\n",
              "      <td>1.0</td>\n",
              "      <td>NaN</td>\n",
              "      <td>1.0</td>\n",
              "      <td>1.0</td>\n",
              "      <td>1.0</td>\n",
              "      <td>1.0</td>\n",
              "      <td>0.0</td>\n",
              "      <td>1.0</td>\n",
              "      <td>5174.0</td>\n",
              "      <td>9021.0</td>\n",
              "      <td>3693.0</td>\n",
              "      <td>12.00</td>\n",
              "      <td>1600000.0</td>\n",
              "      <td>20.0</td>\n",
              "      <td>109</td>\n",
              "      <td>campur</td>\n",
              "    </tr>\n",
              "    <tr>\n",
              "      <th>3</th>\n",
              "      <td>4</td>\n",
              "      <td>1.0</td>\n",
              "      <td>1.0</td>\n",
              "      <td>1.0</td>\n",
              "      <td>1.0</td>\n",
              "      <td>1.0</td>\n",
              "      <td>1.0</td>\n",
              "      <td>0.0</td>\n",
              "      <td>0.0</td>\n",
              "      <td>1490.0</td>\n",
              "      <td>8954.0</td>\n",
              "      <td>2139.0</td>\n",
              "      <td>8.25</td>\n",
              "      <td>1500000.0</td>\n",
              "      <td>15.0</td>\n",
              "      <td>54</td>\n",
              "      <td>campur</td>\n",
              "    </tr>\n",
              "    <tr>\n",
              "      <th>4</th>\n",
              "      <td>5</td>\n",
              "      <td>1.0</td>\n",
              "      <td>1.0</td>\n",
              "      <td>0.0</td>\n",
              "      <td>1.0</td>\n",
              "      <td>1.0</td>\n",
              "      <td>1.0</td>\n",
              "      <td>0.0</td>\n",
              "      <td>1.0</td>\n",
              "      <td>1688.0</td>\n",
              "      <td>8851.0</td>\n",
              "      <td>2145.0</td>\n",
              "      <td>14.85</td>\n",
              "      <td>2100000.0</td>\n",
              "      <td>10.0</td>\n",
              "      <td>19</td>\n",
              "      <td>campur</td>\n",
              "    </tr>\n",
              "  </tbody>\n",
              "</table>\n",
              "</div>"
            ],
            "text/plain": [
              "   id  fac_1  fac_2  fac_3  ...  price_monthly  room_count  total_call  gender\n",
              "0   1    1.0    1.0    1.0  ...      1500000.0         6.0          72  campur\n",
              "1   2    1.0    1.0    0.0  ...      1500000.0        30.0          56  campur\n",
              "2   3    1.0    NaN    1.0  ...      1600000.0        20.0         109  campur\n",
              "3   4    1.0    1.0    1.0  ...      1500000.0        15.0          54  campur\n",
              "4   5    1.0    1.0    0.0  ...      2100000.0        10.0          19  campur\n",
              "\n",
              "[5 rows x 17 columns]"
            ]
          },
          "metadata": {
            "tags": []
          },
          "execution_count": 41
        }
      ]
    },
    {
      "cell_type": "markdown",
      "metadata": {
        "id": "RBcsxzqYFpcC",
        "colab_type": "text"
      },
      "source": [
        "Data Preprocessing"
      ]
    },
    {
      "cell_type": "code",
      "metadata": {
        "id": "b1KPLVMinOzx",
        "colab_type": "code",
        "outputId": "74eae673-d847-4d8e-b543-52b435567126",
        "colab": {
          "base_uri": "https://localhost:8080/",
          "height": 323
        }
      },
      "source": [
        "#prepocessing data\n",
        "train_df.isnull().sum()"
      ],
      "execution_count": 42,
      "outputs": [
        {
          "output_type": "execute_result",
          "data": {
            "text/plain": [
              "id                0\n",
              "fac_1            63\n",
              "fac_2            74\n",
              "fac_3            62\n",
              "fac_4            71\n",
              "fac_5            72\n",
              "fac_6            64\n",
              "fac_7            78\n",
              "fac_8            68\n",
              "poi_1            67\n",
              "poi_2            67\n",
              "poi_3            86\n",
              "size             68\n",
              "price_monthly    85\n",
              "room_count       70\n",
              "total_call        0\n",
              "gender            0\n",
              "dtype: int64"
            ]
          },
          "metadata": {
            "tags": []
          },
          "execution_count": 42
        }
      ]
    },
    {
      "cell_type": "code",
      "metadata": {
        "id": "aI2tgmVJmLY2",
        "colab_type": "code",
        "colab": {
          "base_uri": "https://localhost:8080/",
          "height": 425
        },
        "outputId": "c02416aa-8a77-4214-f1e6-a296059cd9cb"
      },
      "source": [
        "for i in train_df.columns[1:9]:\n",
        "  print(train_df[i].value_counts())"
      ],
      "execution_count": 43,
      "outputs": [
        {
          "output_type": "stream",
          "text": [
            "0.0    2385\n",
            "1.0     845\n",
            "Name: fac_1, dtype: int64\n",
            "1.0    1958\n",
            "0.0    1261\n",
            "Name: fac_2, dtype: int64\n",
            "0.0    1756\n",
            "1.0    1475\n",
            "Name: fac_3, dtype: int64\n",
            "1.0    1812\n",
            "0.0    1410\n",
            "Name: fac_4, dtype: int64\n",
            "1.0    2066\n",
            "0.0    1155\n",
            "Name: fac_5, dtype: int64\n",
            "0.0    1848\n",
            "1.0    1381\n",
            "Name: fac_6, dtype: int64\n",
            "0.0    3200\n",
            "1.0      15\n",
            "Name: fac_7, dtype: int64\n",
            "1.0    1672\n",
            "0.0    1553\n",
            "Name: fac_8, dtype: int64\n"
          ],
          "name": "stdout"
        }
      ]
    },
    {
      "cell_type": "code",
      "metadata": {
        "id": "cuqjECASASC4",
        "colab_type": "code",
        "colab": {}
      },
      "source": [
        "#fill null data (fac_1 until fac_8) with mode\n",
        "for column in train_df.columns[1:9]:\n",
        "  train_df[column] = train_df[column].fillna(train_df[column].mode()[0])"
      ],
      "execution_count": 0,
      "outputs": []
    },
    {
      "cell_type": "code",
      "metadata": {
        "id": "7L5Xv-M0muGh",
        "colab_type": "code",
        "colab": {
          "base_uri": "https://localhost:8080/",
          "height": 425
        },
        "outputId": "286bfb63-82cd-410f-e65a-5599be29b343"
      },
      "source": [
        "for i in train_df.columns[1:9]:\n",
        "  print(train_df[i].value_counts())"
      ],
      "execution_count": 45,
      "outputs": [
        {
          "output_type": "stream",
          "text": [
            "0.0    2448\n",
            "1.0     845\n",
            "Name: fac_1, dtype: int64\n",
            "1.0    2032\n",
            "0.0    1261\n",
            "Name: fac_2, dtype: int64\n",
            "0.0    1818\n",
            "1.0    1475\n",
            "Name: fac_3, dtype: int64\n",
            "1.0    1883\n",
            "0.0    1410\n",
            "Name: fac_4, dtype: int64\n",
            "1.0    2138\n",
            "0.0    1155\n",
            "Name: fac_5, dtype: int64\n",
            "0.0    1912\n",
            "1.0    1381\n",
            "Name: fac_6, dtype: int64\n",
            "0.0    3278\n",
            "1.0      15\n",
            "Name: fac_7, dtype: int64\n",
            "1.0    1740\n",
            "0.0    1553\n",
            "Name: fac_8, dtype: int64\n"
          ],
          "name": "stdout"
        }
      ]
    },
    {
      "cell_type": "code",
      "metadata": {
        "id": "99Y-zXYs3cfr",
        "colab_type": "code",
        "outputId": "fdfa7dd4-9f4e-40f4-fcac-a88814135aed",
        "colab": {
          "base_uri": "https://localhost:8080/",
          "height": 323
        }
      },
      "source": [
        "train_df.isnull().sum()"
      ],
      "execution_count": 46,
      "outputs": [
        {
          "output_type": "execute_result",
          "data": {
            "text/plain": [
              "id                0\n",
              "fac_1             0\n",
              "fac_2             0\n",
              "fac_3             0\n",
              "fac_4             0\n",
              "fac_5             0\n",
              "fac_6             0\n",
              "fac_7             0\n",
              "fac_8             0\n",
              "poi_1            67\n",
              "poi_2            67\n",
              "poi_3            86\n",
              "size             68\n",
              "price_monthly    85\n",
              "room_count       70\n",
              "total_call        0\n",
              "gender            0\n",
              "dtype: int64"
            ]
          },
          "metadata": {
            "tags": []
          },
          "execution_count": 46
        }
      ]
    },
    {
      "cell_type": "code",
      "metadata": {
        "id": "rwE7tBZMCZp3",
        "colab_type": "code",
        "outputId": "a8bd294c-5b6d-4e4b-fc55-0ebca64099e7",
        "colab": {
          "base_uri": "https://localhost:8080/",
          "height": 307
        }
      },
      "source": [
        "#Y = train_df['price_monthly']\n",
        "plt.plot('poi_1', 'price_monthly', data = train_df, marker='', color='red', linewidth=2)\n",
        "plt.plot('poi_2', 'price_monthly', data = train_df, marker='', color='orange', linewidth=2)\n",
        "\n",
        "plt.xlabel('features')\n",
        "plt.ylabel('price monthly')\n",
        "plt.legend()"
      ],
      "execution_count": 47,
      "outputs": [
        {
          "output_type": "execute_result",
          "data": {
            "text/plain": [
              "<matplotlib.legend.Legend at 0x7f92d480f6d8>"
            ]
          },
          "metadata": {
            "tags": []
          },
          "execution_count": 47
        },
        {
          "output_type": "display_data",
          "data": {
            "image/png": "[encoded data removed]",
            "text/plain": [
              "<Figure size 432x288 with 1 Axes>"
            ]
          },
          "metadata": {
            "tags": []
          }
        }
      ]
    },
    {
      "cell_type": "code",
      "metadata": {
        "id": "gCUM4RY6yjS4",
        "colab_type": "code",
        "colab": {}
      },
      "source": [
        "#fill null data based on ratio with price monthly\n",
        "train_df['poi_1'] = train_df['poi_1'].fillna(train_df['poi_1'].mean())\n",
        "train_df['poi_2'] = train_df['poi_2'].fillna(train_df['poi_2'].mean())\n",
        "train_df['poi_3'] = train_df['poi_3'].fillna(train_df['poi_3'].mean())\n",
        "train_df['size'] = train_df['size'].fillna(train_df['size'].mean())"
      ],
      "execution_count": 0,
      "outputs": []
    },
    {
      "cell_type": "code",
      "metadata": {
        "id": "o0nyT2FEk9pF",
        "colab_type": "code",
        "outputId": "a0bf84a2-244b-4775-8b7a-16de8c41d19e",
        "colab": {
          "base_uri": "https://localhost:8080/",
          "height": 224
        }
      },
      "source": [
        "train_df.head()"
      ],
      "execution_count": 49,
      "outputs": [
        {
          "output_type": "execute_result",
          "data": {
            "text/html": [
              "<div>\n",
              "<style scoped>\n",
              "    .dataframe tbody tr th:only-of-type {\n",
              "        vertical-align: middle;\n",
              "    }\n",
              "\n",
              "    .dataframe tbody tr th {\n",
              "        vertical-align: top;\n",
              "    }\n",
              "\n",
              "    .dataframe thead th {\n",
              "        text-align: right;\n",
              "    }\n",
              "</style>\n",
              "<table border=\"1\" class=\"dataframe\">\n",
              "  <thead>\n",
              "    <tr style=\"text-align: right;\">\n",
              "      <th></th>\n",
              "      <th>id</th>\n",
              "      <th>fac_1</th>\n",
              "      <th>fac_2</th>\n",
              "      <th>fac_3</th>\n",
              "      <th>fac_4</th>\n",
              "      <th>fac_5</th>\n",
              "      <th>fac_6</th>\n",
              "      <th>fac_7</th>\n",
              "      <th>fac_8</th>\n",
              "      <th>poi_1</th>\n",
              "      <th>poi_2</th>\n",
              "      <th>poi_3</th>\n",
              "      <th>size</th>\n",
              "      <th>price_monthly</th>\n",
              "      <th>room_count</th>\n",
              "      <th>total_call</th>\n",
              "      <th>gender</th>\n",
              "    </tr>\n",
              "  </thead>\n",
              "  <tbody>\n",
              "    <tr>\n",
              "      <th>0</th>\n",
              "      <td>1</td>\n",
              "      <td>1.0</td>\n",
              "      <td>1.0</td>\n",
              "      <td>1.0</td>\n",
              "      <td>1.0</td>\n",
              "      <td>1.0</td>\n",
              "      <td>1.0</td>\n",
              "      <td>0.0</td>\n",
              "      <td>1.0</td>\n",
              "      <td>1778.0</td>\n",
              "      <td>10038.0</td>\n",
              "      <td>4106.0</td>\n",
              "      <td>9.00</td>\n",
              "      <td>1500000.0</td>\n",
              "      <td>6.0</td>\n",
              "      <td>72</td>\n",
              "      <td>campur</td>\n",
              "    </tr>\n",
              "    <tr>\n",
              "      <th>1</th>\n",
              "      <td>2</td>\n",
              "      <td>1.0</td>\n",
              "      <td>1.0</td>\n",
              "      <td>0.0</td>\n",
              "      <td>1.0</td>\n",
              "      <td>1.0</td>\n",
              "      <td>1.0</td>\n",
              "      <td>0.0</td>\n",
              "      <td>1.0</td>\n",
              "      <td>4548.0</td>\n",
              "      <td>9332.0</td>\n",
              "      <td>6867.0</td>\n",
              "      <td>12.00</td>\n",
              "      <td>1500000.0</td>\n",
              "      <td>30.0</td>\n",
              "      <td>56</td>\n",
              "      <td>campur</td>\n",
              "    </tr>\n",
              "    <tr>\n",
              "      <th>2</th>\n",
              "      <td>3</td>\n",
              "      <td>1.0</td>\n",
              "      <td>1.0</td>\n",
              "      <td>1.0</td>\n",
              "      <td>1.0</td>\n",
              "      <td>1.0</td>\n",
              "      <td>1.0</td>\n",
              "      <td>0.0</td>\n",
              "      <td>1.0</td>\n",
              "      <td>5174.0</td>\n",
              "      <td>9021.0</td>\n",
              "      <td>3693.0</td>\n",
              "      <td>12.00</td>\n",
              "      <td>1600000.0</td>\n",
              "      <td>20.0</td>\n",
              "      <td>109</td>\n",
              "      <td>campur</td>\n",
              "    </tr>\n",
              "    <tr>\n",
              "      <th>3</th>\n",
              "      <td>4</td>\n",
              "      <td>1.0</td>\n",
              "      <td>1.0</td>\n",
              "      <td>1.0</td>\n",
              "      <td>1.0</td>\n",
              "      <td>1.0</td>\n",
              "      <td>1.0</td>\n",
              "      <td>0.0</td>\n",
              "      <td>0.0</td>\n",
              "      <td>1490.0</td>\n",
              "      <td>8954.0</td>\n",
              "      <td>2139.0</td>\n",
              "      <td>8.25</td>\n",
              "      <td>1500000.0</td>\n",
              "      <td>15.0</td>\n",
              "      <td>54</td>\n",
              "      <td>campur</td>\n",
              "    </tr>\n",
              "    <tr>\n",
              "      <th>4</th>\n",
              "      <td>5</td>\n",
              "      <td>1.0</td>\n",
              "      <td>1.0</td>\n",
              "      <td>0.0</td>\n",
              "      <td>1.0</td>\n",
              "      <td>1.0</td>\n",
              "      <td>1.0</td>\n",
              "      <td>0.0</td>\n",
              "      <td>1.0</td>\n",
              "      <td>1688.0</td>\n",
              "      <td>8851.0</td>\n",
              "      <td>2145.0</td>\n",
              "      <td>14.85</td>\n",
              "      <td>2100000.0</td>\n",
              "      <td>10.0</td>\n",
              "      <td>19</td>\n",
              "      <td>campur</td>\n",
              "    </tr>\n",
              "  </tbody>\n",
              "</table>\n",
              "</div>"
            ],
            "text/plain": [
              "   id  fac_1  fac_2  fac_3  ...  price_monthly  room_count  total_call  gender\n",
              "0   1    1.0    1.0    1.0  ...      1500000.0         6.0          72  campur\n",
              "1   2    1.0    1.0    0.0  ...      1500000.0        30.0          56  campur\n",
              "2   3    1.0    1.0    1.0  ...      1600000.0        20.0         109  campur\n",
              "3   4    1.0    1.0    1.0  ...      1500000.0        15.0          54  campur\n",
              "4   5    1.0    1.0    0.0  ...      2100000.0        10.0          19  campur\n",
              "\n",
              "[5 rows x 17 columns]"
            ]
          },
          "metadata": {
            "tags": []
          },
          "execution_count": 49
        }
      ]
    },
    {
      "cell_type": "code",
      "metadata": {
        "id": "P2Y7nSSsGIOr",
        "colab_type": "code",
        "outputId": "09b155b3-5c42-4178-83ff-eaded7b10982",
        "colab": {
          "base_uri": "https://localhost:8080/",
          "height": 323
        }
      },
      "source": [
        "train_df.isnull().sum()"
      ],
      "execution_count": 50,
      "outputs": [
        {
          "output_type": "execute_result",
          "data": {
            "text/plain": [
              "id                0\n",
              "fac_1             0\n",
              "fac_2             0\n",
              "fac_3             0\n",
              "fac_4             0\n",
              "fac_5             0\n",
              "fac_6             0\n",
              "fac_7             0\n",
              "fac_8             0\n",
              "poi_1             0\n",
              "poi_2             0\n",
              "poi_3             0\n",
              "size              0\n",
              "price_monthly    85\n",
              "room_count       70\n",
              "total_call        0\n",
              "gender            0\n",
              "dtype: int64"
            ]
          },
          "metadata": {
            "tags": []
          },
          "execution_count": 50
        }
      ]
    },
    {
      "cell_type": "code",
      "metadata": {
        "id": "UtR1n_mg1WPN",
        "colab_type": "code",
        "colab": {}
      },
      "source": [
        "# def proportion(atributs, labels):\n",
        "#   atribut = "
      ],
      "execution_count": 0,
      "outputs": []
    },
    {
      "cell_type": "code",
      "metadata": {
        "id": "xajBISLIKkxk",
        "colab_type": "code",
        "colab": {}
      },
      "source": [
        "train_df['room_count'] = train_df['room_count'].fillna(train_df['room_count'].mean())\n",
        "train_df['price_monthly'] = train_df['price_monthly'].fillna(train_df['price_monthly'].mean())"
      ],
      "execution_count": 0,
      "outputs": []
    },
    {
      "cell_type": "code",
      "metadata": {
        "id": "4mgFHcQ2K1oB",
        "colab_type": "code",
        "outputId": "a09c2f5c-f6db-46f1-b79b-e94e2816adef",
        "colab": {
          "base_uri": "https://localhost:8080/",
          "height": 224
        }
      },
      "source": [
        "train_df.head()"
      ],
      "execution_count": 52,
      "outputs": [
        {
          "output_type": "execute_result",
          "data": {
            "text/html": [
              "<div>\n",
              "<style scoped>\n",
              "    .dataframe tbody tr th:only-of-type {\n",
              "        vertical-align: middle;\n",
              "    }\n",
              "\n",
              "    .dataframe tbody tr th {\n",
              "        vertical-align: top;\n",
              "    }\n",
              "\n",
              "    .dataframe thead th {\n",
              "        text-align: right;\n",
              "    }\n",
              "</style>\n",
              "<table border=\"1\" class=\"dataframe\">\n",
              "  <thead>\n",
              "    <tr style=\"text-align: right;\">\n",
              "      <th></th>\n",
              "      <th>id</th>\n",
              "      <th>fac_1</th>\n",
              "      <th>fac_2</th>\n",
              "      <th>fac_3</th>\n",
              "      <th>fac_4</th>\n",
              "      <th>fac_5</th>\n",
              "      <th>fac_6</th>\n",
              "      <th>fac_7</th>\n",
              "      <th>fac_8</th>\n",
              "      <th>poi_1</th>\n",
              "      <th>poi_2</th>\n",
              "      <th>poi_3</th>\n",
              "      <th>size</th>\n",
              "      <th>price_monthly</th>\n",
              "      <th>room_count</th>\n",
              "      <th>total_call</th>\n",
              "      <th>gender</th>\n",
              "    </tr>\n",
              "  </thead>\n",
              "  <tbody>\n",
              "    <tr>\n",
              "      <th>0</th>\n",
              "      <td>1</td>\n",
              "      <td>1.0</td>\n",
              "      <td>1.0</td>\n",
              "      <td>1.0</td>\n",
              "      <td>1.0</td>\n",
              "      <td>1.0</td>\n",
              "      <td>1.0</td>\n",
              "      <td>0.0</td>\n",
              "      <td>1.0</td>\n",
              "      <td>1778.0</td>\n",
              "      <td>10038.0</td>\n",
              "      <td>4106.0</td>\n",
              "      <td>9.00</td>\n",
              "      <td>1500000.0</td>\n",
              "      <td>6.0</td>\n",
              "      <td>72</td>\n",
              "      <td>campur</td>\n",
              "    </tr>\n",
              "    <tr>\n",
              "      <th>1</th>\n",
              "      <td>2</td>\n",
              "      <td>1.0</td>\n",
              "      <td>1.0</td>\n",
              "      <td>0.0</td>\n",
              "      <td>1.0</td>\n",
              "      <td>1.0</td>\n",
              "      <td>1.0</td>\n",
              "      <td>0.0</td>\n",
              "      <td>1.0</td>\n",
              "      <td>4548.0</td>\n",
              "      <td>9332.0</td>\n",
              "      <td>6867.0</td>\n",
              "      <td>12.00</td>\n",
              "      <td>1500000.0</td>\n",
              "      <td>30.0</td>\n",
              "      <td>56</td>\n",
              "      <td>campur</td>\n",
              "    </tr>\n",
              "    <tr>\n",
              "      <th>2</th>\n",
              "      <td>3</td>\n",
              "      <td>1.0</td>\n",
              "      <td>1.0</td>\n",
              "      <td>1.0</td>\n",
              "      <td>1.0</td>\n",
              "      <td>1.0</td>\n",
              "      <td>1.0</td>\n",
              "      <td>0.0</td>\n",
              "      <td>1.0</td>\n",
              "      <td>5174.0</td>\n",
              "      <td>9021.0</td>\n",
              "      <td>3693.0</td>\n",
              "      <td>12.00</td>\n",
              "      <td>1600000.0</td>\n",
              "      <td>20.0</td>\n",
              "      <td>109</td>\n",
              "      <td>campur</td>\n",
              "    </tr>\n",
              "    <tr>\n",
              "      <th>3</th>\n",
              "      <td>4</td>\n",
              "      <td>1.0</td>\n",
              "      <td>1.0</td>\n",
              "      <td>1.0</td>\n",
              "      <td>1.0</td>\n",
              "      <td>1.0</td>\n",
              "      <td>1.0</td>\n",
              "      <td>0.0</td>\n",
              "      <td>0.0</td>\n",
              "      <td>1490.0</td>\n",
              "      <td>8954.0</td>\n",
              "      <td>2139.0</td>\n",
              "      <td>8.25</td>\n",
              "      <td>1500000.0</td>\n",
              "      <td>15.0</td>\n",
              "      <td>54</td>\n",
              "      <td>campur</td>\n",
              "    </tr>\n",
              "    <tr>\n",
              "      <th>4</th>\n",
              "      <td>5</td>\n",
              "      <td>1.0</td>\n",
              "      <td>1.0</td>\n",
              "      <td>0.0</td>\n",
              "      <td>1.0</td>\n",
              "      <td>1.0</td>\n",
              "      <td>1.0</td>\n",
              "      <td>0.0</td>\n",
              "      <td>1.0</td>\n",
              "      <td>1688.0</td>\n",
              "      <td>8851.0</td>\n",
              "      <td>2145.0</td>\n",
              "      <td>14.85</td>\n",
              "      <td>2100000.0</td>\n",
              "      <td>10.0</td>\n",
              "      <td>19</td>\n",
              "      <td>campur</td>\n",
              "    </tr>\n",
              "  </tbody>\n",
              "</table>\n",
              "</div>"
            ],
            "text/plain": [
              "   id  fac_1  fac_2  fac_3  ...  price_monthly  room_count  total_call  gender\n",
              "0   1    1.0    1.0    1.0  ...      1500000.0         6.0          72  campur\n",
              "1   2    1.0    1.0    0.0  ...      1500000.0        30.0          56  campur\n",
              "2   3    1.0    1.0    1.0  ...      1600000.0        20.0         109  campur\n",
              "3   4    1.0    1.0    1.0  ...      1500000.0        15.0          54  campur\n",
              "4   5    1.0    1.0    0.0  ...      2100000.0        10.0          19  campur\n",
              "\n",
              "[5 rows x 17 columns]"
            ]
          },
          "metadata": {
            "tags": []
          },
          "execution_count": 52
        }
      ]
    },
    {
      "cell_type": "code",
      "metadata": {
        "id": "IBJRowvRJZAU",
        "colab_type": "code",
        "outputId": "e8aa39e9-4c1f-4ad4-af84-734c5d649b14",
        "colab": {
          "base_uri": "https://localhost:8080/",
          "height": 401
        }
      },
      "source": [
        "plt.boxplot(train_df['room_count'])"
      ],
      "execution_count": 61,
      "outputs": [
        {
          "output_type": "execute_result",
          "data": {
            "text/plain": [
              "{'boxes': [<matplotlib.lines.Line2D at 0x7f92d3e11e80>],\n",
              " 'caps': [<matplotlib.lines.Line2D at 0x7f92d3e1e8d0>,\n",
              "  <matplotlib.lines.Line2D at 0x7f92d3e1ec50>],\n",
              " 'fliers': [<matplotlib.lines.Line2D at 0x7f92d3e2a390>],\n",
              " 'means': [],\n",
              " 'medians': [<matplotlib.lines.Line2D at 0x7f92d3e1efd0>],\n",
              " 'whiskers': [<matplotlib.lines.Line2D at 0x7f92d3e1e1d0>,\n",
              "  <matplotlib.lines.Line2D at 0x7f92d3e1e550>]}"
            ]
          },
          "metadata": {
            "tags": []
          },
          "execution_count": 61
        },
        {
          "output_type": "display_data",
          "data": {
            "image/png": "[encoded data removed]",
            "text/plain": [
              "<Figure size 432x288 with 1 Axes>"
            ]
          },
          "metadata": {
            "tags": []
          }
        }
      ]
    },
    {
      "cell_type": "code",
      "metadata": {
        "id": "QLChnC-bKMj4",
        "colab_type": "code",
        "outputId": "b64b3b31-0579-4887-ea77-4f492d9c82c5",
        "colab": {
          "base_uri": "https://localhost:8080/",
          "height": 403
        }
      },
      "source": [
        "plt.boxplot(train_df['total_call'])"
      ],
      "execution_count": 62,
      "outputs": [
        {
          "output_type": "execute_result",
          "data": {
            "text/plain": [
              "{'boxes': [<matplotlib.lines.Line2D at 0x7f92d3d77a58>],\n",
              " 'caps': [<matplotlib.lines.Line2D at 0x7f92d3d854a8>,\n",
              "  <matplotlib.lines.Line2D at 0x7f92d3d85828>],\n",
              " 'fliers': [<matplotlib.lines.Line2D at 0x7f92d3d85f28>],\n",
              " 'means': [],\n",
              " 'medians': [<matplotlib.lines.Line2D at 0x7f92d3d85ba8>],\n",
              " 'whiskers': [<matplotlib.lines.Line2D at 0x7f92d3d77d68>,\n",
              "  <matplotlib.lines.Line2D at 0x7f92d3d85128>]}"
            ]
          },
          "metadata": {
            "tags": []
          },
          "execution_count": 62
        },
        {
          "output_type": "display_data",
          "data": {
            "image/png": "[encoded data removed]",
            "text/plain": [
              "<Figure size 432x288 with 1 Axes>"
            ]
          },
          "metadata": {
            "tags": []
          }
        }
      ]
    },
    {
      "cell_type": "code",
      "metadata": {
        "id": "63HketEYPLWV",
        "colab_type": "code",
        "colab": {}
      },
      "source": [
        "def detect_outlier(data, column):\n",
        "    q1 = data[column].quantile(0.25)\n",
        "    q3 = data[column].quantile(0.75)\n",
        "\n",
        "    iqr = q3 - q1\n",
        "    rub = q3 + 1.5*iqr\n",
        "    rlb = q1 - 1.5*iqr\n",
        "\n",
        "    outlier = (data[column] < rlb) | (data[column] > rub)\n",
        "    \n",
        "    return data[outlier]"
      ],
      "execution_count": 0,
      "outputs": []
    },
    {
      "cell_type": "code",
      "metadata": {
        "id": "vpCxrW8SSb2G",
        "colab_type": "code",
        "outputId": "48b2fa1c-feef-4b90-dd09-0470459f35fd",
        "colab": {
          "base_uri": "https://localhost:8080/",
          "height": 439
        }
      },
      "source": [
        "detect_outlier(train_df, 'total_call')"
      ],
      "execution_count": 66,
      "outputs": [
        {
          "output_type": "execute_result",
          "data": {
            "text/html": [
              "<div>\n",
              "<style scoped>\n",
              "    .dataframe tbody tr th:only-of-type {\n",
              "        vertical-align: middle;\n",
              "    }\n",
              "\n",
              "    .dataframe tbody tr th {\n",
              "        vertical-align: top;\n",
              "    }\n",
              "\n",
              "    .dataframe thead th {\n",
              "        text-align: right;\n",
              "    }\n",
              "</style>\n",
              "<table border=\"1\" class=\"dataframe\">\n",
              "  <thead>\n",
              "    <tr style=\"text-align: right;\">\n",
              "      <th></th>\n",
              "      <th>id</th>\n",
              "      <th>fac_1</th>\n",
              "      <th>fac_2</th>\n",
              "      <th>fac_3</th>\n",
              "      <th>fac_4</th>\n",
              "      <th>fac_5</th>\n",
              "      <th>fac_6</th>\n",
              "      <th>fac_7</th>\n",
              "      <th>fac_8</th>\n",
              "      <th>poi_1</th>\n",
              "      <th>poi_2</th>\n",
              "      <th>poi_3</th>\n",
              "      <th>size</th>\n",
              "      <th>price_monthly</th>\n",
              "      <th>room_count</th>\n",
              "      <th>total_call</th>\n",
              "      <th>gender</th>\n",
              "    </tr>\n",
              "  </thead>\n",
              "  <tbody>\n",
              "    <tr>\n",
              "      <th>2</th>\n",
              "      <td>3</td>\n",
              "      <td>1.0</td>\n",
              "      <td>1.0</td>\n",
              "      <td>1.0</td>\n",
              "      <td>1.0</td>\n",
              "      <td>1.0</td>\n",
              "      <td>1.0</td>\n",
              "      <td>0.0</td>\n",
              "      <td>1.0</td>\n",
              "      <td>5174.0</td>\n",
              "      <td>9021.0</td>\n",
              "      <td>3693.0</td>\n",
              "      <td>12.0000</td>\n",
              "      <td>1600000.0</td>\n",
              "      <td>20.0</td>\n",
              "      <td>109</td>\n",
              "      <td>campur</td>\n",
              "    </tr>\n",
              "    <tr>\n",
              "      <th>30</th>\n",
              "      <td>31</td>\n",
              "      <td>1.0</td>\n",
              "      <td>1.0</td>\n",
              "      <td>1.0</td>\n",
              "      <td>1.0</td>\n",
              "      <td>1.0</td>\n",
              "      <td>1.0</td>\n",
              "      <td>0.0</td>\n",
              "      <td>0.0</td>\n",
              "      <td>2908.0</td>\n",
              "      <td>9013.0</td>\n",
              "      <td>1958.0</td>\n",
              "      <td>21.0000</td>\n",
              "      <td>1700000.0</td>\n",
              "      <td>30.0</td>\n",
              "      <td>231</td>\n",
              "      <td>campur</td>\n",
              "    </tr>\n",
              "    <tr>\n",
              "      <th>42</th>\n",
              "      <td>43</td>\n",
              "      <td>1.0</td>\n",
              "      <td>1.0</td>\n",
              "      <td>1.0</td>\n",
              "      <td>1.0</td>\n",
              "      <td>1.0</td>\n",
              "      <td>0.0</td>\n",
              "      <td>0.0</td>\n",
              "      <td>0.0</td>\n",
              "      <td>4539.0</td>\n",
              "      <td>13800.0</td>\n",
              "      <td>2973.0</td>\n",
              "      <td>12.0000</td>\n",
              "      <td>600000.0</td>\n",
              "      <td>50.0</td>\n",
              "      <td>392</td>\n",
              "      <td>putri</td>\n",
              "    </tr>\n",
              "    <tr>\n",
              "      <th>48</th>\n",
              "      <td>49</td>\n",
              "      <td>0.0</td>\n",
              "      <td>1.0</td>\n",
              "      <td>1.0</td>\n",
              "      <td>1.0</td>\n",
              "      <td>1.0</td>\n",
              "      <td>0.0</td>\n",
              "      <td>0.0</td>\n",
              "      <td>1.0</td>\n",
              "      <td>1290.0</td>\n",
              "      <td>8770.0</td>\n",
              "      <td>2787.0</td>\n",
              "      <td>15.0000</td>\n",
              "      <td>800000.0</td>\n",
              "      <td>5.0</td>\n",
              "      <td>131</td>\n",
              "      <td>putri</td>\n",
              "    </tr>\n",
              "    <tr>\n",
              "      <th>79</th>\n",
              "      <td>80</td>\n",
              "      <td>0.0</td>\n",
              "      <td>0.0</td>\n",
              "      <td>0.0</td>\n",
              "      <td>1.0</td>\n",
              "      <td>0.0</td>\n",
              "      <td>0.0</td>\n",
              "      <td>0.0</td>\n",
              "      <td>0.0</td>\n",
              "      <td>1997.0</td>\n",
              "      <td>8389.0</td>\n",
              "      <td>2585.0</td>\n",
              "      <td>21.0000</td>\n",
              "      <td>320000.0</td>\n",
              "      <td>9.0</td>\n",
              "      <td>190</td>\n",
              "      <td>putra</td>\n",
              "    </tr>\n",
              "    <tr>\n",
              "      <th>...</th>\n",
              "      <td>...</td>\n",
              "      <td>...</td>\n",
              "      <td>...</td>\n",
              "      <td>...</td>\n",
              "      <td>...</td>\n",
              "      <td>...</td>\n",
              "      <td>...</td>\n",
              "      <td>...</td>\n",
              "      <td>...</td>\n",
              "      <td>...</td>\n",
              "      <td>...</td>\n",
              "      <td>...</td>\n",
              "      <td>...</td>\n",
              "      <td>...</td>\n",
              "      <td>...</td>\n",
              "      <td>...</td>\n",
              "      <td>...</td>\n",
              "    </tr>\n",
              "    <tr>\n",
              "      <th>3240</th>\n",
              "      <td>3241</td>\n",
              "      <td>0.0</td>\n",
              "      <td>0.0</td>\n",
              "      <td>0.0</td>\n",
              "      <td>1.0</td>\n",
              "      <td>1.0</td>\n",
              "      <td>0.0</td>\n",
              "      <td>0.0</td>\n",
              "      <td>0.0</td>\n",
              "      <td>4744.0</td>\n",
              "      <td>14569.0</td>\n",
              "      <td>3918.0</td>\n",
              "      <td>9.0000</td>\n",
              "      <td>350000.0</td>\n",
              "      <td>27.0</td>\n",
              "      <td>216</td>\n",
              "      <td>putri</td>\n",
              "    </tr>\n",
              "    <tr>\n",
              "      <th>3247</th>\n",
              "      <td>3248</td>\n",
              "      <td>0.0</td>\n",
              "      <td>1.0</td>\n",
              "      <td>0.0</td>\n",
              "      <td>1.0</td>\n",
              "      <td>1.0</td>\n",
              "      <td>0.0</td>\n",
              "      <td>0.0</td>\n",
              "      <td>1.0</td>\n",
              "      <td>5335.0</td>\n",
              "      <td>13246.0</td>\n",
              "      <td>3089.0</td>\n",
              "      <td>12.0000</td>\n",
              "      <td>700000.0</td>\n",
              "      <td>8.0</td>\n",
              "      <td>140</td>\n",
              "      <td>putri</td>\n",
              "    </tr>\n",
              "    <tr>\n",
              "      <th>3273</th>\n",
              "      <td>3274</td>\n",
              "      <td>0.0</td>\n",
              "      <td>1.0</td>\n",
              "      <td>0.0</td>\n",
              "      <td>0.0</td>\n",
              "      <td>0.0</td>\n",
              "      <td>1.0</td>\n",
              "      <td>0.0</td>\n",
              "      <td>0.0</td>\n",
              "      <td>5679.0</td>\n",
              "      <td>10593.0</td>\n",
              "      <td>3666.0</td>\n",
              "      <td>24.0000</td>\n",
              "      <td>1000000.0</td>\n",
              "      <td>6.0</td>\n",
              "      <td>130</td>\n",
              "      <td>campur</td>\n",
              "    </tr>\n",
              "    <tr>\n",
              "      <th>3278</th>\n",
              "      <td>3279</td>\n",
              "      <td>0.0</td>\n",
              "      <td>1.0</td>\n",
              "      <td>1.0</td>\n",
              "      <td>1.0</td>\n",
              "      <td>1.0</td>\n",
              "      <td>1.0</td>\n",
              "      <td>0.0</td>\n",
              "      <td>1.0</td>\n",
              "      <td>1938.0</td>\n",
              "      <td>8110.0</td>\n",
              "      <td>3378.0</td>\n",
              "      <td>12.0000</td>\n",
              "      <td>500000.0</td>\n",
              "      <td>16.0</td>\n",
              "      <td>111</td>\n",
              "      <td>putri</td>\n",
              "    </tr>\n",
              "    <tr>\n",
              "      <th>3291</th>\n",
              "      <td>3292</td>\n",
              "      <td>0.0</td>\n",
              "      <td>0.0</td>\n",
              "      <td>1.0</td>\n",
              "      <td>0.0</td>\n",
              "      <td>1.0</td>\n",
              "      <td>0.0</td>\n",
              "      <td>0.0</td>\n",
              "      <td>0.0</td>\n",
              "      <td>1669.0</td>\n",
              "      <td>10065.0</td>\n",
              "      <td>3994.0</td>\n",
              "      <td>10.5625</td>\n",
              "      <td>400000.0</td>\n",
              "      <td>21.0</td>\n",
              "      <td>181</td>\n",
              "      <td>putri</td>\n",
              "    </tr>\n",
              "  </tbody>\n",
              "</table>\n",
              "<p>248 rows × 17 columns</p>\n",
              "</div>"
            ],
            "text/plain": [
              "        id  fac_1  fac_2  fac_3  ...  price_monthly  room_count  total_call  gender\n",
              "2        3    1.0    1.0    1.0  ...      1600000.0        20.0         109  campur\n",
              "30      31    1.0    1.0    1.0  ...      1700000.0        30.0         231  campur\n",
              "42      43    1.0    1.0    1.0  ...       600000.0        50.0         392   putri\n",
              "48      49    0.0    1.0    1.0  ...       800000.0         5.0         131   putri\n",
              "79      80    0.0    0.0    0.0  ...       320000.0         9.0         190   putra\n",
              "...    ...    ...    ...    ...  ...            ...         ...         ...     ...\n",
              "3240  3241    0.0    0.0    0.0  ...       350000.0        27.0         216   putri\n",
              "3247  3248    0.0    1.0    0.0  ...       700000.0         8.0         140   putri\n",
              "3273  3274    0.0    1.0    0.0  ...      1000000.0         6.0         130  campur\n",
              "3278  3279    0.0    1.0    1.0  ...       500000.0        16.0         111   putri\n",
              "3291  3292    0.0    0.0    1.0  ...       400000.0        21.0         181   putri\n",
              "\n",
              "[248 rows x 17 columns]"
            ]
          },
          "metadata": {
            "tags": []
          },
          "execution_count": 66
        }
      ]
    },
    {
      "cell_type": "code",
      "metadata": {
        "id": "JgLuxI-ZZbF4",
        "colab_type": "code",
        "colab": {}
      },
      "source": [
        "gender_dict =  {\n",
        "    'gender' : {\n",
        "        'putra' : 0,\n",
        "        'putri' : 1,\n",
        "        'campur' : 2\n",
        "    }\n",
        "}\n",
        "\n",
        "train_df.replace(gender_dict, inplace=True)"
      ],
      "execution_count": 0,
      "outputs": []
    },
    {
      "cell_type": "code",
      "metadata": {
        "id": "qOtCm16XZjBj",
        "colab_type": "code",
        "outputId": "bcdc4ec0-684d-4935-b1e1-bc3d565a38ee",
        "colab": {
          "base_uri": "https://localhost:8080/",
          "height": 221
        }
      },
      "source": [
        "train_df['gender']"
      ],
      "execution_count": 68,
      "outputs": [
        {
          "output_type": "execute_result",
          "data": {
            "text/plain": [
              "0       2\n",
              "1       2\n",
              "2       2\n",
              "3       2\n",
              "4       2\n",
              "       ..\n",
              "3288    1\n",
              "3289    1\n",
              "3290    2\n",
              "3291    1\n",
              "3292    0\n",
              "Name: gender, Length: 3293, dtype: int64"
            ]
          },
          "metadata": {
            "tags": []
          },
          "execution_count": 68
        }
      ]
    },
    {
      "cell_type": "code",
      "metadata": {
        "id": "O29S3bmo7DkP",
        "colab_type": "code",
        "outputId": "5f3497b3-46ee-48a8-ec0e-15996a7d3078",
        "colab": {
          "base_uri": "https://localhost:8080/",
          "height": 317
        }
      },
      "source": [
        "train_df.describe(include='all')"
      ],
      "execution_count": 69,
      "outputs": [
        {
          "output_type": "execute_result",
          "data": {
            "text/html": [
              "<div>\n",
              "<style scoped>\n",
              "    .dataframe tbody tr th:only-of-type {\n",
              "        vertical-align: middle;\n",
              "    }\n",
              "\n",
              "    .dataframe tbody tr th {\n",
              "        vertical-align: top;\n",
              "    }\n",
              "\n",
              "    .dataframe thead th {\n",
              "        text-align: right;\n",
              "    }\n",
              "</style>\n",
              "<table border=\"1\" class=\"dataframe\">\n",
              "  <thead>\n",
              "    <tr style=\"text-align: right;\">\n",
              "      <th></th>\n",
              "      <th>id</th>\n",
              "      <th>fac_1</th>\n",
              "      <th>fac_2</th>\n",
              "      <th>fac_3</th>\n",
              "      <th>fac_4</th>\n",
              "      <th>fac_5</th>\n",
              "      <th>fac_6</th>\n",
              "      <th>fac_7</th>\n",
              "      <th>fac_8</th>\n",
              "      <th>poi_1</th>\n",
              "      <th>poi_2</th>\n",
              "      <th>poi_3</th>\n",
              "      <th>size</th>\n",
              "      <th>price_monthly</th>\n",
              "      <th>room_count</th>\n",
              "      <th>total_call</th>\n",
              "      <th>gender</th>\n",
              "    </tr>\n",
              "  </thead>\n",
              "  <tbody>\n",
              "    <tr>\n",
              "      <th>count</th>\n",
              "      <td>3293.000000</td>\n",
              "      <td>3293.000000</td>\n",
              "      <td>3293.000000</td>\n",
              "      <td>3293.000000</td>\n",
              "      <td>3293.000000</td>\n",
              "      <td>3293.000000</td>\n",
              "      <td>3293.000000</td>\n",
              "      <td>3293.000000</td>\n",
              "      <td>3293.000000</td>\n",
              "      <td>3293.000000</td>\n",
              "      <td>3293.000000</td>\n",
              "      <td>3293.000000</td>\n",
              "      <td>3293.000000</td>\n",
              "      <td>3.293000e+03</td>\n",
              "      <td>3293.000000</td>\n",
              "      <td>3293.000000</td>\n",
              "      <td>3293.000000</td>\n",
              "    </tr>\n",
              "    <tr>\n",
              "      <th>mean</th>\n",
              "      <td>1647.000000</td>\n",
              "      <td>0.256605</td>\n",
              "      <td>0.617067</td>\n",
              "      <td>0.447920</td>\n",
              "      <td>0.571819</td>\n",
              "      <td>0.649256</td>\n",
              "      <td>0.419374</td>\n",
              "      <td>0.004555</td>\n",
              "      <td>0.528394</td>\n",
              "      <td>4679.478921</td>\n",
              "      <td>9920.515189</td>\n",
              "      <td>4906.215778</td>\n",
              "      <td>12.143745</td>\n",
              "      <td>8.975029e+05</td>\n",
              "      <td>10.506050</td>\n",
              "      <td>35.362587</td>\n",
              "      <td>0.895536</td>\n",
              "    </tr>\n",
              "    <tr>\n",
              "      <th>std</th>\n",
              "      <td>950.751545</td>\n",
              "      <td>0.436826</td>\n",
              "      <td>0.486176</td>\n",
              "      <td>0.497356</td>\n",
              "      <td>0.494890</td>\n",
              "      <td>0.477275</td>\n",
              "      <td>0.493532</td>\n",
              "      <td>0.067348</td>\n",
              "      <td>0.499269</td>\n",
              "      <td>3532.630340</td>\n",
              "      <td>4666.575377</td>\n",
              "      <td>3569.844884</td>\n",
              "      <td>4.900271</td>\n",
              "      <td>6.416728e+05</td>\n",
              "      <td>9.462942</td>\n",
              "      <td>47.269615</td>\n",
              "      <td>0.681304</td>\n",
              "    </tr>\n",
              "    <tr>\n",
              "      <th>min</th>\n",
              "      <td>1.000000</td>\n",
              "      <td>0.000000</td>\n",
              "      <td>0.000000</td>\n",
              "      <td>0.000000</td>\n",
              "      <td>0.000000</td>\n",
              "      <td>0.000000</td>\n",
              "      <td>0.000000</td>\n",
              "      <td>0.000000</td>\n",
              "      <td>0.000000</td>\n",
              "      <td>519.000000</td>\n",
              "      <td>168.000000</td>\n",
              "      <td>324.000000</td>\n",
              "      <td>6.000000</td>\n",
              "      <td>1.550000e+05</td>\n",
              "      <td>1.000000</td>\n",
              "      <td>1.000000</td>\n",
              "      <td>0.000000</td>\n",
              "    </tr>\n",
              "    <tr>\n",
              "      <th>25%</th>\n",
              "      <td>824.000000</td>\n",
              "      <td>0.000000</td>\n",
              "      <td>0.000000</td>\n",
              "      <td>0.000000</td>\n",
              "      <td>0.000000</td>\n",
              "      <td>0.000000</td>\n",
              "      <td>0.000000</td>\n",
              "      <td>0.000000</td>\n",
              "      <td>0.000000</td>\n",
              "      <td>2401.000000</td>\n",
              "      <td>7918.000000</td>\n",
              "      <td>2727.000000</td>\n",
              "      <td>9.000000</td>\n",
              "      <td>5.000000e+05</td>\n",
              "      <td>4.000000</td>\n",
              "      <td>8.000000</td>\n",
              "      <td>0.000000</td>\n",
              "    </tr>\n",
              "    <tr>\n",
              "      <th>50%</th>\n",
              "      <td>1647.000000</td>\n",
              "      <td>0.000000</td>\n",
              "      <td>1.000000</td>\n",
              "      <td>0.000000</td>\n",
              "      <td>1.000000</td>\n",
              "      <td>1.000000</td>\n",
              "      <td>0.000000</td>\n",
              "      <td>0.000000</td>\n",
              "      <td>1.000000</td>\n",
              "      <td>4011.000000</td>\n",
              "      <td>9326.000000</td>\n",
              "      <td>3995.000000</td>\n",
              "      <td>12.000000</td>\n",
              "      <td>6.670000e+05</td>\n",
              "      <td>8.000000</td>\n",
              "      <td>20.000000</td>\n",
              "      <td>1.000000</td>\n",
              "    </tr>\n",
              "    <tr>\n",
              "      <th>75%</th>\n",
              "      <td>2470.000000</td>\n",
              "      <td>1.000000</td>\n",
              "      <td>1.000000</td>\n",
              "      <td>1.000000</td>\n",
              "      <td>1.000000</td>\n",
              "      <td>1.000000</td>\n",
              "      <td>1.000000</td>\n",
              "      <td>0.000000</td>\n",
              "      <td>1.000000</td>\n",
              "      <td>5850.000000</td>\n",
              "      <td>12354.000000</td>\n",
              "      <td>5957.000000</td>\n",
              "      <td>12.143745</td>\n",
              "      <td>1.100000e+06</td>\n",
              "      <td>14.000000</td>\n",
              "      <td>44.000000</td>\n",
              "      <td>1.000000</td>\n",
              "    </tr>\n",
              "    <tr>\n",
              "      <th>max</th>\n",
              "      <td>3293.000000</td>\n",
              "      <td>1.000000</td>\n",
              "      <td>1.000000</td>\n",
              "      <td>1.000000</td>\n",
              "      <td>1.000000</td>\n",
              "      <td>1.000000</td>\n",
              "      <td>1.000000</td>\n",
              "      <td>1.000000</td>\n",
              "      <td>1.000000</td>\n",
              "      <td>48675.000000</td>\n",
              "      <td>55105.000000</td>\n",
              "      <td>46517.000000</td>\n",
              "      <td>48.000000</td>\n",
              "      <td>5.000000e+06</td>\n",
              "      <td>121.000000</td>\n",
              "      <td>769.000000</td>\n",
              "      <td>2.000000</td>\n",
              "    </tr>\n",
              "  </tbody>\n",
              "</table>\n",
              "</div>"
            ],
            "text/plain": [
              "                id        fac_1  ...   total_call       gender\n",
              "count  3293.000000  3293.000000  ...  3293.000000  3293.000000\n",
              "mean   1647.000000     0.256605  ...    35.362587     0.895536\n",
              "std     950.751545     0.436826  ...    47.269615     0.681304\n",
              "min       1.000000     0.000000  ...     1.000000     0.000000\n",
              "25%     824.000000     0.000000  ...     8.000000     0.000000\n",
              "50%    1647.000000     0.000000  ...    20.000000     1.000000\n",
              "75%    2470.000000     1.000000  ...    44.000000     1.000000\n",
              "max    3293.000000     1.000000  ...   769.000000     2.000000\n",
              "\n",
              "[8 rows x 17 columns]"
            ]
          },
          "metadata": {
            "tags": []
          },
          "execution_count": 69
        }
      ]
    },
    {
      "cell_type": "code",
      "metadata": {
        "id": "MTFecl2t-k7A",
        "colab_type": "code",
        "outputId": "af409b2a-5a9f-4c7d-db30-d41bf791c67a",
        "colab": {
          "base_uri": "https://localhost:8080/",
          "height": 983
        }
      },
      "source": [
        "plt.figure(figsize = (16,16))\n",
        "ax = sns.heatmap(train_df.corr(), annot=True, linewidths=.5)"
      ],
      "execution_count": 70,
      "outputs": [
        {
          "output_type": "display_data",
          "data": {
            "image/png": "[encoded data removed]",
            "text/plain": [
              "<Figure size 1152x1152 with 2 Axes>"
            ]
          },
          "metadata": {
            "tags": []
          }
        }
      ]
    },
    {
      "cell_type": "code",
      "metadata": {
        "id": "b7oBtoQ0St8H",
        "colab_type": "code",
        "colab": {}
      },
      "source": [
        "x = train_df.loc[:,'fac_1':'fac_8']\n",
        "y = train_df.loc[:,'gender':]"
      ],
      "execution_count": 0,
      "outputs": []
    },
    {
      "cell_type": "code",
      "metadata": {
        "id": "NJwVk5yt_IFw",
        "colab_type": "code",
        "colab": {}
      },
      "source": [
        "features = train_df.loc[:,'poi_1':'total_call']\n",
        "label = train_df.loc[:,'gender':]\n",
        "# train_label"
      ],
      "execution_count": 0,
      "outputs": []
    },
    {
      "cell_type": "code",
      "metadata": {
        "id": "RMc-LzePAnak",
        "colab_type": "code",
        "colab": {}
      },
      "source": [
        "# from sklearn.preprocessing import StandardScaler\n",
        "# sc = StandardScaler()\n",
        "# X = sc.fit_transform(train_features)\n",
        "# X"
      ],
      "execution_count": 0,
      "outputs": []
    },
    {
      "cell_type": "code",
      "metadata": {
        "id": "bhVjHhxeSuHM",
        "colab_type": "code",
        "colab": {}
      },
      "source": [
        "X_train, X_test, y_train, y_test = train_test_split(features, label, test_size=0.2, random_state=42)"
      ],
      "execution_count": 0,
      "outputs": []
    },
    {
      "cell_type": "code",
      "metadata": {
        "id": "pJ2xc2R9A-cy",
        "colab_type": "code",
        "colab": {}
      },
      "source": [
        "# from keras import Sequential\n",
        "# from keras.layers import Dense\n",
        "\n",
        "classifier = Sequential()\n",
        "#First Hidden Layer\n",
        "classifier.add(Dense(4, activation='relu', kernel_initializer='random_normal', input_dim=7))\n",
        "classifier.add(Dropout(0.2))\n",
        "#Second  Hidden Layer\n",
        "classifier.add(Dense(4, activation='relu', kernel_initializer='random_normal'))\n",
        "classifier.add(Dropout(0.2))\n",
        "#Third  Hidden Layer\n",
        "# classifier.add(Dense(2, activation='relu', kernel_initializer='random_normal'))\n",
        "# classifier.add(Dropout(0.2))\n",
        "#Output Layer\n",
        "classifier.add(Dense(1, activation='sigmoid', kernel_initializer='random_normal'))"
      ],
      "execution_count": 0,
      "outputs": []
    },
    {
      "cell_type": "code",
      "metadata": {
        "id": "QURUtnPioOVT",
        "colab_type": "code",
        "colab": {
          "base_uri": "https://localhost:8080/",
          "height": 323
        },
        "outputId": "b46f7057-c6d7-40e2-f863-6fe0ee513bc3"
      },
      "source": [
        "classifier.summary()"
      ],
      "execution_count": 96,
      "outputs": [
        {
          "output_type": "stream",
          "text": [
            "Model: \"sequential_6\"\n",
            "_________________________________________________________________\n",
            "Layer (type)                 Output Shape              Param #   \n",
            "=================================================================\n",
            "dense_20 (Dense)             (None, 4)                 32        \n",
            "_________________________________________________________________\n",
            "dropout_14 (Dropout)         (None, 4)                 0         \n",
            "_________________________________________________________________\n",
            "dense_21 (Dense)             (None, 4)                 20        \n",
            "_________________________________________________________________\n",
            "dropout_15 (Dropout)         (None, 4)                 0         \n",
            "_________________________________________________________________\n",
            "dense_22 (Dense)             (None, 1)                 5         \n",
            "=================================================================\n",
            "Total params: 57\n",
            "Trainable params: 57\n",
            "Non-trainable params: 0\n",
            "_________________________________________________________________\n"
          ],
          "name": "stdout"
        }
      ]
    },
    {
      "cell_type": "code",
      "metadata": {
        "id": "xJWh0XZDCmMF",
        "colab_type": "code",
        "colab": {}
      },
      "source": [
        "classifier.compile(optimizer ='adam',loss='categorical_crossentropy', metrics =['accuracy'])"
      ],
      "execution_count": 0,
      "outputs": []
    },
    {
      "cell_type": "code",
      "metadata": {
        "id": "7fkl1ARxCu7s",
        "colab_type": "code",
        "outputId": "b899527f-b3db-41be-d89b-5042aa293f48",
        "colab": {
          "base_uri": "https://localhost:8080/",
          "height": 714
        }
      },
      "source": [
        "classifier.fit(X_train,y_train, batch_size=10, epochs=20)"
      ],
      "execution_count": 99,
      "outputs": [
        {
          "output_type": "stream",
          "text": [
            "Epoch 1/20\n",
            "264/264 [==============================] - 0s 1ms/step - loss: nan - accuracy: 0.2904\n",
            "Epoch 2/20\n",
            "264/264 [==============================] - 0s 1ms/step - loss: nan - accuracy: 0.2904\n",
            "Epoch 3/20\n",
            "264/264 [==============================] - 0s 1ms/step - loss: nan - accuracy: 0.2904\n",
            "Epoch 4/20\n",
            "264/264 [==============================] - 0s 1ms/step - loss: nan - accuracy: 0.2904\n",
            "Epoch 5/20\n",
            "264/264 [==============================] - 0s 1ms/step - loss: nan - accuracy: 0.2904\n",
            "Epoch 6/20\n",
            "264/264 [==============================] - 0s 1ms/step - loss: nan - accuracy: 0.2904\n",
            "Epoch 7/20\n",
            "264/264 [==============================] - 0s 1ms/step - loss: nan - accuracy: 0.2904\n",
            "Epoch 8/20\n",
            "264/264 [==============================] - 0s 1ms/step - loss: nan - accuracy: 0.2904\n",
            "Epoch 9/20\n",
            "264/264 [==============================] - 0s 1ms/step - loss: nan - accuracy: 0.2904\n",
            "Epoch 10/20\n",
            "264/264 [==============================] - 0s 1ms/step - loss: nan - accuracy: 0.2904\n",
            "Epoch 11/20\n",
            "264/264 [==============================] - 0s 1ms/step - loss: nan - accuracy: 0.2904\n",
            "Epoch 12/20\n",
            "264/264 [==============================] - 0s 1ms/step - loss: nan - accuracy: 0.2904\n",
            "Epoch 13/20\n",
            "264/264 [==============================] - 0s 1ms/step - loss: nan - accuracy: 0.2904\n",
            "Epoch 14/20\n",
            "264/264 [==============================] - 0s 1ms/step - loss: nan - accuracy: 0.2904\n",
            "Epoch 15/20\n",
            "264/264 [==============================] - 0s 1ms/step - loss: nan - accuracy: 0.2904\n",
            "Epoch 16/20\n",
            "264/264 [==============================] - 0s 1ms/step - loss: nan - accuracy: 0.2904\n",
            "Epoch 17/20\n",
            "264/264 [==============================] - 0s 1ms/step - loss: nan - accuracy: 0.2904\n",
            "Epoch 18/20\n",
            "264/264 [==============================] - 0s 1ms/step - loss: nan - accuracy: 0.2904\n",
            "Epoch 19/20\n",
            "264/264 [==============================] - 0s 1ms/step - loss: nan - accuracy: 0.2904\n",
            "Epoch 20/20\n",
            "264/264 [==============================] - 0s 1ms/step - loss: nan - accuracy: 0.2904\n"
          ],
          "name": "stdout"
        },
        {
          "output_type": "execute_result",
          "data": {
            "text/plain": [
              "<tensorflow.python.keras.callbacks.History at 0x7f92df21dd68>"
            ]
          },
          "metadata": {
            "tags": []
          },
          "execution_count": 99
        }
      ]
    },
    {
      "cell_type": "code",
      "metadata": {
        "id": "1sWGCCVADqeH",
        "colab_type": "code",
        "outputId": "5c5c6798-f3ed-451f-d357-c0058c8ed5e3",
        "colab": {
          "base_uri": "https://localhost:8080/",
          "height": 51
        }
      },
      "source": [
        "eval_model=classifier.evaluate(X_train, y_train)\n",
        "eval_model"
      ],
      "execution_count": 100,
      "outputs": [
        {
          "output_type": "stream",
          "text": [
            "83/83 [==============================] - 0s 967us/step - loss: nan - accuracy: 0.2904\n"
          ],
          "name": "stdout"
        },
        {
          "output_type": "execute_result",
          "data": {
            "text/plain": [
              "[nan, 0.29043281078338623]"
            ]
          },
          "metadata": {
            "tags": []
          },
          "execution_count": 100
        }
      ]
    },
    {
      "cell_type": "code",
      "metadata": {
        "id": "eK9tJaYCD-Fm",
        "colab_type": "code",
        "colab": {}
      },
      "source": [
        "# y_pred=classifier.predict(X_test)"
      ],
      "execution_count": 0,
      "outputs": []
    },
    {
      "cell_type": "code",
      "metadata": {
        "id": "vGnViZBNSuLb",
        "colab_type": "code",
        "colab": {}
      },
      "source": [
        "# input_layer = Input(shape=(train_features.shape[1],))\n",
        "# dense_layer_1 = Dense(15, activation='relu')(input_layer)\n",
        "# dense_layer_2 = Dense(10, activation='relu')(dense_layer_1)\n",
        "# output = Dense(train_label.shape[1], activation='softmax')(dense_layer_2)\n",
        "\n",
        "# model = Model(inputs=input_layer, outputs=output)\n",
        "# model.compile(loss='categorical_crossentropy', optimizer='adam', metrics=['acc'])\n",
        "\n"
      ],
      "execution_count": 0,
      "outputs": []
    },
    {
      "cell_type": "code",
      "metadata": {
        "id": "sfS0BUpwSuS9",
        "colab_type": "code",
        "colab": {}
      },
      "source": [
        "# train_label.shape"
      ],
      "execution_count": 0,
      "outputs": []
    },
    {
      "cell_type": "code",
      "metadata": {
        "id": "e0uMsj8lSuVp",
        "colab_type": "code",
        "colab": {}
      },
      "source": [
        "# model.summary()"
      ],
      "execution_count": 0,
      "outputs": []
    },
    {
      "cell_type": "code",
      "metadata": {
        "id": "27LWprdqSuYs",
        "colab_type": "code",
        "colab": {}
      },
      "source": [
        "# history = model.fit(X_train, y_train, batch_size=8, epochs=50, verbose=1, validation_split=0.3)"
      ],
      "execution_count": 0,
      "outputs": []
    },
    {
      "cell_type": "code",
      "metadata": {
        "id": "iSBYRyDgSucx",
        "colab_type": "code",
        "colab": {}
      },
      "source": [
        "# score = model.evaluate(X_test, y_test, verbose=1)\n",
        "\n",
        "# print(\"Test Score:\", score[0])\n",
        "# print(\"Test Accuracy:\", score[1])"
      ],
      "execution_count": 0,
      "outputs": []
    },
    {
      "cell_type": "code",
      "metadata": {
        "id": "tgPEscu2Suh6",
        "colab_type": "code",
        "colab": {}
      },
      "source": [
        "# score"
      ],
      "execution_count": 0,
      "outputs": []
    },
    {
      "cell_type": "code",
      "metadata": {
        "id": "q6PA5AGSSufe",
        "colab_type": "code",
        "colab": {}
      },
      "source": [
        ""
      ],
      "execution_count": 0,
      "outputs": []
    },
    {
      "cell_type": "code",
      "metadata": {
        "id": "k6rXCRRJSua3",
        "colab_type": "code",
        "colab": {}
      },
      "source": [
        ""
      ],
      "execution_count": 0,
      "outputs": []
    }
  ]
}